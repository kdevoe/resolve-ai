{
  "cells": [
    {
      "cell_type": "markdown",
      "metadata": {
        "id": "QpS6ty1_3jbu"
      },
      "source": [
        "# Binary Classifier with Revised EDA"
      ]
    },
    {
      "cell_type": "code",
      "execution_count": 1,
      "metadata": {
        "id": "65HGyqto37NK"
      },
      "outputs": [],
      "source": [
        "!pip install kagglehub[pandas-datasets] --quiet"
      ]
    },
    {
      "cell_type": "code",
      "execution_count": 2,
      "metadata": {
        "colab": {
          "base_uri": "https://localhost:8080/"
        },
        "id": "lyIKgMCoDGqM",
        "outputId": "7f61f278-c3ea-4e99-a673-3294889d5b4a"
      },
      "outputs": [
        {
          "output_type": "stream",
          "name": "stdout",
          "text": [
            "\u001b[?25l   \u001b[90m━━━━━━━━━━━━━━━━━━━━━━━━━━━━━━━━━━━━━━━━\u001b[0m \u001b[32m0.0/84.0 kB\u001b[0m \u001b[31m?\u001b[0m eta \u001b[36m-:--:--\u001b[0m\r\u001b[2K   \u001b[90m━━━━━━━━━━━━━━━━━━━━━━━━━━━━━━━━━━━━━━━━\u001b[0m \u001b[32m84.0/84.0 kB\u001b[0m \u001b[31m3.7 MB/s\u001b[0m eta \u001b[36m0:00:00\u001b[0m\n",
            "\u001b[?25h\u001b[?25l   \u001b[90m━━━━━━━━━━━━━━━━━━━━━━━━━━━━━━━━━━━━━━━━\u001b[0m \u001b[32m0.0/491.2 kB\u001b[0m \u001b[31m?\u001b[0m eta \u001b[36m-:--:--\u001b[0m\r\u001b[2K   \u001b[90m━━━━━━━━━━━━━━━━━━━━━━━━━━━━━━━━━━━━━━━━\u001b[0m \u001b[32m491.2/491.2 kB\u001b[0m \u001b[31m16.1 MB/s\u001b[0m eta \u001b[36m0:00:00\u001b[0m\n",
            "\u001b[?25h\u001b[?25l   \u001b[90m━━━━━━━━━━━━━━━━━━━━━━━━━━━━━━━━━━━━━━━━\u001b[0m \u001b[32m0.0/116.3 kB\u001b[0m \u001b[31m?\u001b[0m eta \u001b[36m-:--:--\u001b[0m\r\u001b[2K   \u001b[90m━━━━━━━━━━━━━━━━━━━━━━━━━━━━━━━━━━━━━━━━\u001b[0m \u001b[32m116.3/116.3 kB\u001b[0m \u001b[31m9.9 MB/s\u001b[0m eta \u001b[36m0:00:00\u001b[0m\n",
            "\u001b[2K   \u001b[90m━━━━━━━━━━━━━━━━━━━━━━━━━━━━━━━━━━━━━━━━\u001b[0m \u001b[32m183.9/183.9 kB\u001b[0m \u001b[31m14.6 MB/s\u001b[0m eta \u001b[36m0:00:00\u001b[0m\n",
            "\u001b[2K   \u001b[90m━━━━━━━━━━━━━━━━━━━━━━━━━━━━━━━━━━━━━━━━\u001b[0m \u001b[32m143.5/143.5 kB\u001b[0m \u001b[31m12.4 MB/s\u001b[0m eta \u001b[36m0:00:00\u001b[0m\n",
            "\u001b[2K   \u001b[90m━━━━━━━━━━━━━━━━━━━━━━━━━━━━━━━━━━━━━━━━\u001b[0m \u001b[32m363.4/363.4 MB\u001b[0m \u001b[31m4.6 MB/s\u001b[0m eta \u001b[36m0:00:00\u001b[0m\n",
            "\u001b[2K   \u001b[90m━━━━━━━━━━━━━━━━━━━━━━━━━━━━━━━━━━━━━━━━\u001b[0m \u001b[32m13.8/13.8 MB\u001b[0m \u001b[31m64.3 MB/s\u001b[0m eta \u001b[36m0:00:00\u001b[0m\n",
            "\u001b[2K   \u001b[90m━━━━━━━━━━━━━━━━━━━━━━━━━━━━━━━━━━━━━━━━\u001b[0m \u001b[32m24.6/24.6 MB\u001b[0m \u001b[31m34.0 MB/s\u001b[0m eta \u001b[36m0:00:00\u001b[0m\n",
            "\u001b[2K   \u001b[90m━━━━━━━━━━━━━━━━━━━━━━━━━━━━━━━━━━━━━━━━\u001b[0m \u001b[32m883.7/883.7 kB\u001b[0m \u001b[31m23.7 MB/s\u001b[0m eta \u001b[36m0:00:00\u001b[0m\n",
            "\u001b[2K   \u001b[90m━━━━━━━━━━━━━━━━━━━━━━━━━━━━━━━━━━━━━━━━\u001b[0m \u001b[32m664.8/664.8 MB\u001b[0m \u001b[31m2.0 MB/s\u001b[0m eta \u001b[36m0:00:00\u001b[0m\n",
            "\u001b[2K   \u001b[90m━━━━━━━━━━━━━━━━━━━━━━━━━━━━━━━━━━━━━━━━\u001b[0m \u001b[32m211.5/211.5 MB\u001b[0m \u001b[31m5.2 MB/s\u001b[0m eta \u001b[36m0:00:00\u001b[0m\n",
            "\u001b[2K   \u001b[90m━━━━━━━━━━━━━━━━━━━━━━━━━━━━━━━━━━━━━━━━\u001b[0m \u001b[32m56.3/56.3 MB\u001b[0m \u001b[31m12.4 MB/s\u001b[0m eta \u001b[36m0:00:00\u001b[0m\n",
            "\u001b[2K   \u001b[90m━━━━━━━━━━━━━━━━━━━━━━━━━━━━━━━━━━━━━━━━\u001b[0m \u001b[32m127.9/127.9 MB\u001b[0m \u001b[31m6.5 MB/s\u001b[0m eta \u001b[36m0:00:00\u001b[0m\n",
            "\u001b[2K   \u001b[90m━━━━━━━━━━━━━━━━━━━━━━━━━━━━━━━━━━━━━━━━\u001b[0m \u001b[32m207.5/207.5 MB\u001b[0m \u001b[31m4.2 MB/s\u001b[0m eta \u001b[36m0:00:00\u001b[0m\n",
            "\u001b[2K   \u001b[90m━━━━━━━━━━━━━━━━━━━━━━━━━━━━━━━━━━━━━━━━\u001b[0m \u001b[32m21.1/21.1 MB\u001b[0m \u001b[31m41.1 MB/s\u001b[0m eta \u001b[36m0:00:00\u001b[0m\n",
            "\u001b[2K   \u001b[90m━━━━━━━━━━━━━━━━━━━━━━━━━━━━━━━━━━━━━━━━\u001b[0m \u001b[32m194.8/194.8 kB\u001b[0m \u001b[31m16.6 MB/s\u001b[0m eta \u001b[36m0:00:00\u001b[0m\n",
            "\u001b[?25h\u001b[31mERROR: pip's dependency resolver does not currently take into account all the packages that are installed. This behaviour is the source of the following dependency conflicts.\n",
            "gcsfs 2025.3.2 requires fsspec==2025.3.2, but you have fsspec 2024.12.0 which is incompatible.\u001b[0m\u001b[31m\n",
            "\u001b[0m"
          ]
        }
      ],
      "source": [
        "!pip install transformers evaluate accelerate --quiet"
      ]
    },
    {
      "cell_type": "code",
      "execution_count": 3,
      "metadata": {
        "id": "XchJVNddDIq0",
        "colab": {
          "base_uri": "https://localhost:8080/"
        },
        "outputId": "74569da1-9ab8-460c-8f94-43dc709f0151"
      },
      "outputs": [
        {
          "output_type": "stream",
          "name": "stdout",
          "text": [
            "\u001b[2K   \u001b[90m━━━━━━━━━━━━━━━━━━━━━━━━━━━━━━━━━━━━━━━━\u001b[0m \u001b[32m363.3/363.3 MB\u001b[0m \u001b[31m3.7 MB/s\u001b[0m eta \u001b[36m0:00:00\u001b[0m\n",
            "\u001b[2K   \u001b[90m━━━━━━━━━━━━━━━━━━━━━━━━━━━━━━━━━━━━━━━━\u001b[0m \u001b[32m13.8/13.8 MB\u001b[0m \u001b[31m45.4 MB/s\u001b[0m eta \u001b[36m0:00:00\u001b[0m\n",
            "\u001b[2K   \u001b[90m━━━━━━━━━━━━━━━━━━━━━━━━━━━━━━━━━━━━━━━━\u001b[0m \u001b[32m24.9/24.9 MB\u001b[0m \u001b[31m31.0 MB/s\u001b[0m eta \u001b[36m0:00:00\u001b[0m\n",
            "\u001b[2K   \u001b[90m━━━━━━━━━━━━━━━━━━━━━━━━━━━━━━━━━━━━━━━━\u001b[0m \u001b[32m895.7/895.7 kB\u001b[0m \u001b[31m26.6 MB/s\u001b[0m eta \u001b[36m0:00:00\u001b[0m\n",
            "\u001b[2K   \u001b[90m━━━━━━━━━━━━━━━━━━━━━━━━━━━━━━━━━━━━━━━━\u001b[0m \u001b[32m577.2/577.2 MB\u001b[0m \u001b[31m2.9 MB/s\u001b[0m eta \u001b[36m0:00:00\u001b[0m\n",
            "\u001b[2K   \u001b[90m━━━━━━━━━━━━━━━━━━━━━━━━━━━━━━━━━━━━━━━━\u001b[0m \u001b[32m192.5/192.5 MB\u001b[0m \u001b[31m6.8 MB/s\u001b[0m eta \u001b[36m0:00:00\u001b[0m\n",
            "\u001b[2K   \u001b[90m━━━━━━━━━━━━━━━━━━━━━━━━━━━━━━━━━━━━━━━━\u001b[0m \u001b[32m56.3/56.3 MB\u001b[0m \u001b[31m13.2 MB/s\u001b[0m eta \u001b[36m0:00:00\u001b[0m\n",
            "\u001b[2K   \u001b[90m━━━━━━━━━━━━━━━━━━━━━━━━━━━━━━━━━━━━━━━━\u001b[0m \u001b[32m130.3/130.3 MB\u001b[0m \u001b[31m6.6 MB/s\u001b[0m eta \u001b[36m0:00:00\u001b[0m\n",
            "\u001b[2K   \u001b[90m━━━━━━━━━━━━━━━━━━━━━━━━━━━━━━━━━━━━━━━━\u001b[0m \u001b[32m217.6/217.6 MB\u001b[0m \u001b[31m5.6 MB/s\u001b[0m eta \u001b[36m0:00:00\u001b[0m\n",
            "\u001b[2K   \u001b[90m━━━━━━━━━━━━━━━━━━━━━━━━━━━━━━━━━━━━━━━━\u001b[0m \u001b[32m21.3/21.3 MB\u001b[0m \u001b[31m69.7 MB/s\u001b[0m eta \u001b[36m0:00:00\u001b[0m\n",
            "\u001b[?25h\u001b[31mERROR: pip's dependency resolver does not currently take into account all the packages that are installed. This behaviour is the source of the following dependency conflicts.\n",
            "torch 2.6.0+cu124 requires nvidia-cublas-cu12==12.4.5.8; platform_system == \"Linux\" and platform_machine == \"x86_64\", but you have nvidia-cublas-cu12 12.5.3.2 which is incompatible.\n",
            "torch 2.6.0+cu124 requires nvidia-cuda-cupti-cu12==12.4.127; platform_system == \"Linux\" and platform_machine == \"x86_64\", but you have nvidia-cuda-cupti-cu12 12.5.82 which is incompatible.\n",
            "torch 2.6.0+cu124 requires nvidia-cuda-nvrtc-cu12==12.4.127; platform_system == \"Linux\" and platform_machine == \"x86_64\", but you have nvidia-cuda-nvrtc-cu12 12.5.82 which is incompatible.\n",
            "torch 2.6.0+cu124 requires nvidia-cuda-runtime-cu12==12.4.127; platform_system == \"Linux\" and platform_machine == \"x86_64\", but you have nvidia-cuda-runtime-cu12 12.5.82 which is incompatible.\n",
            "torch 2.6.0+cu124 requires nvidia-cudnn-cu12==9.1.0.70; platform_system == \"Linux\" and platform_machine == \"x86_64\", but you have nvidia-cudnn-cu12 9.3.0.75 which is incompatible.\n",
            "torch 2.6.0+cu124 requires nvidia-cufft-cu12==11.2.1.3; platform_system == \"Linux\" and platform_machine == \"x86_64\", but you have nvidia-cufft-cu12 11.2.3.61 which is incompatible.\n",
            "torch 2.6.0+cu124 requires nvidia-curand-cu12==10.3.5.147; platform_system == \"Linux\" and platform_machine == \"x86_64\", but you have nvidia-curand-cu12 10.3.6.82 which is incompatible.\n",
            "torch 2.6.0+cu124 requires nvidia-cusolver-cu12==11.6.1.9; platform_system == \"Linux\" and platform_machine == \"x86_64\", but you have nvidia-cusolver-cu12 11.6.3.83 which is incompatible.\n",
            "torch 2.6.0+cu124 requires nvidia-cusparse-cu12==12.3.1.170; platform_system == \"Linux\" and platform_machine == \"x86_64\", but you have nvidia-cusparse-cu12 12.5.1.3 which is incompatible.\n",
            "torch 2.6.0+cu124 requires nvidia-nvjitlink-cu12==12.4.127; platform_system == \"Linux\" and platform_machine == \"x86_64\", but you have nvidia-nvjitlink-cu12 12.5.82 which is incompatible.\u001b[0m\u001b[31m\n",
            "\u001b[0m"
          ]
        }
      ],
      "source": [
        "!pip install tensorflow[and-cuda] --quiet"
      ]
    },
    {
      "cell_type": "code",
      "execution_count": 4,
      "metadata": {
        "id": "90euq47E9OwB",
        "colab": {
          "base_uri": "https://localhost:8080/"
        },
        "outputId": "8c34f958-a428-436c-bdd2-5ac5a2d8836f"
      },
      "outputs": [
        {
          "output_type": "stream",
          "name": "stdout",
          "text": [
            "\u001b[?25l   \u001b[90m━━━━━━━━━━━━━━━━━━━━━━━━━━━━━━━━━━━━━━━━\u001b[0m \u001b[32m0.0/129.1 kB\u001b[0m \u001b[31m?\u001b[0m eta \u001b[36m-:--:--\u001b[0m\r\u001b[2K   \u001b[90m━━━━━━━━━━━━━━━━━━━━━━━━━━━━━━━━━━━━━━━━\u001b[0m \u001b[32m129.1/129.1 kB\u001b[0m \u001b[31m10.1 MB/s\u001b[0m eta \u001b[36m0:00:00\u001b[0m\n",
            "\u001b[?25h"
          ]
        }
      ],
      "source": [
        "!pip install keras-tuner --quiet"
      ]
    },
    {
      "cell_type": "code",
      "execution_count": 5,
      "metadata": {
        "id": "RCeoIrEu_GSg"
      },
      "outputs": [],
      "source": [
        "!pip install shap --quiet"
      ]
    },
    {
      "cell_type": "code",
      "execution_count": 36,
      "metadata": {
        "colab": {
          "base_uri": "https://localhost:8080/"
        },
        "id": "xHrIneGw88tL",
        "outputId": "8d9ebc48-ae02-4352-8c23-6365c749fad9"
      },
      "outputs": [
        {
          "output_type": "stream",
          "name": "stderr",
          "text": [
            "[nltk_data] Downloading package stopwords to /root/nltk_data...\n",
            "[nltk_data]   Package stopwords is already up-to-date!\n"
          ]
        }
      ],
      "source": [
        "# Data Related\n",
        "import kagglehub\n",
        "from kagglehub import KaggleDatasetAdapter\n",
        "import pandas as pd\n",
        "import numpy as np\n",
        "import matplotlib.pyplot as plt\n",
        "from sklearn.preprocessing import LabelEncoder\n",
        "from imblearn.under_sampling import RandomUnderSampler\n",
        "\n",
        "\n",
        "\n",
        "# NLP and DL\n",
        "import tensorflow as tf\n",
        "import tensorflow_hub as hub\n",
        "import tensorflow_text as text\n",
        "from tensorflow.keras import mixed_precision\n",
        "from sklearn.model_selection import train_test_split\n",
        "from tensorflow.keras.preprocessing.text import Tokenizer\n",
        "from tensorflow.keras.preprocessing.sequence import pad_sequences\n",
        "from tensorflow.keras.regularizers import l2\n",
        "from tensorflow.keras.optimizers import Adam\n",
        "from tensorflow.keras.models import Sequential, Model\n",
        "from tensorflow.keras.layers import (Embedding,\n",
        "                                     Concatenate,\n",
        "                                     Input,\n",
        "                                     LSTM,\n",
        "                                     Bidirectional,\n",
        "                                     Dense,\n",
        "                                     GlobalAveragePooling1D,\n",
        "                                     GlobalMaxPooling1D,\n",
        "                                     BatchNormalization,\n",
        "                                     Dropout)\n",
        "from tensorflow.keras.metrics import Precision, Recall, F1Score\n",
        "from kerastuner import HyperModel\n",
        "from kerastuner.tuners import RandomSearch\n",
        "import shap\n",
        "from sklearn.metrics import precision_score, recall_score, f1_score\n",
        "\n",
        "\n",
        "# Misc\n",
        "import sys\n",
        "from wordcloud import WordCloud\n",
        "from collections import Counter\n",
        "import re\n",
        "import nltk\n",
        "\n",
        "nltk.download('stopwords')\n",
        "from nltk.corpus import stopwords\n",
        "from nltk import ngrams\n",
        "import pickle"
      ]
    },
    {
      "cell_type": "code",
      "execution_count": 7,
      "metadata": {
        "colab": {
          "base_uri": "https://localhost:8080/"
        },
        "id": "cI9eBII5DU2F",
        "outputId": "9266f5e3-e035-46a1-df01-f838063e9f53"
      },
      "outputs": [
        {
          "output_type": "stream",
          "name": "stdout",
          "text": [
            "Num GPUs Available: 1\n"
          ]
        }
      ],
      "source": [
        "print(\"Num GPUs Available:\", len(tf.config.experimental.list_physical_devices('GPU')))\n",
        "# Enable Tensor Core acceleration\n",
        "mixed_precision.set_global_policy(\"mixed_float16\")"
      ]
    },
    {
      "cell_type": "markdown",
      "metadata": {
        "id": "8ULNqtWKDOiV"
      },
      "source": [
        "## Version Check"
      ]
    },
    {
      "cell_type": "code",
      "execution_count": 8,
      "metadata": {
        "colab": {
          "base_uri": "https://localhost:8080/"
        },
        "id": "uC7bKjh9DROF",
        "outputId": "05fa6a12-db70-4c3c-87ae-9d0f5357d051"
      },
      "outputs": [
        {
          "output_type": "stream",
          "name": "stdout",
          "text": [
            "Python: 3.11.11 (main, Dec  4 2024, 08:55:07) [GCC 11.4.0]\n",
            "Pandas: 2.2.2\n",
            "NumPy: 2.0.2\n",
            "Tensorflow: 2.18.0\n"
          ]
        }
      ],
      "source": [
        "print('Python: {}'.format(sys.version))\n",
        "print('Pandas: {}'.format(pd.__version__))\n",
        "print('NumPy: {}'.format(np.__version__))\n",
        "print('Tensorflow: {}'.format(tf.__version__))"
      ]
    },
    {
      "cell_type": "markdown",
      "metadata": {
        "id": "KfPttpRBEEtl"
      },
      "source": [
        "## Data Cleaning"
      ]
    },
    {
      "cell_type": "code",
      "execution_count": 9,
      "metadata": {
        "colab": {
          "base_uri": "https://localhost:8080/"
        },
        "id": "kcUft5tZ3g61",
        "outputId": "a8ad4ba3-7b94-4315-df47-69575f59af23"
      },
      "outputs": [
        {
          "output_type": "stream",
          "name": "stderr",
          "text": [
            "<ipython-input-9-3398c303bdef>:4: DeprecationWarning: load_dataset is deprecated and will be removed in future version.\n",
            "  df = kagglehub.load_dataset(\n"
          ]
        },
        {
          "output_type": "stream",
          "name": "stdout",
          "text": [
            "Downloading from https://www.kaggle.com/api/v1/datasets/download/tobiasbueck/multilingual-customer-support-tickets?dataset_version_number=9&file_name=dataset-tickets-multi-lang-4-20k.csv...\n"
          ]
        },
        {
          "output_type": "stream",
          "name": "stderr",
          "text": [
            "100%|██████████| 17.9M/17.9M [00:02<00:00, 6.90MB/s]\n"
          ]
        }
      ],
      "source": [
        "file_path = \"dataset-tickets-multi-lang-4-20k.csv\"\n",
        "\n",
        "# Load the latest version\n",
        "df = kagglehub.load_dataset(\n",
        "  KaggleDatasetAdapter.PANDAS,\n",
        "  \"tobiasbueck/multilingual-customer-support-tickets\",\n",
        "  file_path,\n",
        ")"
      ]
    },
    {
      "cell_type": "code",
      "execution_count": 10,
      "metadata": {
        "colab": {
          "base_uri": "https://localhost:8080/"
        },
        "id": "VKA0sZ7S6xPF",
        "outputId": "25a31fad-b5d7-4439-a8aa-dede5a8b40f7"
      },
      "outputs": [
        {
          "output_type": "stream",
          "name": "stdout",
          "text": [
            "<class 'pandas.core.frame.DataFrame'>\n",
            "RangeIndex: 20000 entries, 0 to 19999\n",
            "Data columns (total 15 columns):\n",
            " #   Column    Non-Null Count  Dtype \n",
            "---  ------    --------------  ----- \n",
            " 0   subject   18539 non-null  object\n",
            " 1   body      19998 non-null  object\n",
            " 2   answer    19996 non-null  object\n",
            " 3   type      20000 non-null  object\n",
            " 4   queue     20000 non-null  object\n",
            " 5   priority  20000 non-null  object\n",
            " 6   language  20000 non-null  object\n",
            " 7   tag_1     20000 non-null  object\n",
            " 8   tag_2     19954 non-null  object\n",
            " 9   tag_3     19905 non-null  object\n",
            " 10  tag_4     18461 non-null  object\n",
            " 11  tag_5     13091 non-null  object\n",
            " 12  tag_6     7351 non-null   object\n",
            " 13  tag_7     3928 non-null   object\n",
            " 14  tag_8     1907 non-null   object\n",
            "dtypes: object(15)\n",
            "memory usage: 2.3+ MB\n"
          ]
        }
      ],
      "source": [
        "# Checking data types of the variables\n",
        "df.info()"
      ]
    },
    {
      "cell_type": "markdown",
      "metadata": {
        "id": "NGAU7p_HEUOO"
      },
      "source": [
        "### Inital Data Loading\n"
      ]
    },
    {
      "cell_type": "code",
      "execution_count": 11,
      "metadata": {
        "colab": {
          "base_uri": "https://localhost:8080/",
          "height": 224
        },
        "id": "mmmZBq99ERg9",
        "outputId": "a3027aff-529c-4dda-8421-d7d0f64d3517"
      },
      "outputs": [
        {
          "output_type": "stream",
          "name": "stdout",
          "text": [
            "Shape: (20000, 15)\n"
          ]
        },
        {
          "output_type": "execute_result",
          "data": {
            "text/plain": [
              "                                             subject  \\\n",
              "0  Unvorhergesehener Absturz der Datenanalyse-Pla...   \n",
              "1                           Customer Support Inquiry   \n",
              "2                      Data Analytics for Investment   \n",
              "3                 Krankenhaus-Dienstleistung-Problem   \n",
              "4                                           Security   \n",
              "\n",
              "                                                body  \\\n",
              "0  Die Datenanalyse-Plattform brach unerwartet ab...   \n",
              "1  Seeking information on digital strategies that...   \n",
              "2  I am contacting you to request information on ...   \n",
              "3  Ein Medien-Daten-Sperrverhalten trat aufgrund ...   \n",
              "4  Dear Customer Support, I am reaching out to in...   \n",
              "\n",
              "                                              answer      type  \\\n",
              "0  Ich werde Ihnen bei der Lösung des Problems he...  Incident   \n",
              "1  We offer a variety of digital strategies and s...   Request   \n",
              "2  I am here to assist you with data analytics to...   Request   \n",
              "3  Zurück zur E-Mail-Beschwerde über den Sperrver...  Incident   \n",
              "4  Dear [name], we take the security of medical d...   Request   \n",
              "\n",
              "              queue priority language      tag_1      tag_2       tag_3  \\\n",
              "0   General Inquiry      low       de      Crash  Technical         Bug   \n",
              "1  Customer Service   medium       en   Feedback      Sales          IT   \n",
              "2  Customer Service   medium       en  Technical    Product    Guidance   \n",
              "3  Customer Service     high       de   Security     Breach       Login   \n",
              "4  Customer Service   medium       en   Security   Customer  Compliance   \n",
              "\n",
              "           tag_4          tag_5       tag_6          tag_7 tag_8  \n",
              "0       Hardware     Resolution      Outage  Documentation   NaN  \n",
              "1   Tech Support            NaN         NaN            NaN   NaN  \n",
              "2  Documentation    Performance     Feature            NaN   NaN  \n",
              "3    Maintenance       Incident  Resolution       Feedback   NaN  \n",
              "4         Breach  Documentation    Guidance            NaN   NaN  "
            ],
            "text/html": [
              "\n",
              "  <div id=\"df-8e145bb0-3b42-4841-aad3-5b8dabb11fb9\" class=\"colab-df-container\">\n",
              "    <div>\n",
              "<style scoped>\n",
              "    .dataframe tbody tr th:only-of-type {\n",
              "        vertical-align: middle;\n",
              "    }\n",
              "\n",
              "    .dataframe tbody tr th {\n",
              "        vertical-align: top;\n",
              "    }\n",
              "\n",
              "    .dataframe thead th {\n",
              "        text-align: right;\n",
              "    }\n",
              "</style>\n",
              "<table border=\"1\" class=\"dataframe\">\n",
              "  <thead>\n",
              "    <tr style=\"text-align: right;\">\n",
              "      <th></th>\n",
              "      <th>subject</th>\n",
              "      <th>body</th>\n",
              "      <th>answer</th>\n",
              "      <th>type</th>\n",
              "      <th>queue</th>\n",
              "      <th>priority</th>\n",
              "      <th>language</th>\n",
              "      <th>tag_1</th>\n",
              "      <th>tag_2</th>\n",
              "      <th>tag_3</th>\n",
              "      <th>tag_4</th>\n",
              "      <th>tag_5</th>\n",
              "      <th>tag_6</th>\n",
              "      <th>tag_7</th>\n",
              "      <th>tag_8</th>\n",
              "    </tr>\n",
              "  </thead>\n",
              "  <tbody>\n",
              "    <tr>\n",
              "      <th>0</th>\n",
              "      <td>Unvorhergesehener Absturz der Datenanalyse-Pla...</td>\n",
              "      <td>Die Datenanalyse-Plattform brach unerwartet ab...</td>\n",
              "      <td>Ich werde Ihnen bei der Lösung des Problems he...</td>\n",
              "      <td>Incident</td>\n",
              "      <td>General Inquiry</td>\n",
              "      <td>low</td>\n",
              "      <td>de</td>\n",
              "      <td>Crash</td>\n",
              "      <td>Technical</td>\n",
              "      <td>Bug</td>\n",
              "      <td>Hardware</td>\n",
              "      <td>Resolution</td>\n",
              "      <td>Outage</td>\n",
              "      <td>Documentation</td>\n",
              "      <td>NaN</td>\n",
              "    </tr>\n",
              "    <tr>\n",
              "      <th>1</th>\n",
              "      <td>Customer Support Inquiry</td>\n",
              "      <td>Seeking information on digital strategies that...</td>\n",
              "      <td>We offer a variety of digital strategies and s...</td>\n",
              "      <td>Request</td>\n",
              "      <td>Customer Service</td>\n",
              "      <td>medium</td>\n",
              "      <td>en</td>\n",
              "      <td>Feedback</td>\n",
              "      <td>Sales</td>\n",
              "      <td>IT</td>\n",
              "      <td>Tech Support</td>\n",
              "      <td>NaN</td>\n",
              "      <td>NaN</td>\n",
              "      <td>NaN</td>\n",
              "      <td>NaN</td>\n",
              "    </tr>\n",
              "    <tr>\n",
              "      <th>2</th>\n",
              "      <td>Data Analytics for Investment</td>\n",
              "      <td>I am contacting you to request information on ...</td>\n",
              "      <td>I am here to assist you with data analytics to...</td>\n",
              "      <td>Request</td>\n",
              "      <td>Customer Service</td>\n",
              "      <td>medium</td>\n",
              "      <td>en</td>\n",
              "      <td>Technical</td>\n",
              "      <td>Product</td>\n",
              "      <td>Guidance</td>\n",
              "      <td>Documentation</td>\n",
              "      <td>Performance</td>\n",
              "      <td>Feature</td>\n",
              "      <td>NaN</td>\n",
              "      <td>NaN</td>\n",
              "    </tr>\n",
              "    <tr>\n",
              "      <th>3</th>\n",
              "      <td>Krankenhaus-Dienstleistung-Problem</td>\n",
              "      <td>Ein Medien-Daten-Sperrverhalten trat aufgrund ...</td>\n",
              "      <td>Zurück zur E-Mail-Beschwerde über den Sperrver...</td>\n",
              "      <td>Incident</td>\n",
              "      <td>Customer Service</td>\n",
              "      <td>high</td>\n",
              "      <td>de</td>\n",
              "      <td>Security</td>\n",
              "      <td>Breach</td>\n",
              "      <td>Login</td>\n",
              "      <td>Maintenance</td>\n",
              "      <td>Incident</td>\n",
              "      <td>Resolution</td>\n",
              "      <td>Feedback</td>\n",
              "      <td>NaN</td>\n",
              "    </tr>\n",
              "    <tr>\n",
              "      <th>4</th>\n",
              "      <td>Security</td>\n",
              "      <td>Dear Customer Support, I am reaching out to in...</td>\n",
              "      <td>Dear [name], we take the security of medical d...</td>\n",
              "      <td>Request</td>\n",
              "      <td>Customer Service</td>\n",
              "      <td>medium</td>\n",
              "      <td>en</td>\n",
              "      <td>Security</td>\n",
              "      <td>Customer</td>\n",
              "      <td>Compliance</td>\n",
              "      <td>Breach</td>\n",
              "      <td>Documentation</td>\n",
              "      <td>Guidance</td>\n",
              "      <td>NaN</td>\n",
              "      <td>NaN</td>\n",
              "    </tr>\n",
              "  </tbody>\n",
              "</table>\n",
              "</div>\n",
              "    <div class=\"colab-df-buttons\">\n",
              "\n",
              "  <div class=\"colab-df-container\">\n",
              "    <button class=\"colab-df-convert\" onclick=\"convertToInteractive('df-8e145bb0-3b42-4841-aad3-5b8dabb11fb9')\"\n",
              "            title=\"Convert this dataframe to an interactive table.\"\n",
              "            style=\"display:none;\">\n",
              "\n",
              "  <svg xmlns=\"http://www.w3.org/2000/svg\" height=\"24px\" viewBox=\"0 -960 960 960\">\n",
              "    <path d=\"M120-120v-720h720v720H120Zm60-500h600v-160H180v160Zm220 220h160v-160H400v160Zm0 220h160v-160H400v160ZM180-400h160v-160H180v160Zm440 0h160v-160H620v160ZM180-180h160v-160H180v160Zm440 0h160v-160H620v160Z\"/>\n",
              "  </svg>\n",
              "    </button>\n",
              "\n",
              "  <style>\n",
              "    .colab-df-container {\n",
              "      display:flex;\n",
              "      gap: 12px;\n",
              "    }\n",
              "\n",
              "    .colab-df-convert {\n",
              "      background-color: #E8F0FE;\n",
              "      border: none;\n",
              "      border-radius: 50%;\n",
              "      cursor: pointer;\n",
              "      display: none;\n",
              "      fill: #1967D2;\n",
              "      height: 32px;\n",
              "      padding: 0 0 0 0;\n",
              "      width: 32px;\n",
              "    }\n",
              "\n",
              "    .colab-df-convert:hover {\n",
              "      background-color: #E2EBFA;\n",
              "      box-shadow: 0px 1px 2px rgba(60, 64, 67, 0.3), 0px 1px 3px 1px rgba(60, 64, 67, 0.15);\n",
              "      fill: #174EA6;\n",
              "    }\n",
              "\n",
              "    .colab-df-buttons div {\n",
              "      margin-bottom: 4px;\n",
              "    }\n",
              "\n",
              "    [theme=dark] .colab-df-convert {\n",
              "      background-color: #3B4455;\n",
              "      fill: #D2E3FC;\n",
              "    }\n",
              "\n",
              "    [theme=dark] .colab-df-convert:hover {\n",
              "      background-color: #434B5C;\n",
              "      box-shadow: 0px 1px 3px 1px rgba(0, 0, 0, 0.15);\n",
              "      filter: drop-shadow(0px 1px 2px rgba(0, 0, 0, 0.3));\n",
              "      fill: #FFFFFF;\n",
              "    }\n",
              "  </style>\n",
              "\n",
              "    <script>\n",
              "      const buttonEl =\n",
              "        document.querySelector('#df-8e145bb0-3b42-4841-aad3-5b8dabb11fb9 button.colab-df-convert');\n",
              "      buttonEl.style.display =\n",
              "        google.colab.kernel.accessAllowed ? 'block' : 'none';\n",
              "\n",
              "      async function convertToInteractive(key) {\n",
              "        const element = document.querySelector('#df-8e145bb0-3b42-4841-aad3-5b8dabb11fb9');\n",
              "        const dataTable =\n",
              "          await google.colab.kernel.invokeFunction('convertToInteractive',\n",
              "                                                    [key], {});\n",
              "        if (!dataTable) return;\n",
              "\n",
              "        const docLinkHtml = 'Like what you see? Visit the ' +\n",
              "          '<a target=\"_blank\" href=https://colab.research.google.com/notebooks/data_table.ipynb>data table notebook</a>'\n",
              "          + ' to learn more about interactive tables.';\n",
              "        element.innerHTML = '';\n",
              "        dataTable['output_type'] = 'display_data';\n",
              "        await google.colab.output.renderOutput(dataTable, element);\n",
              "        const docLink = document.createElement('div');\n",
              "        docLink.innerHTML = docLinkHtml;\n",
              "        element.appendChild(docLink);\n",
              "      }\n",
              "    </script>\n",
              "  </div>\n",
              "\n",
              "\n",
              "<div id=\"df-d5542f04-d88f-4592-aa15-53c8ad793cec\">\n",
              "  <button class=\"colab-df-quickchart\" onclick=\"quickchart('df-d5542f04-d88f-4592-aa15-53c8ad793cec')\"\n",
              "            title=\"Suggest charts\"\n",
              "            style=\"display:none;\">\n",
              "\n",
              "<svg xmlns=\"http://www.w3.org/2000/svg\" height=\"24px\"viewBox=\"0 0 24 24\"\n",
              "     width=\"24px\">\n",
              "    <g>\n",
              "        <path d=\"M19 3H5c-1.1 0-2 .9-2 2v14c0 1.1.9 2 2 2h14c1.1 0 2-.9 2-2V5c0-1.1-.9-2-2-2zM9 17H7v-7h2v7zm4 0h-2V7h2v10zm4 0h-2v-4h2v4z\"/>\n",
              "    </g>\n",
              "</svg>\n",
              "  </button>\n",
              "\n",
              "<style>\n",
              "  .colab-df-quickchart {\n",
              "      --bg-color: #E8F0FE;\n",
              "      --fill-color: #1967D2;\n",
              "      --hover-bg-color: #E2EBFA;\n",
              "      --hover-fill-color: #174EA6;\n",
              "      --disabled-fill-color: #AAA;\n",
              "      --disabled-bg-color: #DDD;\n",
              "  }\n",
              "\n",
              "  [theme=dark] .colab-df-quickchart {\n",
              "      --bg-color: #3B4455;\n",
              "      --fill-color: #D2E3FC;\n",
              "      --hover-bg-color: #434B5C;\n",
              "      --hover-fill-color: #FFFFFF;\n",
              "      --disabled-bg-color: #3B4455;\n",
              "      --disabled-fill-color: #666;\n",
              "  }\n",
              "\n",
              "  .colab-df-quickchart {\n",
              "    background-color: var(--bg-color);\n",
              "    border: none;\n",
              "    border-radius: 50%;\n",
              "    cursor: pointer;\n",
              "    display: none;\n",
              "    fill: var(--fill-color);\n",
              "    height: 32px;\n",
              "    padding: 0;\n",
              "    width: 32px;\n",
              "  }\n",
              "\n",
              "  .colab-df-quickchart:hover {\n",
              "    background-color: var(--hover-bg-color);\n",
              "    box-shadow: 0 1px 2px rgba(60, 64, 67, 0.3), 0 1px 3px 1px rgba(60, 64, 67, 0.15);\n",
              "    fill: var(--button-hover-fill-color);\n",
              "  }\n",
              "\n",
              "  .colab-df-quickchart-complete:disabled,\n",
              "  .colab-df-quickchart-complete:disabled:hover {\n",
              "    background-color: var(--disabled-bg-color);\n",
              "    fill: var(--disabled-fill-color);\n",
              "    box-shadow: none;\n",
              "  }\n",
              "\n",
              "  .colab-df-spinner {\n",
              "    border: 2px solid var(--fill-color);\n",
              "    border-color: transparent;\n",
              "    border-bottom-color: var(--fill-color);\n",
              "    animation:\n",
              "      spin 1s steps(1) infinite;\n",
              "  }\n",
              "\n",
              "  @keyframes spin {\n",
              "    0% {\n",
              "      border-color: transparent;\n",
              "      border-bottom-color: var(--fill-color);\n",
              "      border-left-color: var(--fill-color);\n",
              "    }\n",
              "    20% {\n",
              "      border-color: transparent;\n",
              "      border-left-color: var(--fill-color);\n",
              "      border-top-color: var(--fill-color);\n",
              "    }\n",
              "    30% {\n",
              "      border-color: transparent;\n",
              "      border-left-color: var(--fill-color);\n",
              "      border-top-color: var(--fill-color);\n",
              "      border-right-color: var(--fill-color);\n",
              "    }\n",
              "    40% {\n",
              "      border-color: transparent;\n",
              "      border-right-color: var(--fill-color);\n",
              "      border-top-color: var(--fill-color);\n",
              "    }\n",
              "    60% {\n",
              "      border-color: transparent;\n",
              "      border-right-color: var(--fill-color);\n",
              "    }\n",
              "    80% {\n",
              "      border-color: transparent;\n",
              "      border-right-color: var(--fill-color);\n",
              "      border-bottom-color: var(--fill-color);\n",
              "    }\n",
              "    90% {\n",
              "      border-color: transparent;\n",
              "      border-bottom-color: var(--fill-color);\n",
              "    }\n",
              "  }\n",
              "</style>\n",
              "\n",
              "  <script>\n",
              "    async function quickchart(key) {\n",
              "      const quickchartButtonEl =\n",
              "        document.querySelector('#' + key + ' button');\n",
              "      quickchartButtonEl.disabled = true;  // To prevent multiple clicks.\n",
              "      quickchartButtonEl.classList.add('colab-df-spinner');\n",
              "      try {\n",
              "        const charts = await google.colab.kernel.invokeFunction(\n",
              "            'suggestCharts', [key], {});\n",
              "      } catch (error) {\n",
              "        console.error('Error during call to suggestCharts:', error);\n",
              "      }\n",
              "      quickchartButtonEl.classList.remove('colab-df-spinner');\n",
              "      quickchartButtonEl.classList.add('colab-df-quickchart-complete');\n",
              "    }\n",
              "    (() => {\n",
              "      let quickchartButtonEl =\n",
              "        document.querySelector('#df-d5542f04-d88f-4592-aa15-53c8ad793cec button');\n",
              "      quickchartButtonEl.style.display =\n",
              "        google.colab.kernel.accessAllowed ? 'block' : 'none';\n",
              "    })();\n",
              "  </script>\n",
              "</div>\n",
              "\n",
              "    </div>\n",
              "  </div>\n"
            ],
            "application/vnd.google.colaboratory.intrinsic+json": {
              "type": "dataframe",
              "variable_name": "df",
              "summary": "{\n  \"name\": \"df\",\n  \"rows\": 20000,\n  \"fields\": [\n    {\n      \"column\": \"subject\",\n      \"properties\": {\n        \"dtype\": \"string\",\n        \"num_unique_values\": 18539,\n        \"samples\": [\n          \"Software crashes during data visualization due to potential memory compatibility issues with NAS-System, even after restarts and updates.\",\n          \"Personalizing Billing Settings in Dynamics\",\n          \"Improving Brand Expansion Digital Tactics Online\"\n        ],\n        \"semantic_type\": \"\",\n        \"description\": \"\"\n      }\n    },\n    {\n      \"column\": \"body\",\n      \"properties\": {\n        \"dtype\": \"string\",\n        \"num_unique_values\": 19998,\n        \"samples\": [\n          \"What are the system requirements for using your project management SaaS in conjunction with QuickBooks Online integration?\",\n          \"I am writing to request enhanced user authentication security, specifically multi-factor authentication, to improve the safety of my account and help protect it from unauthorized access.\",\n          \"Sehr geehrte Kundenservice, ich w\\u00fcrde gerne mehr \\u00fcber die Dienstleistungen zur Sicherung medizinischer Daten in Krankenhaus-IT-Systemen erfahren. K\\u00f6nnten Sie bitte detaillierte Informationen \\u00fcber die Sicherheitsma\\u00dfnahmen geben, einschlie\\u00dflich Verschl\\u00fcsselung, Firewalls und Zugriffskontrolle? Bitte stellen Sie auch relevante Zertifizierungen und die Einhaltung der Branche-Standard bereit. Zudem w\\u00e4re ich dankbar f\\u00fcr Beispiele erfolgreicher Umsetzungen und Fallstudien. Ich suche einen zuverl\\u00e4ssigen und vertrauensw\\u00fcrdigen Partner, der die Vertraulichkeit, Integrit\\u00e4t und Verf\\u00fcgbarkeit sensibler medizinischer Informationen gew\\u00e4hrleistet. Danke.\"\n        ],\n        \"semantic_type\": \"\",\n        \"description\": \"\"\n      }\n    },\n    {\n      \"column\": \"answer\",\n      \"properties\": {\n        \"dtype\": \"string\",\n        \"num_unique_values\": 19996,\n        \"samples\": [\n          \"Please investigate the issue and contact +1-800-123-4567 for assistance with potential solutions.\",\n          \"Sehr geehrte [name], ich bedaure die Probleme mit Ihren mehreren Integrationsproblemen zu h\\u00f6ren. Ich m\\u00f6chte dies genauer untersuchen. K\\u00f6nnten Sie bitte Details \\u00fcber die Docker-Aktualisierungen, die Sie k\\u00fcrzlich vorgenommen haben, und die genauen Fehlernachrichten, die Sie sehen, bereitstellen? Ich k\\u00f6nnte m\\u00f6glicherweise einen Anruf mit Ihnen vereinbaren, um dies weiter zu bereden, w\\u00e4ren Sie am [tel_num] zu sprechen? Bitte geben Sie mir einen geeigneten Zeitpunkt f\\u00fcr einen Anruf, damit wir das Problem so schnell wie m\\u00f6glich f\\u00fcr Ihr [acc_num] l\\u00f6sen k\\u00f6nnen.\",\n          \"Hello [Name], we will provide you with resources and guidelines for using MATLAB in data analytics. You can access tutorials and documentation via email. If you need further assistance, please contact us at [Tel Num] to discuss the next steps.\"\n        ],\n        \"semantic_type\": \"\",\n        \"description\": \"\"\n      }\n    },\n    {\n      \"column\": \"type\",\n      \"properties\": {\n        \"dtype\": \"category\",\n        \"num_unique_values\": 4,\n        \"samples\": [\n          \"Request\",\n          \"Change\",\n          \"Incident\"\n        ],\n        \"semantic_type\": \"\",\n        \"description\": \"\"\n      }\n    },\n    {\n      \"column\": \"queue\",\n      \"properties\": {\n        \"dtype\": \"category\",\n        \"num_unique_values\": 10,\n        \"samples\": [\n          \"Returns and Exchanges\",\n          \"Customer Service\",\n          \"Billing and Payments\"\n        ],\n        \"semantic_type\": \"\",\n        \"description\": \"\"\n      }\n    },\n    {\n      \"column\": \"priority\",\n      \"properties\": {\n        \"dtype\": \"category\",\n        \"num_unique_values\": 3,\n        \"samples\": [\n          \"low\",\n          \"medium\",\n          \"high\"\n        ],\n        \"semantic_type\": \"\",\n        \"description\": \"\"\n      }\n    },\n    {\n      \"column\": \"language\",\n      \"properties\": {\n        \"dtype\": \"category\",\n        \"num_unique_values\": 2,\n        \"samples\": [\n          \"en\",\n          \"de\"\n        ],\n        \"semantic_type\": \"\",\n        \"description\": \"\"\n      }\n    },\n    {\n      \"column\": \"tag_1\",\n      \"properties\": {\n        \"dtype\": \"category\",\n        \"num_unique_values\": 148,\n        \"samples\": [\n          \"Technical,Customer,Integration,Documentation,Guidance\",\n          \"Privacy\"\n        ],\n        \"semantic_type\": \"\",\n        \"description\": \"\"\n      }\n    },\n    {\n      \"column\": \"tag_2\",\n      \"properties\": {\n        \"dtype\": \"category\",\n        \"num_unique_values\": 204,\n        \"samples\": [\n          \"Compliance\",\n          \"Outage\"\n        ],\n        \"semantic_type\": \"\",\n        \"description\": \"\"\n      }\n    },\n    {\n      \"column\": \"tag_3\",\n      \"properties\": {\n        \"dtype\": \"category\",\n        \"num_unique_values\": 344,\n        \"samples\": [\n          \"Digital Marketing\",\n          \"Social Media Marketing\"\n        ],\n        \"semantic_type\": \"\",\n        \"description\": \"\"\n      }\n    },\n    {\n      \"column\": \"tag_4\",\n      \"properties\": {\n        \"dtype\": \"category\",\n        \"num_unique_values\": 481,\n        \"samples\": [\n          \"AccessControl\",\n          \"Data Analysis\"\n        ],\n        \"semantic_type\": \"\",\n        \"description\": \"\"\n      }\n    },\n    {\n      \"column\": \"tag_5\",\n      \"properties\": {\n        \"dtype\": \"category\",\n        \"num_unique_values\": 578,\n        \"samples\": [\n          \"Datenauswertung\",\n          \"GCP\"\n        ],\n        \"semantic_type\": \"\",\n        \"description\": \"\"\n      }\n    },\n    {\n      \"column\": \"tag_6\",\n      \"properties\": {\n        \"dtype\": \"category\",\n        \"num_unique_values\": 566,\n        \"samples\": [\n          \"Workload\",\n          \"Brand\"\n        ],\n        \"semantic_type\": \"\",\n        \"description\": \"\"\n      }\n    },\n    {\n      \"column\": \"tag_7\",\n      \"properties\": {\n        \"dtype\": \"category\",\n        \"num_unique_values\": 492,\n        \"samples\": [\n          \"Git\",\n          \"Notification\"\n        ],\n        \"semantic_type\": \"\",\n        \"description\": \"\"\n      }\n    },\n    {\n      \"column\": \"tag_8\",\n      \"properties\": {\n        \"dtype\": \"category\",\n        \"num_unique_values\": 386,\n        \"samples\": [\n          \"Code\",\n          \"Demo\"\n        ],\n        \"semantic_type\": \"\",\n        \"description\": \"\"\n      }\n    }\n  ]\n}"
            }
          },
          "metadata": {},
          "execution_count": 11
        }
      ],
      "source": [
        "print(\"Shape:\", df.shape)\n",
        "df.head()"
      ]
    },
    {
      "cell_type": "markdown",
      "metadata": {
        "id": "OC20IsjO5Gco"
      },
      "source": [
        "### Filtering by English Tickets"
      ]
    },
    {
      "cell_type": "code",
      "execution_count": 12,
      "metadata": {
        "colab": {
          "base_uri": "https://localhost:8080/",
          "height": 224
        },
        "id": "Y0BlRzdJ4XUA",
        "outputId": "95228af4-f5f8-4486-e732-2cb07746064d"
      },
      "outputs": [
        {
          "output_type": "stream",
          "name": "stdout",
          "text": [
            "Shape of filtered dataframe: (11923, 15)\n"
          ]
        },
        {
          "output_type": "execute_result",
          "data": {
            "text/plain": [
              "                                             subject  \\\n",
              "1                           Customer Support Inquiry   \n",
              "2                      Data Analytics for Investment   \n",
              "4                                           Security   \n",
              "5  Concerns About Securing Medical Data on 2-in-1...   \n",
              "7                           Problem with Integration   \n",
              "\n",
              "                                                body  \\\n",
              "1  Seeking information on digital strategies that...   \n",
              "2  I am contacting you to request information on ...   \n",
              "4  Dear Customer Support, I am reaching out to in...   \n",
              "5  Inquiring about best practices for securing me...   \n",
              "7  The integration stopped working unexpectedly, ...   \n",
              "\n",
              "                                              answer     type  \\\n",
              "1  We offer a variety of digital strategies and s...  Request   \n",
              "2  I am here to assist you with data analytics to...  Request   \n",
              "4  Dear [name], we take the security of medical d...  Request   \n",
              "5  Thank you for your concern regarding securing ...  Request   \n",
              "7  I will look into the problem and call you at <...  Problem   \n",
              "\n",
              "               queue priority language      tag_1        tag_2       tag_3  \\\n",
              "1   Customer Service   medium       en   Feedback        Sales          IT   \n",
              "2   Customer Service   medium       en  Technical      Product    Guidance   \n",
              "4   Customer Service   medium       en   Security     Customer  Compliance   \n",
              "5  Technical Support   medium       en   Security      Product     Feature   \n",
              "7         IT Support     high       en  Technical  Integration         Bug   \n",
              "\n",
              "           tag_4          tag_5          tag_6 tag_7 tag_8  \n",
              "1   Tech Support            NaN            NaN   NaN   NaN  \n",
              "2  Documentation    Performance        Feature   NaN   NaN  \n",
              "4         Breach  Documentation       Guidance   NaN   NaN  \n",
              "5             IT   Tech Support            NaN   NaN   NaN  \n",
              "7     Resolution         Outage  Documentation   NaN   NaN  "
            ],
            "text/html": [
              "\n",
              "  <div id=\"df-5f1b7acc-26f9-4f48-bb90-04a5cdb14a2a\" class=\"colab-df-container\">\n",
              "    <div>\n",
              "<style scoped>\n",
              "    .dataframe tbody tr th:only-of-type {\n",
              "        vertical-align: middle;\n",
              "    }\n",
              "\n",
              "    .dataframe tbody tr th {\n",
              "        vertical-align: top;\n",
              "    }\n",
              "\n",
              "    .dataframe thead th {\n",
              "        text-align: right;\n",
              "    }\n",
              "</style>\n",
              "<table border=\"1\" class=\"dataframe\">\n",
              "  <thead>\n",
              "    <tr style=\"text-align: right;\">\n",
              "      <th></th>\n",
              "      <th>subject</th>\n",
              "      <th>body</th>\n",
              "      <th>answer</th>\n",
              "      <th>type</th>\n",
              "      <th>queue</th>\n",
              "      <th>priority</th>\n",
              "      <th>language</th>\n",
              "      <th>tag_1</th>\n",
              "      <th>tag_2</th>\n",
              "      <th>tag_3</th>\n",
              "      <th>tag_4</th>\n",
              "      <th>tag_5</th>\n",
              "      <th>tag_6</th>\n",
              "      <th>tag_7</th>\n",
              "      <th>tag_8</th>\n",
              "    </tr>\n",
              "  </thead>\n",
              "  <tbody>\n",
              "    <tr>\n",
              "      <th>1</th>\n",
              "      <td>Customer Support Inquiry</td>\n",
              "      <td>Seeking information on digital strategies that...</td>\n",
              "      <td>We offer a variety of digital strategies and s...</td>\n",
              "      <td>Request</td>\n",
              "      <td>Customer Service</td>\n",
              "      <td>medium</td>\n",
              "      <td>en</td>\n",
              "      <td>Feedback</td>\n",
              "      <td>Sales</td>\n",
              "      <td>IT</td>\n",
              "      <td>Tech Support</td>\n",
              "      <td>NaN</td>\n",
              "      <td>NaN</td>\n",
              "      <td>NaN</td>\n",
              "      <td>NaN</td>\n",
              "    </tr>\n",
              "    <tr>\n",
              "      <th>2</th>\n",
              "      <td>Data Analytics for Investment</td>\n",
              "      <td>I am contacting you to request information on ...</td>\n",
              "      <td>I am here to assist you with data analytics to...</td>\n",
              "      <td>Request</td>\n",
              "      <td>Customer Service</td>\n",
              "      <td>medium</td>\n",
              "      <td>en</td>\n",
              "      <td>Technical</td>\n",
              "      <td>Product</td>\n",
              "      <td>Guidance</td>\n",
              "      <td>Documentation</td>\n",
              "      <td>Performance</td>\n",
              "      <td>Feature</td>\n",
              "      <td>NaN</td>\n",
              "      <td>NaN</td>\n",
              "    </tr>\n",
              "    <tr>\n",
              "      <th>4</th>\n",
              "      <td>Security</td>\n",
              "      <td>Dear Customer Support, I am reaching out to in...</td>\n",
              "      <td>Dear [name], we take the security of medical d...</td>\n",
              "      <td>Request</td>\n",
              "      <td>Customer Service</td>\n",
              "      <td>medium</td>\n",
              "      <td>en</td>\n",
              "      <td>Security</td>\n",
              "      <td>Customer</td>\n",
              "      <td>Compliance</td>\n",
              "      <td>Breach</td>\n",
              "      <td>Documentation</td>\n",
              "      <td>Guidance</td>\n",
              "      <td>NaN</td>\n",
              "      <td>NaN</td>\n",
              "    </tr>\n",
              "    <tr>\n",
              "      <th>5</th>\n",
              "      <td>Concerns About Securing Medical Data on 2-in-1...</td>\n",
              "      <td>Inquiring about best practices for securing me...</td>\n",
              "      <td>Thank you for your concern regarding securing ...</td>\n",
              "      <td>Request</td>\n",
              "      <td>Technical Support</td>\n",
              "      <td>medium</td>\n",
              "      <td>en</td>\n",
              "      <td>Security</td>\n",
              "      <td>Product</td>\n",
              "      <td>Feature</td>\n",
              "      <td>IT</td>\n",
              "      <td>Tech Support</td>\n",
              "      <td>NaN</td>\n",
              "      <td>NaN</td>\n",
              "      <td>NaN</td>\n",
              "    </tr>\n",
              "    <tr>\n",
              "      <th>7</th>\n",
              "      <td>Problem with Integration</td>\n",
              "      <td>The integration stopped working unexpectedly, ...</td>\n",
              "      <td>I will look into the problem and call you at &lt;...</td>\n",
              "      <td>Problem</td>\n",
              "      <td>IT Support</td>\n",
              "      <td>high</td>\n",
              "      <td>en</td>\n",
              "      <td>Technical</td>\n",
              "      <td>Integration</td>\n",
              "      <td>Bug</td>\n",
              "      <td>Resolution</td>\n",
              "      <td>Outage</td>\n",
              "      <td>Documentation</td>\n",
              "      <td>NaN</td>\n",
              "      <td>NaN</td>\n",
              "    </tr>\n",
              "  </tbody>\n",
              "</table>\n",
              "</div>\n",
              "    <div class=\"colab-df-buttons\">\n",
              "\n",
              "  <div class=\"colab-df-container\">\n",
              "    <button class=\"colab-df-convert\" onclick=\"convertToInteractive('df-5f1b7acc-26f9-4f48-bb90-04a5cdb14a2a')\"\n",
              "            title=\"Convert this dataframe to an interactive table.\"\n",
              "            style=\"display:none;\">\n",
              "\n",
              "  <svg xmlns=\"http://www.w3.org/2000/svg\" height=\"24px\" viewBox=\"0 -960 960 960\">\n",
              "    <path d=\"M120-120v-720h720v720H120Zm60-500h600v-160H180v160Zm220 220h160v-160H400v160Zm0 220h160v-160H400v160ZM180-400h160v-160H180v160Zm440 0h160v-160H620v160ZM180-180h160v-160H180v160Zm440 0h160v-160H620v160Z\"/>\n",
              "  </svg>\n",
              "    </button>\n",
              "\n",
              "  <style>\n",
              "    .colab-df-container {\n",
              "      display:flex;\n",
              "      gap: 12px;\n",
              "    }\n",
              "\n",
              "    .colab-df-convert {\n",
              "      background-color: #E8F0FE;\n",
              "      border: none;\n",
              "      border-radius: 50%;\n",
              "      cursor: pointer;\n",
              "      display: none;\n",
              "      fill: #1967D2;\n",
              "      height: 32px;\n",
              "      padding: 0 0 0 0;\n",
              "      width: 32px;\n",
              "    }\n",
              "\n",
              "    .colab-df-convert:hover {\n",
              "      background-color: #E2EBFA;\n",
              "      box-shadow: 0px 1px 2px rgba(60, 64, 67, 0.3), 0px 1px 3px 1px rgba(60, 64, 67, 0.15);\n",
              "      fill: #174EA6;\n",
              "    }\n",
              "\n",
              "    .colab-df-buttons div {\n",
              "      margin-bottom: 4px;\n",
              "    }\n",
              "\n",
              "    [theme=dark] .colab-df-convert {\n",
              "      background-color: #3B4455;\n",
              "      fill: #D2E3FC;\n",
              "    }\n",
              "\n",
              "    [theme=dark] .colab-df-convert:hover {\n",
              "      background-color: #434B5C;\n",
              "      box-shadow: 0px 1px 3px 1px rgba(0, 0, 0, 0.15);\n",
              "      filter: drop-shadow(0px 1px 2px rgba(0, 0, 0, 0.3));\n",
              "      fill: #FFFFFF;\n",
              "    }\n",
              "  </style>\n",
              "\n",
              "    <script>\n",
              "      const buttonEl =\n",
              "        document.querySelector('#df-5f1b7acc-26f9-4f48-bb90-04a5cdb14a2a button.colab-df-convert');\n",
              "      buttonEl.style.display =\n",
              "        google.colab.kernel.accessAllowed ? 'block' : 'none';\n",
              "\n",
              "      async function convertToInteractive(key) {\n",
              "        const element = document.querySelector('#df-5f1b7acc-26f9-4f48-bb90-04a5cdb14a2a');\n",
              "        const dataTable =\n",
              "          await google.colab.kernel.invokeFunction('convertToInteractive',\n",
              "                                                    [key], {});\n",
              "        if (!dataTable) return;\n",
              "\n",
              "        const docLinkHtml = 'Like what you see? Visit the ' +\n",
              "          '<a target=\"_blank\" href=https://colab.research.google.com/notebooks/data_table.ipynb>data table notebook</a>'\n",
              "          + ' to learn more about interactive tables.';\n",
              "        element.innerHTML = '';\n",
              "        dataTable['output_type'] = 'display_data';\n",
              "        await google.colab.output.renderOutput(dataTable, element);\n",
              "        const docLink = document.createElement('div');\n",
              "        docLink.innerHTML = docLinkHtml;\n",
              "        element.appendChild(docLink);\n",
              "      }\n",
              "    </script>\n",
              "  </div>\n",
              "\n",
              "\n",
              "<div id=\"df-4155edac-f06d-4de4-825d-913c10121658\">\n",
              "  <button class=\"colab-df-quickchart\" onclick=\"quickchart('df-4155edac-f06d-4de4-825d-913c10121658')\"\n",
              "            title=\"Suggest charts\"\n",
              "            style=\"display:none;\">\n",
              "\n",
              "<svg xmlns=\"http://www.w3.org/2000/svg\" height=\"24px\"viewBox=\"0 0 24 24\"\n",
              "     width=\"24px\">\n",
              "    <g>\n",
              "        <path d=\"M19 3H5c-1.1 0-2 .9-2 2v14c0 1.1.9 2 2 2h14c1.1 0 2-.9 2-2V5c0-1.1-.9-2-2-2zM9 17H7v-7h2v7zm4 0h-2V7h2v10zm4 0h-2v-4h2v4z\"/>\n",
              "    </g>\n",
              "</svg>\n",
              "  </button>\n",
              "\n",
              "<style>\n",
              "  .colab-df-quickchart {\n",
              "      --bg-color: #E8F0FE;\n",
              "      --fill-color: #1967D2;\n",
              "      --hover-bg-color: #E2EBFA;\n",
              "      --hover-fill-color: #174EA6;\n",
              "      --disabled-fill-color: #AAA;\n",
              "      --disabled-bg-color: #DDD;\n",
              "  }\n",
              "\n",
              "  [theme=dark] .colab-df-quickchart {\n",
              "      --bg-color: #3B4455;\n",
              "      --fill-color: #D2E3FC;\n",
              "      --hover-bg-color: #434B5C;\n",
              "      --hover-fill-color: #FFFFFF;\n",
              "      --disabled-bg-color: #3B4455;\n",
              "      --disabled-fill-color: #666;\n",
              "  }\n",
              "\n",
              "  .colab-df-quickchart {\n",
              "    background-color: var(--bg-color);\n",
              "    border: none;\n",
              "    border-radius: 50%;\n",
              "    cursor: pointer;\n",
              "    display: none;\n",
              "    fill: var(--fill-color);\n",
              "    height: 32px;\n",
              "    padding: 0;\n",
              "    width: 32px;\n",
              "  }\n",
              "\n",
              "  .colab-df-quickchart:hover {\n",
              "    background-color: var(--hover-bg-color);\n",
              "    box-shadow: 0 1px 2px rgba(60, 64, 67, 0.3), 0 1px 3px 1px rgba(60, 64, 67, 0.15);\n",
              "    fill: var(--button-hover-fill-color);\n",
              "  }\n",
              "\n",
              "  .colab-df-quickchart-complete:disabled,\n",
              "  .colab-df-quickchart-complete:disabled:hover {\n",
              "    background-color: var(--disabled-bg-color);\n",
              "    fill: var(--disabled-fill-color);\n",
              "    box-shadow: none;\n",
              "  }\n",
              "\n",
              "  .colab-df-spinner {\n",
              "    border: 2px solid var(--fill-color);\n",
              "    border-color: transparent;\n",
              "    border-bottom-color: var(--fill-color);\n",
              "    animation:\n",
              "      spin 1s steps(1) infinite;\n",
              "  }\n",
              "\n",
              "  @keyframes spin {\n",
              "    0% {\n",
              "      border-color: transparent;\n",
              "      border-bottom-color: var(--fill-color);\n",
              "      border-left-color: var(--fill-color);\n",
              "    }\n",
              "    20% {\n",
              "      border-color: transparent;\n",
              "      border-left-color: var(--fill-color);\n",
              "      border-top-color: var(--fill-color);\n",
              "    }\n",
              "    30% {\n",
              "      border-color: transparent;\n",
              "      border-left-color: var(--fill-color);\n",
              "      border-top-color: var(--fill-color);\n",
              "      border-right-color: var(--fill-color);\n",
              "    }\n",
              "    40% {\n",
              "      border-color: transparent;\n",
              "      border-right-color: var(--fill-color);\n",
              "      border-top-color: var(--fill-color);\n",
              "    }\n",
              "    60% {\n",
              "      border-color: transparent;\n",
              "      border-right-color: var(--fill-color);\n",
              "    }\n",
              "    80% {\n",
              "      border-color: transparent;\n",
              "      border-right-color: var(--fill-color);\n",
              "      border-bottom-color: var(--fill-color);\n",
              "    }\n",
              "    90% {\n",
              "      border-color: transparent;\n",
              "      border-bottom-color: var(--fill-color);\n",
              "    }\n",
              "  }\n",
              "</style>\n",
              "\n",
              "  <script>\n",
              "    async function quickchart(key) {\n",
              "      const quickchartButtonEl =\n",
              "        document.querySelector('#' + key + ' button');\n",
              "      quickchartButtonEl.disabled = true;  // To prevent multiple clicks.\n",
              "      quickchartButtonEl.classList.add('colab-df-spinner');\n",
              "      try {\n",
              "        const charts = await google.colab.kernel.invokeFunction(\n",
              "            'suggestCharts', [key], {});\n",
              "      } catch (error) {\n",
              "        console.error('Error during call to suggestCharts:', error);\n",
              "      }\n",
              "      quickchartButtonEl.classList.remove('colab-df-spinner');\n",
              "      quickchartButtonEl.classList.add('colab-df-quickchart-complete');\n",
              "    }\n",
              "    (() => {\n",
              "      let quickchartButtonEl =\n",
              "        document.querySelector('#df-4155edac-f06d-4de4-825d-913c10121658 button');\n",
              "      quickchartButtonEl.style.display =\n",
              "        google.colab.kernel.accessAllowed ? 'block' : 'none';\n",
              "    })();\n",
              "  </script>\n",
              "</div>\n",
              "\n",
              "    </div>\n",
              "  </div>\n"
            ],
            "application/vnd.google.colaboratory.intrinsic+json": {
              "type": "dataframe",
              "variable_name": "df",
              "summary": "{\n  \"name\": \"df\",\n  \"rows\": 11923,\n  \"fields\": [\n    {\n      \"column\": \"subject\",\n      \"properties\": {\n        \"dtype\": \"string\",\n        \"num_unique_values\": 10891,\n        \"samples\": [\n          \"Medical Data Encryption Encounter Issues\",\n          \"Issues with Billing\",\n          \"Urgent Assistance Needed for Unauthorized Access to Patient Records\"\n        ],\n        \"semantic_type\": \"\",\n        \"description\": \"\"\n      }\n    },\n    {\n      \"column\": \"body\",\n      \"properties\": {\n        \"dtype\": \"string\",\n        \"num_unique_values\": 11922,\n        \"samples\": [\n          \"The encryption process for medical data has failed, leading to the exposure of patient information because of an outdated version of Avast antivirus software and incompatible Airtable plugins.\",\n          \"I am encountering problems with incorrect invoice totals due to a billing system glitch. Despite restarting, relogging, and resynchronizing data, the issue still exists. I would greatly appreciate your timely assistance in addressing this concern.\",\n          \"Could you provide detailed information on the Xero integration for project management SaaS? Your support is greatly appreciated. We look forward to hearing back soon.\"\n        ],\n        \"semantic_type\": \"\",\n        \"description\": \"\"\n      }\n    },\n    {\n      \"column\": \"answer\",\n      \"properties\": {\n        \"dtype\": \"string\",\n        \"num_unique_values\": 11920,\n        \"samples\": [\n          \"We will provide API guides, setup tutorials, and relevant documentation to assist with integrating SaaS with Microsoft SQL Server 2019. Please allow us to send this information. You can also contact us at <tel_num> for a detailed discussion on system requirements and limitations.\",\n          \"Noted the email about the team meeting schedule arrangement issue. Please share more details about the conflict. I am ready to assist in resolving it as soon as possible.\",\n          \"We are here to help with the integration issue between QuickBooks Online and Smartsheet. To better assist you, could you please provide the version numbers of the applications and the exact error message you are receiving while attempting to sync? This information will help us determine the cause of the issue and provide a suitable solution. If needed, we can schedule a call at your convenience to discuss and work on resolving the problem. Please let me know a suitable time for contact at <tel_num>.\"\n        ],\n        \"semantic_type\": \"\",\n        \"description\": \"\"\n      }\n    },\n    {\n      \"column\": \"type\",\n      \"properties\": {\n        \"dtype\": \"category\",\n        \"num_unique_values\": 4,\n        \"samples\": [\n          \"Problem\",\n          \"Change\",\n          \"Request\"\n        ],\n        \"semantic_type\": \"\",\n        \"description\": \"\"\n      }\n    },\n    {\n      \"column\": \"queue\",\n      \"properties\": {\n        \"dtype\": \"category\",\n        \"num_unique_values\": 10,\n        \"samples\": [\n          \"Sales and Pre-Sales\",\n          \"Technical Support\",\n          \"Service Outages and Maintenance\"\n        ],\n        \"semantic_type\": \"\",\n        \"description\": \"\"\n      }\n    },\n    {\n      \"column\": \"priority\",\n      \"properties\": {\n        \"dtype\": \"category\",\n        \"num_unique_values\": 3,\n        \"samples\": [\n          \"medium\",\n          \"high\",\n          \"low\"\n        ],\n        \"semantic_type\": \"\",\n        \"description\": \"\"\n      }\n    },\n    {\n      \"column\": \"language\",\n      \"properties\": {\n        \"dtype\": \"category\",\n        \"num_unique_values\": 1,\n        \"samples\": [\n          \"en\"\n        ],\n        \"semantic_type\": \"\",\n        \"description\": \"\"\n      }\n    },\n    {\n      \"column\": \"tag_1\",\n      \"properties\": {\n        \"dtype\": \"category\",\n        \"num_unique_values\": 87,\n        \"samples\": [\n          \"Pricing\"\n        ],\n        \"semantic_type\": \"\",\n        \"description\": \"\"\n      }\n    },\n    {\n      \"column\": \"tag_2\",\n      \"properties\": {\n        \"dtype\": \"category\",\n        \"num_unique_values\": 176,\n        \"samples\": [\n          \"Campaign\"\n        ],\n        \"semantic_type\": \"\",\n        \"description\": \"\"\n      }\n    },\n    {\n      \"column\": \"tag_3\",\n      \"properties\": {\n        \"dtype\": \"category\",\n        \"num_unique_values\": 297,\n        \"samples\": [\n          \"Online\"\n        ],\n        \"semantic_type\": \"\",\n        \"description\": \"\"\n      }\n    },\n    {\n      \"column\": \"tag_4\",\n      \"properties\": {\n        \"dtype\": \"category\",\n        \"num_unique_values\": 400,\n        \"samples\": [\n          \"Ad\"\n        ],\n        \"semantic_type\": \"\",\n        \"description\": \"\"\n      }\n    },\n    {\n      \"column\": \"tag_5\",\n      \"properties\": {\n        \"dtype\": \"category\",\n        \"num_unique_values\": 477,\n        \"samples\": [\n          \"Tutorial\"\n        ],\n        \"semantic_type\": \"\",\n        \"description\": \"\"\n      }\n    },\n    {\n      \"column\": \"tag_6\",\n      \"properties\": {\n        \"dtype\": \"category\",\n        \"num_unique_values\": 468,\n        \"samples\": [\n          \"Real-time\"\n        ],\n        \"semantic_type\": \"\",\n        \"description\": \"\"\n      }\n    },\n    {\n      \"column\": \"tag_7\",\n      \"properties\": {\n        \"dtype\": \"category\",\n        \"num_unique_values\": 419,\n        \"samples\": [\n          \"SaaS\"\n        ],\n        \"semantic_type\": \"\",\n        \"description\": \"\"\n      }\n    },\n    {\n      \"column\": \"tag_8\",\n      \"properties\": {\n        \"dtype\": \"category\",\n        \"num_unique_values\": 332,\n        \"samples\": [\n          \"Keras\"\n        ],\n        \"semantic_type\": \"\",\n        \"description\": \"\"\n      }\n    }\n  ]\n}"
            }
          },
          "metadata": {},
          "execution_count": 12
        }
      ],
      "source": [
        "df = df[df['language'] == 'en']\n",
        "print(\"Shape of filtered dataframe:\", df.shape)\n",
        "\n",
        "df.head()"
      ]
    },
    {
      "cell_type": "markdown",
      "metadata": {
        "id": "NBZBtX0p5PxM"
      },
      "source": [
        "### Dropping Any Unnecessary Columns"
      ]
    },
    {
      "cell_type": "code",
      "execution_count": 13,
      "metadata": {
        "colab": {
          "base_uri": "https://localhost:8080/",
          "height": 206
        },
        "id": "gH7QXb805OrV",
        "outputId": "3c501c0c-9baf-47df-f223-8b00080f53d1"
      },
      "outputs": [
        {
          "output_type": "execute_result",
          "data": {
            "text/plain": [
              "                                             subject  \\\n",
              "1                           Customer Support Inquiry   \n",
              "2                      Data Analytics for Investment   \n",
              "4                                           Security   \n",
              "5  Concerns About Securing Medical Data on 2-in-1...   \n",
              "7                           Problem with Integration   \n",
              "\n",
              "                                                body  \\\n",
              "1  Seeking information on digital strategies that...   \n",
              "2  I am contacting you to request information on ...   \n",
              "4  Dear Customer Support, I am reaching out to in...   \n",
              "5  Inquiring about best practices for securing me...   \n",
              "7  The integration stopped working unexpectedly, ...   \n",
              "\n",
              "                                              answer     type  \\\n",
              "1  We offer a variety of digital strategies and s...  Request   \n",
              "2  I am here to assist you with data analytics to...  Request   \n",
              "4  Dear [name], we take the security of medical d...  Request   \n",
              "5  Thank you for your concern regarding securing ...  Request   \n",
              "7  I will look into the problem and call you at <...  Problem   \n",
              "\n",
              "               queue priority language  \n",
              "1   Customer Service   medium       en  \n",
              "2   Customer Service   medium       en  \n",
              "4   Customer Service   medium       en  \n",
              "5  Technical Support   medium       en  \n",
              "7         IT Support     high       en  "
            ],
            "text/html": [
              "\n",
              "  <div id=\"df-8e910bb4-6f2a-4a13-ac71-0c29ff66c212\" class=\"colab-df-container\">\n",
              "    <div>\n",
              "<style scoped>\n",
              "    .dataframe tbody tr th:only-of-type {\n",
              "        vertical-align: middle;\n",
              "    }\n",
              "\n",
              "    .dataframe tbody tr th {\n",
              "        vertical-align: top;\n",
              "    }\n",
              "\n",
              "    .dataframe thead th {\n",
              "        text-align: right;\n",
              "    }\n",
              "</style>\n",
              "<table border=\"1\" class=\"dataframe\">\n",
              "  <thead>\n",
              "    <tr style=\"text-align: right;\">\n",
              "      <th></th>\n",
              "      <th>subject</th>\n",
              "      <th>body</th>\n",
              "      <th>answer</th>\n",
              "      <th>type</th>\n",
              "      <th>queue</th>\n",
              "      <th>priority</th>\n",
              "      <th>language</th>\n",
              "    </tr>\n",
              "  </thead>\n",
              "  <tbody>\n",
              "    <tr>\n",
              "      <th>1</th>\n",
              "      <td>Customer Support Inquiry</td>\n",
              "      <td>Seeking information on digital strategies that...</td>\n",
              "      <td>We offer a variety of digital strategies and s...</td>\n",
              "      <td>Request</td>\n",
              "      <td>Customer Service</td>\n",
              "      <td>medium</td>\n",
              "      <td>en</td>\n",
              "    </tr>\n",
              "    <tr>\n",
              "      <th>2</th>\n",
              "      <td>Data Analytics for Investment</td>\n",
              "      <td>I am contacting you to request information on ...</td>\n",
              "      <td>I am here to assist you with data analytics to...</td>\n",
              "      <td>Request</td>\n",
              "      <td>Customer Service</td>\n",
              "      <td>medium</td>\n",
              "      <td>en</td>\n",
              "    </tr>\n",
              "    <tr>\n",
              "      <th>4</th>\n",
              "      <td>Security</td>\n",
              "      <td>Dear Customer Support, I am reaching out to in...</td>\n",
              "      <td>Dear [name], we take the security of medical d...</td>\n",
              "      <td>Request</td>\n",
              "      <td>Customer Service</td>\n",
              "      <td>medium</td>\n",
              "      <td>en</td>\n",
              "    </tr>\n",
              "    <tr>\n",
              "      <th>5</th>\n",
              "      <td>Concerns About Securing Medical Data on 2-in-1...</td>\n",
              "      <td>Inquiring about best practices for securing me...</td>\n",
              "      <td>Thank you for your concern regarding securing ...</td>\n",
              "      <td>Request</td>\n",
              "      <td>Technical Support</td>\n",
              "      <td>medium</td>\n",
              "      <td>en</td>\n",
              "    </tr>\n",
              "    <tr>\n",
              "      <th>7</th>\n",
              "      <td>Problem with Integration</td>\n",
              "      <td>The integration stopped working unexpectedly, ...</td>\n",
              "      <td>I will look into the problem and call you at &lt;...</td>\n",
              "      <td>Problem</td>\n",
              "      <td>IT Support</td>\n",
              "      <td>high</td>\n",
              "      <td>en</td>\n",
              "    </tr>\n",
              "  </tbody>\n",
              "</table>\n",
              "</div>\n",
              "    <div class=\"colab-df-buttons\">\n",
              "\n",
              "  <div class=\"colab-df-container\">\n",
              "    <button class=\"colab-df-convert\" onclick=\"convertToInteractive('df-8e910bb4-6f2a-4a13-ac71-0c29ff66c212')\"\n",
              "            title=\"Convert this dataframe to an interactive table.\"\n",
              "            style=\"display:none;\">\n",
              "\n",
              "  <svg xmlns=\"http://www.w3.org/2000/svg\" height=\"24px\" viewBox=\"0 -960 960 960\">\n",
              "    <path d=\"M120-120v-720h720v720H120Zm60-500h600v-160H180v160Zm220 220h160v-160H400v160Zm0 220h160v-160H400v160ZM180-400h160v-160H180v160Zm440 0h160v-160H620v160ZM180-180h160v-160H180v160Zm440 0h160v-160H620v160Z\"/>\n",
              "  </svg>\n",
              "    </button>\n",
              "\n",
              "  <style>\n",
              "    .colab-df-container {\n",
              "      display:flex;\n",
              "      gap: 12px;\n",
              "    }\n",
              "\n",
              "    .colab-df-convert {\n",
              "      background-color: #E8F0FE;\n",
              "      border: none;\n",
              "      border-radius: 50%;\n",
              "      cursor: pointer;\n",
              "      display: none;\n",
              "      fill: #1967D2;\n",
              "      height: 32px;\n",
              "      padding: 0 0 0 0;\n",
              "      width: 32px;\n",
              "    }\n",
              "\n",
              "    .colab-df-convert:hover {\n",
              "      background-color: #E2EBFA;\n",
              "      box-shadow: 0px 1px 2px rgba(60, 64, 67, 0.3), 0px 1px 3px 1px rgba(60, 64, 67, 0.15);\n",
              "      fill: #174EA6;\n",
              "    }\n",
              "\n",
              "    .colab-df-buttons div {\n",
              "      margin-bottom: 4px;\n",
              "    }\n",
              "\n",
              "    [theme=dark] .colab-df-convert {\n",
              "      background-color: #3B4455;\n",
              "      fill: #D2E3FC;\n",
              "    }\n",
              "\n",
              "    [theme=dark] .colab-df-convert:hover {\n",
              "      background-color: #434B5C;\n",
              "      box-shadow: 0px 1px 3px 1px rgba(0, 0, 0, 0.15);\n",
              "      filter: drop-shadow(0px 1px 2px rgba(0, 0, 0, 0.3));\n",
              "      fill: #FFFFFF;\n",
              "    }\n",
              "  </style>\n",
              "\n",
              "    <script>\n",
              "      const buttonEl =\n",
              "        document.querySelector('#df-8e910bb4-6f2a-4a13-ac71-0c29ff66c212 button.colab-df-convert');\n",
              "      buttonEl.style.display =\n",
              "        google.colab.kernel.accessAllowed ? 'block' : 'none';\n",
              "\n",
              "      async function convertToInteractive(key) {\n",
              "        const element = document.querySelector('#df-8e910bb4-6f2a-4a13-ac71-0c29ff66c212');\n",
              "        const dataTable =\n",
              "          await google.colab.kernel.invokeFunction('convertToInteractive',\n",
              "                                                    [key], {});\n",
              "        if (!dataTable) return;\n",
              "\n",
              "        const docLinkHtml = 'Like what you see? Visit the ' +\n",
              "          '<a target=\"_blank\" href=https://colab.research.google.com/notebooks/data_table.ipynb>data table notebook</a>'\n",
              "          + ' to learn more about interactive tables.';\n",
              "        element.innerHTML = '';\n",
              "        dataTable['output_type'] = 'display_data';\n",
              "        await google.colab.output.renderOutput(dataTable, element);\n",
              "        const docLink = document.createElement('div');\n",
              "        docLink.innerHTML = docLinkHtml;\n",
              "        element.appendChild(docLink);\n",
              "      }\n",
              "    </script>\n",
              "  </div>\n",
              "\n",
              "\n",
              "<div id=\"df-60cf6144-9564-4f23-a235-97d5287e3d56\">\n",
              "  <button class=\"colab-df-quickchart\" onclick=\"quickchart('df-60cf6144-9564-4f23-a235-97d5287e3d56')\"\n",
              "            title=\"Suggest charts\"\n",
              "            style=\"display:none;\">\n",
              "\n",
              "<svg xmlns=\"http://www.w3.org/2000/svg\" height=\"24px\"viewBox=\"0 0 24 24\"\n",
              "     width=\"24px\">\n",
              "    <g>\n",
              "        <path d=\"M19 3H5c-1.1 0-2 .9-2 2v14c0 1.1.9 2 2 2h14c1.1 0 2-.9 2-2V5c0-1.1-.9-2-2-2zM9 17H7v-7h2v7zm4 0h-2V7h2v10zm4 0h-2v-4h2v4z\"/>\n",
              "    </g>\n",
              "</svg>\n",
              "  </button>\n",
              "\n",
              "<style>\n",
              "  .colab-df-quickchart {\n",
              "      --bg-color: #E8F0FE;\n",
              "      --fill-color: #1967D2;\n",
              "      --hover-bg-color: #E2EBFA;\n",
              "      --hover-fill-color: #174EA6;\n",
              "      --disabled-fill-color: #AAA;\n",
              "      --disabled-bg-color: #DDD;\n",
              "  }\n",
              "\n",
              "  [theme=dark] .colab-df-quickchart {\n",
              "      --bg-color: #3B4455;\n",
              "      --fill-color: #D2E3FC;\n",
              "      --hover-bg-color: #434B5C;\n",
              "      --hover-fill-color: #FFFFFF;\n",
              "      --disabled-bg-color: #3B4455;\n",
              "      --disabled-fill-color: #666;\n",
              "  }\n",
              "\n",
              "  .colab-df-quickchart {\n",
              "    background-color: var(--bg-color);\n",
              "    border: none;\n",
              "    border-radius: 50%;\n",
              "    cursor: pointer;\n",
              "    display: none;\n",
              "    fill: var(--fill-color);\n",
              "    height: 32px;\n",
              "    padding: 0;\n",
              "    width: 32px;\n",
              "  }\n",
              "\n",
              "  .colab-df-quickchart:hover {\n",
              "    background-color: var(--hover-bg-color);\n",
              "    box-shadow: 0 1px 2px rgba(60, 64, 67, 0.3), 0 1px 3px 1px rgba(60, 64, 67, 0.15);\n",
              "    fill: var(--button-hover-fill-color);\n",
              "  }\n",
              "\n",
              "  .colab-df-quickchart-complete:disabled,\n",
              "  .colab-df-quickchart-complete:disabled:hover {\n",
              "    background-color: var(--disabled-bg-color);\n",
              "    fill: var(--disabled-fill-color);\n",
              "    box-shadow: none;\n",
              "  }\n",
              "\n",
              "  .colab-df-spinner {\n",
              "    border: 2px solid var(--fill-color);\n",
              "    border-color: transparent;\n",
              "    border-bottom-color: var(--fill-color);\n",
              "    animation:\n",
              "      spin 1s steps(1) infinite;\n",
              "  }\n",
              "\n",
              "  @keyframes spin {\n",
              "    0% {\n",
              "      border-color: transparent;\n",
              "      border-bottom-color: var(--fill-color);\n",
              "      border-left-color: var(--fill-color);\n",
              "    }\n",
              "    20% {\n",
              "      border-color: transparent;\n",
              "      border-left-color: var(--fill-color);\n",
              "      border-top-color: var(--fill-color);\n",
              "    }\n",
              "    30% {\n",
              "      border-color: transparent;\n",
              "      border-left-color: var(--fill-color);\n",
              "      border-top-color: var(--fill-color);\n",
              "      border-right-color: var(--fill-color);\n",
              "    }\n",
              "    40% {\n",
              "      border-color: transparent;\n",
              "      border-right-color: var(--fill-color);\n",
              "      border-top-color: var(--fill-color);\n",
              "    }\n",
              "    60% {\n",
              "      border-color: transparent;\n",
              "      border-right-color: var(--fill-color);\n",
              "    }\n",
              "    80% {\n",
              "      border-color: transparent;\n",
              "      border-right-color: var(--fill-color);\n",
              "      border-bottom-color: var(--fill-color);\n",
              "    }\n",
              "    90% {\n",
              "      border-color: transparent;\n",
              "      border-bottom-color: var(--fill-color);\n",
              "    }\n",
              "  }\n",
              "</style>\n",
              "\n",
              "  <script>\n",
              "    async function quickchart(key) {\n",
              "      const quickchartButtonEl =\n",
              "        document.querySelector('#' + key + ' button');\n",
              "      quickchartButtonEl.disabled = true;  // To prevent multiple clicks.\n",
              "      quickchartButtonEl.classList.add('colab-df-spinner');\n",
              "      try {\n",
              "        const charts = await google.colab.kernel.invokeFunction(\n",
              "            'suggestCharts', [key], {});\n",
              "      } catch (error) {\n",
              "        console.error('Error during call to suggestCharts:', error);\n",
              "      }\n",
              "      quickchartButtonEl.classList.remove('colab-df-spinner');\n",
              "      quickchartButtonEl.classList.add('colab-df-quickchart-complete');\n",
              "    }\n",
              "    (() => {\n",
              "      let quickchartButtonEl =\n",
              "        document.querySelector('#df-60cf6144-9564-4f23-a235-97d5287e3d56 button');\n",
              "      quickchartButtonEl.style.display =\n",
              "        google.colab.kernel.accessAllowed ? 'block' : 'none';\n",
              "    })();\n",
              "  </script>\n",
              "</div>\n",
              "\n",
              "    </div>\n",
              "  </div>\n"
            ],
            "application/vnd.google.colaboratory.intrinsic+json": {
              "type": "dataframe",
              "variable_name": "df",
              "summary": "{\n  \"name\": \"df\",\n  \"rows\": 11923,\n  \"fields\": [\n    {\n      \"column\": \"subject\",\n      \"properties\": {\n        \"dtype\": \"string\",\n        \"num_unique_values\": 10891,\n        \"samples\": [\n          \"Medical Data Encryption Encounter Issues\",\n          \"Issues with Billing\",\n          \"Urgent Assistance Needed for Unauthorized Access to Patient Records\"\n        ],\n        \"semantic_type\": \"\",\n        \"description\": \"\"\n      }\n    },\n    {\n      \"column\": \"body\",\n      \"properties\": {\n        \"dtype\": \"string\",\n        \"num_unique_values\": 11922,\n        \"samples\": [\n          \"The encryption process for medical data has failed, leading to the exposure of patient information because of an outdated version of Avast antivirus software and incompatible Airtable plugins.\",\n          \"I am encountering problems with incorrect invoice totals due to a billing system glitch. Despite restarting, relogging, and resynchronizing data, the issue still exists. I would greatly appreciate your timely assistance in addressing this concern.\",\n          \"Could you provide detailed information on the Xero integration for project management SaaS? Your support is greatly appreciated. We look forward to hearing back soon.\"\n        ],\n        \"semantic_type\": \"\",\n        \"description\": \"\"\n      }\n    },\n    {\n      \"column\": \"answer\",\n      \"properties\": {\n        \"dtype\": \"string\",\n        \"num_unique_values\": 11920,\n        \"samples\": [\n          \"We will provide API guides, setup tutorials, and relevant documentation to assist with integrating SaaS with Microsoft SQL Server 2019. Please allow us to send this information. You can also contact us at <tel_num> for a detailed discussion on system requirements and limitations.\",\n          \"Noted the email about the team meeting schedule arrangement issue. Please share more details about the conflict. I am ready to assist in resolving it as soon as possible.\",\n          \"We are here to help with the integration issue between QuickBooks Online and Smartsheet. To better assist you, could you please provide the version numbers of the applications and the exact error message you are receiving while attempting to sync? This information will help us determine the cause of the issue and provide a suitable solution. If needed, we can schedule a call at your convenience to discuss and work on resolving the problem. Please let me know a suitable time for contact at <tel_num>.\"\n        ],\n        \"semantic_type\": \"\",\n        \"description\": \"\"\n      }\n    },\n    {\n      \"column\": \"type\",\n      \"properties\": {\n        \"dtype\": \"category\",\n        \"num_unique_values\": 4,\n        \"samples\": [\n          \"Problem\",\n          \"Change\",\n          \"Request\"\n        ],\n        \"semantic_type\": \"\",\n        \"description\": \"\"\n      }\n    },\n    {\n      \"column\": \"queue\",\n      \"properties\": {\n        \"dtype\": \"category\",\n        \"num_unique_values\": 10,\n        \"samples\": [\n          \"Sales and Pre-Sales\",\n          \"Technical Support\",\n          \"Service Outages and Maintenance\"\n        ],\n        \"semantic_type\": \"\",\n        \"description\": \"\"\n      }\n    },\n    {\n      \"column\": \"priority\",\n      \"properties\": {\n        \"dtype\": \"category\",\n        \"num_unique_values\": 3,\n        \"samples\": [\n          \"medium\",\n          \"high\",\n          \"low\"\n        ],\n        \"semantic_type\": \"\",\n        \"description\": \"\"\n      }\n    },\n    {\n      \"column\": \"language\",\n      \"properties\": {\n        \"dtype\": \"category\",\n        \"num_unique_values\": 1,\n        \"samples\": [\n          \"en\"\n        ],\n        \"semantic_type\": \"\",\n        \"description\": \"\"\n      }\n    }\n  ]\n}"
            }
          },
          "metadata": {},
          "execution_count": 13
        }
      ],
      "source": [
        "# Extra Columns that we don't intend to use\n",
        "misc_metadata = ['tag_1','tag_2','tag_3','tag_4',\n",
        "                 'tag_5', 'tag_6', 'tag_7', 'tag_8']\n",
        "\n",
        "df = df.drop(misc_metadata, axis=1)\n",
        "\n",
        "df.head()"
      ]
    },
    {
      "cell_type": "markdown",
      "metadata": {
        "id": "UCKEVitXFpNF"
      },
      "source": [
        "### Combining \"medium\" and \"high\" priority into one category"
      ]
    },
    {
      "cell_type": "code",
      "execution_count": 14,
      "metadata": {
        "colab": {
          "base_uri": "https://localhost:8080/",
          "height": 206
        },
        "id": "zWdji1HLF3Z2",
        "outputId": "87fbcd67-4303-41ff-a5cd-537c6d95cbe0"
      },
      "outputs": [
        {
          "output_type": "execute_result",
          "data": {
            "text/plain": [
              "                                             subject  \\\n",
              "1                           Customer Support Inquiry   \n",
              "2                      Data Analytics for Investment   \n",
              "4                                           Security   \n",
              "5  Concerns About Securing Medical Data on 2-in-1...   \n",
              "7                           Problem with Integration   \n",
              "\n",
              "                                                body  \\\n",
              "1  Seeking information on digital strategies that...   \n",
              "2  I am contacting you to request information on ...   \n",
              "4  Dear Customer Support, I am reaching out to in...   \n",
              "5  Inquiring about best practices for securing me...   \n",
              "7  The integration stopped working unexpectedly, ...   \n",
              "\n",
              "                                              answer     type  \\\n",
              "1  We offer a variety of digital strategies and s...  Request   \n",
              "2  I am here to assist you with data analytics to...  Request   \n",
              "4  Dear [name], we take the security of medical d...  Request   \n",
              "5  Thank you for your concern regarding securing ...  Request   \n",
              "7  I will look into the problem and call you at <...  Problem   \n",
              "\n",
              "               queue  priority language  \n",
              "1   Customer Service  med/high       en  \n",
              "2   Customer Service  med/high       en  \n",
              "4   Customer Service  med/high       en  \n",
              "5  Technical Support  med/high       en  \n",
              "7         IT Support  med/high       en  "
            ],
            "text/html": [
              "\n",
              "  <div id=\"df-ae5eab18-1324-4618-b9b0-f9586be9afa2\" class=\"colab-df-container\">\n",
              "    <div>\n",
              "<style scoped>\n",
              "    .dataframe tbody tr th:only-of-type {\n",
              "        vertical-align: middle;\n",
              "    }\n",
              "\n",
              "    .dataframe tbody tr th {\n",
              "        vertical-align: top;\n",
              "    }\n",
              "\n",
              "    .dataframe thead th {\n",
              "        text-align: right;\n",
              "    }\n",
              "</style>\n",
              "<table border=\"1\" class=\"dataframe\">\n",
              "  <thead>\n",
              "    <tr style=\"text-align: right;\">\n",
              "      <th></th>\n",
              "      <th>subject</th>\n",
              "      <th>body</th>\n",
              "      <th>answer</th>\n",
              "      <th>type</th>\n",
              "      <th>queue</th>\n",
              "      <th>priority</th>\n",
              "      <th>language</th>\n",
              "    </tr>\n",
              "  </thead>\n",
              "  <tbody>\n",
              "    <tr>\n",
              "      <th>1</th>\n",
              "      <td>Customer Support Inquiry</td>\n",
              "      <td>Seeking information on digital strategies that...</td>\n",
              "      <td>We offer a variety of digital strategies and s...</td>\n",
              "      <td>Request</td>\n",
              "      <td>Customer Service</td>\n",
              "      <td>med/high</td>\n",
              "      <td>en</td>\n",
              "    </tr>\n",
              "    <tr>\n",
              "      <th>2</th>\n",
              "      <td>Data Analytics for Investment</td>\n",
              "      <td>I am contacting you to request information on ...</td>\n",
              "      <td>I am here to assist you with data analytics to...</td>\n",
              "      <td>Request</td>\n",
              "      <td>Customer Service</td>\n",
              "      <td>med/high</td>\n",
              "      <td>en</td>\n",
              "    </tr>\n",
              "    <tr>\n",
              "      <th>4</th>\n",
              "      <td>Security</td>\n",
              "      <td>Dear Customer Support, I am reaching out to in...</td>\n",
              "      <td>Dear [name], we take the security of medical d...</td>\n",
              "      <td>Request</td>\n",
              "      <td>Customer Service</td>\n",
              "      <td>med/high</td>\n",
              "      <td>en</td>\n",
              "    </tr>\n",
              "    <tr>\n",
              "      <th>5</th>\n",
              "      <td>Concerns About Securing Medical Data on 2-in-1...</td>\n",
              "      <td>Inquiring about best practices for securing me...</td>\n",
              "      <td>Thank you for your concern regarding securing ...</td>\n",
              "      <td>Request</td>\n",
              "      <td>Technical Support</td>\n",
              "      <td>med/high</td>\n",
              "      <td>en</td>\n",
              "    </tr>\n",
              "    <tr>\n",
              "      <th>7</th>\n",
              "      <td>Problem with Integration</td>\n",
              "      <td>The integration stopped working unexpectedly, ...</td>\n",
              "      <td>I will look into the problem and call you at &lt;...</td>\n",
              "      <td>Problem</td>\n",
              "      <td>IT Support</td>\n",
              "      <td>med/high</td>\n",
              "      <td>en</td>\n",
              "    </tr>\n",
              "  </tbody>\n",
              "</table>\n",
              "</div>\n",
              "    <div class=\"colab-df-buttons\">\n",
              "\n",
              "  <div class=\"colab-df-container\">\n",
              "    <button class=\"colab-df-convert\" onclick=\"convertToInteractive('df-ae5eab18-1324-4618-b9b0-f9586be9afa2')\"\n",
              "            title=\"Convert this dataframe to an interactive table.\"\n",
              "            style=\"display:none;\">\n",
              "\n",
              "  <svg xmlns=\"http://www.w3.org/2000/svg\" height=\"24px\" viewBox=\"0 -960 960 960\">\n",
              "    <path d=\"M120-120v-720h720v720H120Zm60-500h600v-160H180v160Zm220 220h160v-160H400v160Zm0 220h160v-160H400v160ZM180-400h160v-160H180v160Zm440 0h160v-160H620v160ZM180-180h160v-160H180v160Zm440 0h160v-160H620v160Z\"/>\n",
              "  </svg>\n",
              "    </button>\n",
              "\n",
              "  <style>\n",
              "    .colab-df-container {\n",
              "      display:flex;\n",
              "      gap: 12px;\n",
              "    }\n",
              "\n",
              "    .colab-df-convert {\n",
              "      background-color: #E8F0FE;\n",
              "      border: none;\n",
              "      border-radius: 50%;\n",
              "      cursor: pointer;\n",
              "      display: none;\n",
              "      fill: #1967D2;\n",
              "      height: 32px;\n",
              "      padding: 0 0 0 0;\n",
              "      width: 32px;\n",
              "    }\n",
              "\n",
              "    .colab-df-convert:hover {\n",
              "      background-color: #E2EBFA;\n",
              "      box-shadow: 0px 1px 2px rgba(60, 64, 67, 0.3), 0px 1px 3px 1px rgba(60, 64, 67, 0.15);\n",
              "      fill: #174EA6;\n",
              "    }\n",
              "\n",
              "    .colab-df-buttons div {\n",
              "      margin-bottom: 4px;\n",
              "    }\n",
              "\n",
              "    [theme=dark] .colab-df-convert {\n",
              "      background-color: #3B4455;\n",
              "      fill: #D2E3FC;\n",
              "    }\n",
              "\n",
              "    [theme=dark] .colab-df-convert:hover {\n",
              "      background-color: #434B5C;\n",
              "      box-shadow: 0px 1px 3px 1px rgba(0, 0, 0, 0.15);\n",
              "      filter: drop-shadow(0px 1px 2px rgba(0, 0, 0, 0.3));\n",
              "      fill: #FFFFFF;\n",
              "    }\n",
              "  </style>\n",
              "\n",
              "    <script>\n",
              "      const buttonEl =\n",
              "        document.querySelector('#df-ae5eab18-1324-4618-b9b0-f9586be9afa2 button.colab-df-convert');\n",
              "      buttonEl.style.display =\n",
              "        google.colab.kernel.accessAllowed ? 'block' : 'none';\n",
              "\n",
              "      async function convertToInteractive(key) {\n",
              "        const element = document.querySelector('#df-ae5eab18-1324-4618-b9b0-f9586be9afa2');\n",
              "        const dataTable =\n",
              "          await google.colab.kernel.invokeFunction('convertToInteractive',\n",
              "                                                    [key], {});\n",
              "        if (!dataTable) return;\n",
              "\n",
              "        const docLinkHtml = 'Like what you see? Visit the ' +\n",
              "          '<a target=\"_blank\" href=https://colab.research.google.com/notebooks/data_table.ipynb>data table notebook</a>'\n",
              "          + ' to learn more about interactive tables.';\n",
              "        element.innerHTML = '';\n",
              "        dataTable['output_type'] = 'display_data';\n",
              "        await google.colab.output.renderOutput(dataTable, element);\n",
              "        const docLink = document.createElement('div');\n",
              "        docLink.innerHTML = docLinkHtml;\n",
              "        element.appendChild(docLink);\n",
              "      }\n",
              "    </script>\n",
              "  </div>\n",
              "\n",
              "\n",
              "<div id=\"df-88bc68c1-b57b-4f4f-bdcd-f191912b65a3\">\n",
              "  <button class=\"colab-df-quickchart\" onclick=\"quickchart('df-88bc68c1-b57b-4f4f-bdcd-f191912b65a3')\"\n",
              "            title=\"Suggest charts\"\n",
              "            style=\"display:none;\">\n",
              "\n",
              "<svg xmlns=\"http://www.w3.org/2000/svg\" height=\"24px\"viewBox=\"0 0 24 24\"\n",
              "     width=\"24px\">\n",
              "    <g>\n",
              "        <path d=\"M19 3H5c-1.1 0-2 .9-2 2v14c0 1.1.9 2 2 2h14c1.1 0 2-.9 2-2V5c0-1.1-.9-2-2-2zM9 17H7v-7h2v7zm4 0h-2V7h2v10zm4 0h-2v-4h2v4z\"/>\n",
              "    </g>\n",
              "</svg>\n",
              "  </button>\n",
              "\n",
              "<style>\n",
              "  .colab-df-quickchart {\n",
              "      --bg-color: #E8F0FE;\n",
              "      --fill-color: #1967D2;\n",
              "      --hover-bg-color: #E2EBFA;\n",
              "      --hover-fill-color: #174EA6;\n",
              "      --disabled-fill-color: #AAA;\n",
              "      --disabled-bg-color: #DDD;\n",
              "  }\n",
              "\n",
              "  [theme=dark] .colab-df-quickchart {\n",
              "      --bg-color: #3B4455;\n",
              "      --fill-color: #D2E3FC;\n",
              "      --hover-bg-color: #434B5C;\n",
              "      --hover-fill-color: #FFFFFF;\n",
              "      --disabled-bg-color: #3B4455;\n",
              "      --disabled-fill-color: #666;\n",
              "  }\n",
              "\n",
              "  .colab-df-quickchart {\n",
              "    background-color: var(--bg-color);\n",
              "    border: none;\n",
              "    border-radius: 50%;\n",
              "    cursor: pointer;\n",
              "    display: none;\n",
              "    fill: var(--fill-color);\n",
              "    height: 32px;\n",
              "    padding: 0;\n",
              "    width: 32px;\n",
              "  }\n",
              "\n",
              "  .colab-df-quickchart:hover {\n",
              "    background-color: var(--hover-bg-color);\n",
              "    box-shadow: 0 1px 2px rgba(60, 64, 67, 0.3), 0 1px 3px 1px rgba(60, 64, 67, 0.15);\n",
              "    fill: var(--button-hover-fill-color);\n",
              "  }\n",
              "\n",
              "  .colab-df-quickchart-complete:disabled,\n",
              "  .colab-df-quickchart-complete:disabled:hover {\n",
              "    background-color: var(--disabled-bg-color);\n",
              "    fill: var(--disabled-fill-color);\n",
              "    box-shadow: none;\n",
              "  }\n",
              "\n",
              "  .colab-df-spinner {\n",
              "    border: 2px solid var(--fill-color);\n",
              "    border-color: transparent;\n",
              "    border-bottom-color: var(--fill-color);\n",
              "    animation:\n",
              "      spin 1s steps(1) infinite;\n",
              "  }\n",
              "\n",
              "  @keyframes spin {\n",
              "    0% {\n",
              "      border-color: transparent;\n",
              "      border-bottom-color: var(--fill-color);\n",
              "      border-left-color: var(--fill-color);\n",
              "    }\n",
              "    20% {\n",
              "      border-color: transparent;\n",
              "      border-left-color: var(--fill-color);\n",
              "      border-top-color: var(--fill-color);\n",
              "    }\n",
              "    30% {\n",
              "      border-color: transparent;\n",
              "      border-left-color: var(--fill-color);\n",
              "      border-top-color: var(--fill-color);\n",
              "      border-right-color: var(--fill-color);\n",
              "    }\n",
              "    40% {\n",
              "      border-color: transparent;\n",
              "      border-right-color: var(--fill-color);\n",
              "      border-top-color: var(--fill-color);\n",
              "    }\n",
              "    60% {\n",
              "      border-color: transparent;\n",
              "      border-right-color: var(--fill-color);\n",
              "    }\n",
              "    80% {\n",
              "      border-color: transparent;\n",
              "      border-right-color: var(--fill-color);\n",
              "      border-bottom-color: var(--fill-color);\n",
              "    }\n",
              "    90% {\n",
              "      border-color: transparent;\n",
              "      border-bottom-color: var(--fill-color);\n",
              "    }\n",
              "  }\n",
              "</style>\n",
              "\n",
              "  <script>\n",
              "    async function quickchart(key) {\n",
              "      const quickchartButtonEl =\n",
              "        document.querySelector('#' + key + ' button');\n",
              "      quickchartButtonEl.disabled = true;  // To prevent multiple clicks.\n",
              "      quickchartButtonEl.classList.add('colab-df-spinner');\n",
              "      try {\n",
              "        const charts = await google.colab.kernel.invokeFunction(\n",
              "            'suggestCharts', [key], {});\n",
              "      } catch (error) {\n",
              "        console.error('Error during call to suggestCharts:', error);\n",
              "      }\n",
              "      quickchartButtonEl.classList.remove('colab-df-spinner');\n",
              "      quickchartButtonEl.classList.add('colab-df-quickchart-complete');\n",
              "    }\n",
              "    (() => {\n",
              "      let quickchartButtonEl =\n",
              "        document.querySelector('#df-88bc68c1-b57b-4f4f-bdcd-f191912b65a3 button');\n",
              "      quickchartButtonEl.style.display =\n",
              "        google.colab.kernel.accessAllowed ? 'block' : 'none';\n",
              "    })();\n",
              "  </script>\n",
              "</div>\n",
              "\n",
              "    </div>\n",
              "  </div>\n"
            ],
            "application/vnd.google.colaboratory.intrinsic+json": {
              "type": "dataframe",
              "variable_name": "df",
              "summary": "{\n  \"name\": \"df\",\n  \"rows\": 11923,\n  \"fields\": [\n    {\n      \"column\": \"subject\",\n      \"properties\": {\n        \"dtype\": \"string\",\n        \"num_unique_values\": 10891,\n        \"samples\": [\n          \"Medical Data Encryption Encounter Issues\",\n          \"Issues with Billing\",\n          \"Urgent Assistance Needed for Unauthorized Access to Patient Records\"\n        ],\n        \"semantic_type\": \"\",\n        \"description\": \"\"\n      }\n    },\n    {\n      \"column\": \"body\",\n      \"properties\": {\n        \"dtype\": \"string\",\n        \"num_unique_values\": 11922,\n        \"samples\": [\n          \"The encryption process for medical data has failed, leading to the exposure of patient information because of an outdated version of Avast antivirus software and incompatible Airtable plugins.\",\n          \"I am encountering problems with incorrect invoice totals due to a billing system glitch. Despite restarting, relogging, and resynchronizing data, the issue still exists. I would greatly appreciate your timely assistance in addressing this concern.\",\n          \"Could you provide detailed information on the Xero integration for project management SaaS? Your support is greatly appreciated. We look forward to hearing back soon.\"\n        ],\n        \"semantic_type\": \"\",\n        \"description\": \"\"\n      }\n    },\n    {\n      \"column\": \"answer\",\n      \"properties\": {\n        \"dtype\": \"string\",\n        \"num_unique_values\": 11920,\n        \"samples\": [\n          \"We will provide API guides, setup tutorials, and relevant documentation to assist with integrating SaaS with Microsoft SQL Server 2019. Please allow us to send this information. You can also contact us at <tel_num> for a detailed discussion on system requirements and limitations.\",\n          \"Noted the email about the team meeting schedule arrangement issue. Please share more details about the conflict. I am ready to assist in resolving it as soon as possible.\",\n          \"We are here to help with the integration issue between QuickBooks Online and Smartsheet. To better assist you, could you please provide the version numbers of the applications and the exact error message you are receiving while attempting to sync? This information will help us determine the cause of the issue and provide a suitable solution. If needed, we can schedule a call at your convenience to discuss and work on resolving the problem. Please let me know a suitable time for contact at <tel_num>.\"\n        ],\n        \"semantic_type\": \"\",\n        \"description\": \"\"\n      }\n    },\n    {\n      \"column\": \"type\",\n      \"properties\": {\n        \"dtype\": \"category\",\n        \"num_unique_values\": 4,\n        \"samples\": [\n          \"Problem\",\n          \"Change\",\n          \"Request\"\n        ],\n        \"semantic_type\": \"\",\n        \"description\": \"\"\n      }\n    },\n    {\n      \"column\": \"queue\",\n      \"properties\": {\n        \"dtype\": \"category\",\n        \"num_unique_values\": 10,\n        \"samples\": [\n          \"Sales and Pre-Sales\",\n          \"Technical Support\",\n          \"Service Outages and Maintenance\"\n        ],\n        \"semantic_type\": \"\",\n        \"description\": \"\"\n      }\n    },\n    {\n      \"column\": \"priority\",\n      \"properties\": {\n        \"dtype\": \"category\",\n        \"num_unique_values\": 2,\n        \"samples\": [\n          \"low\",\n          \"med/high\"\n        ],\n        \"semantic_type\": \"\",\n        \"description\": \"\"\n      }\n    },\n    {\n      \"column\": \"language\",\n      \"properties\": {\n        \"dtype\": \"category\",\n        \"num_unique_values\": 1,\n        \"samples\": [\n          \"en\"\n        ],\n        \"semantic_type\": \"\",\n        \"description\": \"\"\n      }\n    }\n  ]\n}"
            }
          },
          "metadata": {},
          "execution_count": 14
        }
      ],
      "source": [
        "# Replace 'medium' and 'high' with 'med/high'\n",
        "df['priority'] = df['priority'].replace({'medium': 'med/high', 'high': 'med/high'})\n",
        "\n",
        "df.head()"
      ]
    },
    {
      "cell_type": "markdown",
      "metadata": {
        "id": "xNGT85dmGZ7d"
      },
      "source": [
        "### Missing Values & Duplicates Analysis"
      ]
    },
    {
      "cell_type": "code",
      "execution_count": 15,
      "metadata": {
        "colab": {
          "base_uri": "https://localhost:8080/"
        },
        "id": "87yH-lJgCsDR",
        "outputId": "a9368f80-bd80-4b22-bcd5-257abe7fbd54"
      },
      "outputs": [
        {
          "output_type": "stream",
          "name": "stdout",
          "text": [
            "\n",
            "Missing Values by Column:\n",
            "subject     1032\n",
            "body           1\n",
            "answer         3\n",
            "type           0\n",
            "queue          0\n",
            "priority       0\n",
            "language       0\n",
            "dtype: int64\n",
            "\n",
            "Number of duplicate records: 0\n"
          ]
        }
      ],
      "source": [
        "# Check for missing values in each column\n",
        "print(\"\\nMissing Values by Column:\")\n",
        "print(df.isnull().sum())\n",
        "\n",
        "# Check for duplicates based on a subset of columns\n",
        "duplicate_rows = df.duplicated(subset=[\"subject\", \"body\", \"priority\"])\n",
        "print(f\"\\nNumber of duplicate records: {duplicate_rows.sum()}\")"
      ]
    },
    {
      "cell_type": "markdown",
      "metadata": {
        "id": "e_yTPekmJFkB"
      },
      "source": [
        "### Imputing Null Subject Lines and Combining Request Data"
      ]
    },
    {
      "cell_type": "code",
      "execution_count": 16,
      "metadata": {
        "colab": {
          "base_uri": "https://localhost:8080/"
        },
        "id": "-sKBCIkwJBus",
        "outputId": "e08111c0-db3c-49ae-eeb4-dd4498bd75b8"
      },
      "outputs": [
        {
          "output_type": "stream",
          "name": "stdout",
          "text": [
            "Null Subject Values: 0\n"
          ]
        },
        {
          "output_type": "stream",
          "name": "stderr",
          "text": [
            "<ipython-input-16-9828db89b150>:2: FutureWarning: A value is trying to be set on a copy of a DataFrame or Series through chained assignment using an inplace method.\n",
            "The behavior will change in pandas 3.0. This inplace method will never work because the intermediate object on which we are setting values always behaves as a copy.\n",
            "\n",
            "For example, when doing 'df[col].method(value, inplace=True)', try using 'df.method({col: value}, inplace=True)' or df[col] = df[col].method(value) instead, to perform the operation inplace on the original object.\n",
            "\n",
            "\n",
            "  df['subject'].fillna('[No Subject]', inplace=True)\n"
          ]
        }
      ],
      "source": [
        "# Imputing Null Subject Lines\n",
        "df['subject'].fillna('[No Subject]', inplace=True)\n",
        "\n",
        "print(\"Null Subject Values:\", df['subject'].isnull().sum())"
      ]
    },
    {
      "cell_type": "code",
      "execution_count": 17,
      "metadata": {
        "colab": {
          "base_uri": "https://localhost:8080/",
          "height": 241
        },
        "id": "voUiSYxKJOj2",
        "outputId": "fe98ad8e-f004-48fe-8993-8db131318f13"
      },
      "outputs": [
        {
          "output_type": "execute_result",
          "data": {
            "text/plain": [
              "1    Subject: Customer Support Inquiry Body: Seekin...\n",
              "2    Subject: Data Analytics for Investment Body: I...\n",
              "4    Subject: Security Body: Dear Customer Support,...\n",
              "5    Subject: Concerns About Securing Medical Data ...\n",
              "7    Subject: Problem with Integration Body: The in...\n",
              "Name: combined_request, dtype: object"
            ],
            "text/html": [
              "<div>\n",
              "<style scoped>\n",
              "    .dataframe tbody tr th:only-of-type {\n",
              "        vertical-align: middle;\n",
              "    }\n",
              "\n",
              "    .dataframe tbody tr th {\n",
              "        vertical-align: top;\n",
              "    }\n",
              "\n",
              "    .dataframe thead th {\n",
              "        text-align: right;\n",
              "    }\n",
              "</style>\n",
              "<table border=\"1\" class=\"dataframe\">\n",
              "  <thead>\n",
              "    <tr style=\"text-align: right;\">\n",
              "      <th></th>\n",
              "      <th>combined_request</th>\n",
              "    </tr>\n",
              "  </thead>\n",
              "  <tbody>\n",
              "    <tr>\n",
              "      <th>1</th>\n",
              "      <td>Subject: Customer Support Inquiry Body: Seekin...</td>\n",
              "    </tr>\n",
              "    <tr>\n",
              "      <th>2</th>\n",
              "      <td>Subject: Data Analytics for Investment Body: I...</td>\n",
              "    </tr>\n",
              "    <tr>\n",
              "      <th>4</th>\n",
              "      <td>Subject: Security Body: Dear Customer Support,...</td>\n",
              "    </tr>\n",
              "    <tr>\n",
              "      <th>5</th>\n",
              "      <td>Subject: Concerns About Securing Medical Data ...</td>\n",
              "    </tr>\n",
              "    <tr>\n",
              "      <th>7</th>\n",
              "      <td>Subject: Problem with Integration Body: The in...</td>\n",
              "    </tr>\n",
              "  </tbody>\n",
              "</table>\n",
              "</div><br><label><b>dtype:</b> object</label>"
            ]
          },
          "metadata": {},
          "execution_count": 17
        }
      ],
      "source": [
        "# Combining subject and body data into one column\n",
        "df[\"combined_request\"] = df.apply(\n",
        "    lambda row: f\"Subject: {row['subject']} Body: {row['body']}\", axis=1\n",
        ").fillna('')\n",
        "\n",
        "df[\"combined_request\"].head()"
      ]
    },
    {
      "cell_type": "markdown",
      "metadata": {
        "id": "XOiRzbS4GyH1"
      },
      "source": [
        "## Exploratory Data Analysis"
      ]
    },
    {
      "cell_type": "markdown",
      "metadata": {
        "id": "aTqp0mo36Nh0"
      },
      "source": [
        "### Descriptive Statistics"
      ]
    },
    {
      "cell_type": "code",
      "execution_count": 18,
      "metadata": {
        "colab": {
          "base_uri": "https://localhost:8080/",
          "height": 175
        },
        "id": "OwWoN4Kz6VIS",
        "outputId": "2e6ce276-3355-4602-ed44-5fd17b9bafc7"
      },
      "outputs": [
        {
          "output_type": "execute_result",
          "data": {
            "text/plain": [
              "            type              queue  priority\n",
              "count      11923              11923     11923\n",
              "unique         4                 10         2\n",
              "top     Incident  Technical Support  med/high\n",
              "freq        4642               3412      9523"
            ],
            "text/html": [
              "\n",
              "  <div id=\"df-b8de0927-a314-4df9-b700-e4f03bcedeef\" class=\"colab-df-container\">\n",
              "    <div>\n",
              "<style scoped>\n",
              "    .dataframe tbody tr th:only-of-type {\n",
              "        vertical-align: middle;\n",
              "    }\n",
              "\n",
              "    .dataframe tbody tr th {\n",
              "        vertical-align: top;\n",
              "    }\n",
              "\n",
              "    .dataframe thead th {\n",
              "        text-align: right;\n",
              "    }\n",
              "</style>\n",
              "<table border=\"1\" class=\"dataframe\">\n",
              "  <thead>\n",
              "    <tr style=\"text-align: right;\">\n",
              "      <th></th>\n",
              "      <th>type</th>\n",
              "      <th>queue</th>\n",
              "      <th>priority</th>\n",
              "    </tr>\n",
              "  </thead>\n",
              "  <tbody>\n",
              "    <tr>\n",
              "      <th>count</th>\n",
              "      <td>11923</td>\n",
              "      <td>11923</td>\n",
              "      <td>11923</td>\n",
              "    </tr>\n",
              "    <tr>\n",
              "      <th>unique</th>\n",
              "      <td>4</td>\n",
              "      <td>10</td>\n",
              "      <td>2</td>\n",
              "    </tr>\n",
              "    <tr>\n",
              "      <th>top</th>\n",
              "      <td>Incident</td>\n",
              "      <td>Technical Support</td>\n",
              "      <td>med/high</td>\n",
              "    </tr>\n",
              "    <tr>\n",
              "      <th>freq</th>\n",
              "      <td>4642</td>\n",
              "      <td>3412</td>\n",
              "      <td>9523</td>\n",
              "    </tr>\n",
              "  </tbody>\n",
              "</table>\n",
              "</div>\n",
              "    <div class=\"colab-df-buttons\">\n",
              "\n",
              "  <div class=\"colab-df-container\">\n",
              "    <button class=\"colab-df-convert\" onclick=\"convertToInteractive('df-b8de0927-a314-4df9-b700-e4f03bcedeef')\"\n",
              "            title=\"Convert this dataframe to an interactive table.\"\n",
              "            style=\"display:none;\">\n",
              "\n",
              "  <svg xmlns=\"http://www.w3.org/2000/svg\" height=\"24px\" viewBox=\"0 -960 960 960\">\n",
              "    <path d=\"M120-120v-720h720v720H120Zm60-500h600v-160H180v160Zm220 220h160v-160H400v160Zm0 220h160v-160H400v160ZM180-400h160v-160H180v160Zm440 0h160v-160H620v160ZM180-180h160v-160H180v160Zm440 0h160v-160H620v160Z\"/>\n",
              "  </svg>\n",
              "    </button>\n",
              "\n",
              "  <style>\n",
              "    .colab-df-container {\n",
              "      display:flex;\n",
              "      gap: 12px;\n",
              "    }\n",
              "\n",
              "    .colab-df-convert {\n",
              "      background-color: #E8F0FE;\n",
              "      border: none;\n",
              "      border-radius: 50%;\n",
              "      cursor: pointer;\n",
              "      display: none;\n",
              "      fill: #1967D2;\n",
              "      height: 32px;\n",
              "      padding: 0 0 0 0;\n",
              "      width: 32px;\n",
              "    }\n",
              "\n",
              "    .colab-df-convert:hover {\n",
              "      background-color: #E2EBFA;\n",
              "      box-shadow: 0px 1px 2px rgba(60, 64, 67, 0.3), 0px 1px 3px 1px rgba(60, 64, 67, 0.15);\n",
              "      fill: #174EA6;\n",
              "    }\n",
              "\n",
              "    .colab-df-buttons div {\n",
              "      margin-bottom: 4px;\n",
              "    }\n",
              "\n",
              "    [theme=dark] .colab-df-convert {\n",
              "      background-color: #3B4455;\n",
              "      fill: #D2E3FC;\n",
              "    }\n",
              "\n",
              "    [theme=dark] .colab-df-convert:hover {\n",
              "      background-color: #434B5C;\n",
              "      box-shadow: 0px 1px 3px 1px rgba(0, 0, 0, 0.15);\n",
              "      filter: drop-shadow(0px 1px 2px rgba(0, 0, 0, 0.3));\n",
              "      fill: #FFFFFF;\n",
              "    }\n",
              "  </style>\n",
              "\n",
              "    <script>\n",
              "      const buttonEl =\n",
              "        document.querySelector('#df-b8de0927-a314-4df9-b700-e4f03bcedeef button.colab-df-convert');\n",
              "      buttonEl.style.display =\n",
              "        google.colab.kernel.accessAllowed ? 'block' : 'none';\n",
              "\n",
              "      async function convertToInteractive(key) {\n",
              "        const element = document.querySelector('#df-b8de0927-a314-4df9-b700-e4f03bcedeef');\n",
              "        const dataTable =\n",
              "          await google.colab.kernel.invokeFunction('convertToInteractive',\n",
              "                                                    [key], {});\n",
              "        if (!dataTable) return;\n",
              "\n",
              "        const docLinkHtml = 'Like what you see? Visit the ' +\n",
              "          '<a target=\"_blank\" href=https://colab.research.google.com/notebooks/data_table.ipynb>data table notebook</a>'\n",
              "          + ' to learn more about interactive tables.';\n",
              "        element.innerHTML = '';\n",
              "        dataTable['output_type'] = 'display_data';\n",
              "        await google.colab.output.renderOutput(dataTable, element);\n",
              "        const docLink = document.createElement('div');\n",
              "        docLink.innerHTML = docLinkHtml;\n",
              "        element.appendChild(docLink);\n",
              "      }\n",
              "    </script>\n",
              "  </div>\n",
              "\n",
              "\n",
              "<div id=\"df-e36033d5-63e5-40d8-ae7b-582cc247c54d\">\n",
              "  <button class=\"colab-df-quickchart\" onclick=\"quickchart('df-e36033d5-63e5-40d8-ae7b-582cc247c54d')\"\n",
              "            title=\"Suggest charts\"\n",
              "            style=\"display:none;\">\n",
              "\n",
              "<svg xmlns=\"http://www.w3.org/2000/svg\" height=\"24px\"viewBox=\"0 0 24 24\"\n",
              "     width=\"24px\">\n",
              "    <g>\n",
              "        <path d=\"M19 3H5c-1.1 0-2 .9-2 2v14c0 1.1.9 2 2 2h14c1.1 0 2-.9 2-2V5c0-1.1-.9-2-2-2zM9 17H7v-7h2v7zm4 0h-2V7h2v10zm4 0h-2v-4h2v4z\"/>\n",
              "    </g>\n",
              "</svg>\n",
              "  </button>\n",
              "\n",
              "<style>\n",
              "  .colab-df-quickchart {\n",
              "      --bg-color: #E8F0FE;\n",
              "      --fill-color: #1967D2;\n",
              "      --hover-bg-color: #E2EBFA;\n",
              "      --hover-fill-color: #174EA6;\n",
              "      --disabled-fill-color: #AAA;\n",
              "      --disabled-bg-color: #DDD;\n",
              "  }\n",
              "\n",
              "  [theme=dark] .colab-df-quickchart {\n",
              "      --bg-color: #3B4455;\n",
              "      --fill-color: #D2E3FC;\n",
              "      --hover-bg-color: #434B5C;\n",
              "      --hover-fill-color: #FFFFFF;\n",
              "      --disabled-bg-color: #3B4455;\n",
              "      --disabled-fill-color: #666;\n",
              "  }\n",
              "\n",
              "  .colab-df-quickchart {\n",
              "    background-color: var(--bg-color);\n",
              "    border: none;\n",
              "    border-radius: 50%;\n",
              "    cursor: pointer;\n",
              "    display: none;\n",
              "    fill: var(--fill-color);\n",
              "    height: 32px;\n",
              "    padding: 0;\n",
              "    width: 32px;\n",
              "  }\n",
              "\n",
              "  .colab-df-quickchart:hover {\n",
              "    background-color: var(--hover-bg-color);\n",
              "    box-shadow: 0 1px 2px rgba(60, 64, 67, 0.3), 0 1px 3px 1px rgba(60, 64, 67, 0.15);\n",
              "    fill: var(--button-hover-fill-color);\n",
              "  }\n",
              "\n",
              "  .colab-df-quickchart-complete:disabled,\n",
              "  .colab-df-quickchart-complete:disabled:hover {\n",
              "    background-color: var(--disabled-bg-color);\n",
              "    fill: var(--disabled-fill-color);\n",
              "    box-shadow: none;\n",
              "  }\n",
              "\n",
              "  .colab-df-spinner {\n",
              "    border: 2px solid var(--fill-color);\n",
              "    border-color: transparent;\n",
              "    border-bottom-color: var(--fill-color);\n",
              "    animation:\n",
              "      spin 1s steps(1) infinite;\n",
              "  }\n",
              "\n",
              "  @keyframes spin {\n",
              "    0% {\n",
              "      border-color: transparent;\n",
              "      border-bottom-color: var(--fill-color);\n",
              "      border-left-color: var(--fill-color);\n",
              "    }\n",
              "    20% {\n",
              "      border-color: transparent;\n",
              "      border-left-color: var(--fill-color);\n",
              "      border-top-color: var(--fill-color);\n",
              "    }\n",
              "    30% {\n",
              "      border-color: transparent;\n",
              "      border-left-color: var(--fill-color);\n",
              "      border-top-color: var(--fill-color);\n",
              "      border-right-color: var(--fill-color);\n",
              "    }\n",
              "    40% {\n",
              "      border-color: transparent;\n",
              "      border-right-color: var(--fill-color);\n",
              "      border-top-color: var(--fill-color);\n",
              "    }\n",
              "    60% {\n",
              "      border-color: transparent;\n",
              "      border-right-color: var(--fill-color);\n",
              "    }\n",
              "    80% {\n",
              "      border-color: transparent;\n",
              "      border-right-color: var(--fill-color);\n",
              "      border-bottom-color: var(--fill-color);\n",
              "    }\n",
              "    90% {\n",
              "      border-color: transparent;\n",
              "      border-bottom-color: var(--fill-color);\n",
              "    }\n",
              "  }\n",
              "</style>\n",
              "\n",
              "  <script>\n",
              "    async function quickchart(key) {\n",
              "      const quickchartButtonEl =\n",
              "        document.querySelector('#' + key + ' button');\n",
              "      quickchartButtonEl.disabled = true;  // To prevent multiple clicks.\n",
              "      quickchartButtonEl.classList.add('colab-df-spinner');\n",
              "      try {\n",
              "        const charts = await google.colab.kernel.invokeFunction(\n",
              "            'suggestCharts', [key], {});\n",
              "      } catch (error) {\n",
              "        console.error('Error during call to suggestCharts:', error);\n",
              "      }\n",
              "      quickchartButtonEl.classList.remove('colab-df-spinner');\n",
              "      quickchartButtonEl.classList.add('colab-df-quickchart-complete');\n",
              "    }\n",
              "    (() => {\n",
              "      let quickchartButtonEl =\n",
              "        document.querySelector('#df-e36033d5-63e5-40d8-ae7b-582cc247c54d button');\n",
              "      quickchartButtonEl.style.display =\n",
              "        google.colab.kernel.accessAllowed ? 'block' : 'none';\n",
              "    })();\n",
              "  </script>\n",
              "</div>\n",
              "\n",
              "    </div>\n",
              "  </div>\n"
            ],
            "application/vnd.google.colaboratory.intrinsic+json": {
              "type": "dataframe",
              "summary": "{\n  \"name\": \"df_categories\",\n  \"rows\": 4,\n  \"fields\": [\n    {\n      \"column\": \"type\",\n      \"properties\": {\n        \"dtype\": \"string\",\n        \"num_unique_values\": 4,\n        \"samples\": [\n          4,\n          \"4642\",\n          \"11923\"\n        ],\n        \"semantic_type\": \"\",\n        \"description\": \"\"\n      }\n    },\n    {\n      \"column\": \"queue\",\n      \"properties\": {\n        \"dtype\": \"string\",\n        \"num_unique_values\": 4,\n        \"samples\": [\n          10,\n          \"3412\",\n          \"11923\"\n        ],\n        \"semantic_type\": \"\",\n        \"description\": \"\"\n      }\n    },\n    {\n      \"column\": \"priority\",\n      \"properties\": {\n        \"dtype\": \"string\",\n        \"num_unique_values\": 4,\n        \"samples\": [\n          2,\n          \"9523\",\n          \"11923\"\n        ],\n        \"semantic_type\": \"\",\n        \"description\": \"\"\n      }\n    }\n  ]\n}"
            }
          },
          "metadata": {},
          "execution_count": 18
        }
      ],
      "source": [
        "# Omitting text columns\n",
        "df_categories = df[['type','queue','priority']]\n",
        "\n",
        "df_categories.describe()"
      ]
    },
    {
      "cell_type": "code",
      "execution_count": 19,
      "metadata": {
        "colab": {
          "base_uri": "https://localhost:8080/"
        },
        "id": "oJZ8HybkKMML",
        "outputId": "73cc2155-0551-49ed-8e73-a1e858e84ee3"
      },
      "outputs": [
        {
          "output_type": "stream",
          "name": "stdout",
          "text": [
            "Max Words: 5296\n",
            "Optimal max_length: 129\n"
          ]
        }
      ],
      "source": [
        "all_words = [word for text in df['combined_request'] for word in text.split()]\n",
        "word_counts = Counter(all_words)\n",
        "\n",
        "# Set threshold to remove rare words (e.g., words appearing <5 times)\n",
        "vocab_size = sum(1 for count in word_counts.values() if count >= 5)\n",
        "max_words = min(vocab_size, 20000)\n",
        "print('Max Words:',max_words)\n",
        "\n",
        "text_lengths = np.array([len(text.split()) for text in df['combined_request']])\n",
        "\n",
        "# Set max_length to the 95th percentile (avoiding extreme outliers)\n",
        "max_length = int(np.percentile(text_lengths, 95))\n",
        "print(f\"Optimal max_length: {max_length}\")"
      ]
    },
    {
      "cell_type": "markdown",
      "metadata": {
        "id": "-_wHL6WC9hdn"
      },
      "source": [
        "### Checking for Imbalance"
      ]
    },
    {
      "cell_type": "code",
      "execution_count": 20,
      "metadata": {
        "colab": {
          "base_uri": "https://localhost:8080/"
        },
        "id": "iKG_amiU9kdn",
        "outputId": "c9769d91-e9cc-499a-e1a0-578226962d8d"
      },
      "outputs": [
        {
          "output_type": "stream",
          "name": "stdout",
          "text": [
            "type\n",
            "Incident    4642\n",
            "Request     3498\n",
            "Problem     2498\n",
            "Change      1285\n",
            "Name: count, dtype: int64\n",
            "------------------------------------------------------------\n",
            "queue\n",
            "Technical Support                  3412\n",
            "Product Support                    2232\n",
            "Customer Service                   1859\n",
            "IT Support                         1391\n",
            "Billing and Payments               1302\n",
            "Returns and Exchanges               582\n",
            "Service Outages and Maintenance     442\n",
            "Sales and Pre-Sales                 330\n",
            "Human Resources                     205\n",
            "General Inquiry                     168\n",
            "Name: count, dtype: int64\n",
            "------------------------------------------------------------\n",
            "priority\n",
            "med/high    9523\n",
            "low         2400\n",
            "Name: count, dtype: int64\n",
            "------------------------------------------------------------\n"
          ]
        }
      ],
      "source": [
        "for col in df_categories:\n",
        "  print(df_categories[col].value_counts())\n",
        "  print('------------------------------------------------------------')"
      ]
    },
    {
      "cell_type": "markdown",
      "metadata": {
        "id": "mTkIUx2J82_r"
      },
      "source": [
        "### Visualizations"
      ]
    },
    {
      "cell_type": "code",
      "execution_count": 21,
      "metadata": {
        "colab": {
          "base_uri": "https://localhost:8080/",
          "height": 1000
        },
        "id": "JwOYxWz77mkQ",
        "outputId": "743de7d5-7009-4272-f95e-3cbfcb61e3dc"
      },
      "outputs": [
        {
          "output_type": "display_data",
          "data": {
            "text/plain": [
              "<Figure size 1500x1000 with 4 Axes>"
            ],
            "image/png": "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\n"
          },
          "metadata": {}
        }
      ],
      "source": [
        "plot_categories = df[['type','priority','queue']]\n",
        "\n",
        "# Set up subplots\n",
        "fig, axes = plt.subplots(nrows=2, ncols=2, figsize=(15, 10))\n",
        "\n",
        "# Flatten axes array for easy iteration\n",
        "axes = axes.flatten()\n",
        "\n",
        "# Iterate through each categorical column and plot value counts\n",
        "for i, col in enumerate(plot_categories.columns):\n",
        "    df_categories[col].value_counts().plot(kind='bar', ax=axes[i], color='skyblue', edgecolor='black')\n",
        "    axes[i].set_title(f'Distribution of {col}')\n",
        "    axes[i].set_ylabel('Count')\n",
        "    axes[i].set_xlabel(col)\n",
        "    axes[i].tick_params(axis='x', rotation=45)  # Rotate x-axis labels for better readability\n",
        "\n",
        "# Adjust layout to prevent overlapping\n",
        "plt.tight_layout()\n",
        "plt.show()"
      ]
    },
    {
      "cell_type": "markdown",
      "metadata": {
        "id": "OUkjsmuv9xLf"
      },
      "source": [
        "#### Body and Answer Character Lengths"
      ]
    },
    {
      "cell_type": "code",
      "execution_count": 22,
      "metadata": {
        "colab": {
          "base_uri": "https://localhost:8080/",
          "height": 522
        },
        "id": "rkPhq1ZE9-Ux",
        "outputId": "3ac0459b-b0fc-4fd0-8f2f-e70c02e5896b"
      },
      "outputs": [
        {
          "output_type": "stream",
          "name": "stdout",
          "text": [
            "Minimum Length: 4.0\n",
            "Maximum Length: 1840\n"
          ]
        },
        {
          "output_type": "display_data",
          "data": {
            "text/plain": [
              "<Figure size 1000x500 with 1 Axes>"
            ],
            "image/png": "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\n"
          },
          "metadata": {}
        }
      ],
      "source": [
        "# Calculate character lengths\n",
        "df[\"body_length\"] = df[\"combined_request\"].str.len()\n",
        "df[\"answer_length\"] = df[\"answer\"].str.len()\n",
        "df[\"combined_length\"] = df[\"body_length\"] + df[\"answer_length\"]\n",
        "\n",
        "# Define bin width\n",
        "bin_width = 50\n",
        "min_length = min(df[\"body_length\"].min(), df[\"answer_length\"].min())\n",
        "max_length = max(df[\"body_length\"].max(), df[\"answer_length\"].max())\n",
        "\n",
        "print(f\"Minimum Length: {min_length}\")\n",
        "print(f\"Maximum Length: {max_length}\")\n",
        "\n",
        "# Create bins with fixed width\n",
        "bins = np.arange(min_length, max_length + bin_width, bin_width)\n",
        "\n",
        "# Plot histogram\n",
        "plt.figure(figsize=(10,5))\n",
        "plt.hist(df[\"body_length\"], bins=bins, alpha=0.5, label=\"Request Length\", edgecolor='black')\n",
        "plt.hist(df[\"answer_length\"], bins=bins, alpha=0.5, label=\"Answer Length\", edgecolor='black')\n",
        "plt.xlabel(\"Character Length\")\n",
        "plt.ylabel(\"Frequency\")\n",
        "plt.title(\"Combined Request and Answer Character Lengths\")\n",
        "plt.legend()\n",
        "plt.grid(axis=\"y\", linestyle=\"--\", alpha=0.7)\n",
        "\n",
        "plt.show()"
      ]
    },
    {
      "cell_type": "code",
      "execution_count": 23,
      "metadata": {
        "colab": {
          "base_uri": "https://localhost:8080/",
          "height": 1000
        },
        "id": "war7ia0_GJPi",
        "outputId": "5071475b-a0d8-4de7-dd4e-d98746c3f32c"
      },
      "outputs": [
        {
          "output_type": "stream",
          "name": "stdout",
          "text": [
            "\n",
            "Full Text(Subject + Body) Length Statistics:\n",
            "count    11923.000000\n",
            "mean        64.896167\n",
            "std         36.444482\n",
            "min          4.000000\n",
            "25%         36.000000\n",
            "50%         60.000000\n",
            "75%         89.000000\n",
            "max        278.000000\n",
            "Name: text_length, dtype: float64\n"
          ]
        },
        {
          "output_type": "display_data",
          "data": {
            "text/plain": [
              "<Figure size 640x480 with 1 Axes>"
            ],
            "image/png": "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\n"
          },
          "metadata": {}
        },
        {
          "output_type": "display_data",
          "data": {
            "text/plain": [
              "<Figure size 640x480 with 0 Axes>"
            ]
          },
          "metadata": {}
        },
        {
          "output_type": "display_data",
          "data": {
            "text/plain": [
              "<Figure size 640x480 with 1 Axes>"
            ],
            "image/png": "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\n"
          },
          "metadata": {}
        },
        {
          "output_type": "display_data",
          "data": {
            "text/plain": [
              "<Figure size 640x480 with 0 Axes>"
            ]
          },
          "metadata": {}
        },
        {
          "output_type": "display_data",
          "data": {
            "text/plain": [
              "<Figure size 640x480 with 1 Axes>"
            ],
            "image/png": "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\n"
          },
          "metadata": {}
        }
      ],
      "source": [
        "df['text_length'] = df['combined_request'].apply(lambda x: len(str(x).split()))\n",
        "print(\"\\nFull Text(Subject + Body) Length Statistics:\")\n",
        "print(df['text_length'].describe())\n",
        "\n",
        "plt.figure()\n",
        "plt.hist(df['text_length'], bins=50)\n",
        "plt.title(\"Distribution of Full Text Length\")\n",
        "plt.xlabel(\"Number of Words\")\n",
        "plt.ylabel(\"Frequency\")\n",
        "plt.show()\n",
        "\n",
        "plt.figure()\n",
        "df.boxplot(column='text_length', by='priority', grid=False)\n",
        "plt.title(\"Full Text Length by Priority\")\n",
        "plt.suptitle(\"\")\n",
        "plt.xlabel(\"Priority\")\n",
        "plt.ylabel(\"Number of Words\")\n",
        "plt.show()\n",
        "\n",
        "plt.figure()\n",
        "df.boxplot(column='answer_length', by='priority', grid=False)\n",
        "plt.title(\"Answer Length by Priority\")\n",
        "plt.suptitle(\"\")\n",
        "plt.xlabel(\"Priority\")\n",
        "plt.ylabel(\"Number of Words\")\n",
        "plt.show()"
      ]
    },
    {
      "cell_type": "markdown",
      "metadata": {
        "id": "NjFUPvAVGoFM"
      },
      "source": [
        "#### Cross-tabulation (Priority vs. Queue)"
      ]
    },
    {
      "cell_type": "code",
      "execution_count": 24,
      "metadata": {
        "colab": {
          "base_uri": "https://localhost:8080/",
          "height": 1000
        },
        "id": "RdE5qEUG42HY",
        "outputId": "5bb17603-21f0-4b14-ccfb-fc52903a5ef0"
      },
      "outputs": [
        {
          "output_type": "stream",
          "name": "stdout",
          "text": [
            "\n",
            "Priority vs. Queue Cross-Tab:\n",
            "queue     Billing and Payments  Customer Service  General Inquiry  \\\n",
            "priority                                                            \n",
            "low                        273               566              110   \n",
            "med/high                  1029              1293               58   \n",
            "\n",
            "queue     Human Resources  IT Support  Product Support  Returns and Exchanges  \\\n",
            "priority                                                                        \n",
            "low                    92         151              413                    204   \n",
            "med/high              113        1240             1819                    378   \n",
            "\n",
            "queue     Sales and Pre-Sales  Service Outages and Maintenance  \\\n",
            "priority                                                         \n",
            "low                       116                               58   \n",
            "med/high                  214                              384   \n",
            "\n",
            "queue     Technical Support  \n",
            "priority                     \n",
            "low                     417  \n",
            "med/high               2995  \n"
          ]
        },
        {
          "output_type": "display_data",
          "data": {
            "text/plain": [
              "<Figure size 800x800 with 2 Axes>"
            ],
            "image/png": "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\n"
          },
          "metadata": {}
        }
      ],
      "source": [
        "if 'queue' in df.columns:\n",
        "    priority_vs_queue = pd.crosstab(df['priority'], df['queue'])\n",
        "    print(\"\\nPriority vs. Queue Cross-Tab:\")\n",
        "    print(priority_vs_queue)\n",
        "\n",
        "    # Create a square figure (e.g., 8x8)\n",
        "    fig, ax = plt.subplots(figsize=(8, 8))\n",
        "\n",
        "    # Display as an image with equal aspect ratio\n",
        "    im = ax.imshow(priority_vs_queue, cmap='Blues', aspect='equal')\n",
        "\n",
        "    # Add colorbar\n",
        "    cbar = fig.colorbar(im, ax=ax)\n",
        "    cbar.set_label(\"Count\", rotation=90)\n",
        "\n",
        "    # Set title\n",
        "    ax.set_title(\"Priority vs. Queue Heatmap\", pad=15)\n",
        "\n",
        "    # Set tick labels\n",
        "    ax.set_xticks(range(len(priority_vs_queue.columns)))\n",
        "    ax.set_xticklabels(priority_vs_queue.columns, rotation=90)\n",
        "    ax.set_yticks(range(len(priority_vs_queue.index)))\n",
        "    ax.set_yticklabels(priority_vs_queue.index)\n",
        "\n",
        "    # Adjust layout to avoid label cutoff\n",
        "    plt.tight_layout()\n",
        "    plt.show()\n"
      ]
    },
    {
      "cell_type": "markdown",
      "metadata": {
        "id": "96sB8a0xLd7p"
      },
      "source": [
        "#### Cross-tabulation (Priority vs. Type)"
      ]
    },
    {
      "cell_type": "code",
      "execution_count": 25,
      "metadata": {
        "colab": {
          "base_uri": "https://localhost:8080/",
          "height": 599
        },
        "id": "G6RkidolO6j_",
        "outputId": "a8efa1dd-9875-4835-f4a5-a2d5a2cc42a8"
      },
      "outputs": [
        {
          "output_type": "stream",
          "name": "stdout",
          "text": [
            "\n",
            "Priority vs. Type Cross-Tab:\n",
            "type      Change  Incident  Problem  Request\n",
            "priority                                    \n",
            "low          268       836      538      758\n",
            "med/high    1017      3806     1960     2740\n"
          ]
        },
        {
          "output_type": "display_data",
          "data": {
            "text/plain": [
              "<Figure size 640x480 with 2 Axes>"
            ],
            "image/png": "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\n"
          },
          "metadata": {}
        }
      ],
      "source": [
        "if 'type' in df.columns:\n",
        "    priority_vs_queue = pd.crosstab(df['priority'], df['type'])\n",
        "    print(\"\\nPriority vs. Type Cross-Tab:\")\n",
        "    print(priority_vs_queue)\n",
        "\n",
        "    plt.figure()\n",
        "    plt.imshow(priority_vs_queue, cmap='Blues', aspect='auto')\n",
        "    plt.colorbar()\n",
        "    plt.title(\"Priority vs. Type Heatmap\")\n",
        "    plt.xticks(ticks=range(len(priority_vs_queue.columns)), labels=priority_vs_queue.columns, rotation=90)\n",
        "    plt.yticks(ticks=range(len(priority_vs_queue.index)), labels=priority_vs_queue.index)\n",
        "    plt.show()"
      ]
    },
    {
      "cell_type": "markdown",
      "metadata": {
        "id": "BeJCHulSLHL-"
      },
      "source": [
        "## Feature Eningeering"
      ]
    },
    {
      "cell_type": "markdown",
      "metadata": {
        "id": "6HTo4GIQMc-P"
      },
      "source": [
        "### Gathering Categorical Features"
      ]
    },
    {
      "cell_type": "code",
      "execution_count": 26,
      "metadata": {
        "colab": {
          "base_uri": "https://localhost:8080/",
          "height": 206
        },
        "id": "o_LFdk1EMghm",
        "outputId": "1d7cbe30-c186-414e-e830-cf56d4487652"
      },
      "outputs": [
        {
          "output_type": "execute_result",
          "data": {
            "text/plain": [
              "                                    combined_request     type  priority\n",
              "1  Subject: Customer Support Inquiry Body: Seekin...  Request  med/high\n",
              "2  Subject: Data Analytics for Investment Body: I...  Request  med/high\n",
              "4  Subject: Security Body: Dear Customer Support,...  Request  med/high\n",
              "5  Subject: Concerns About Securing Medical Data ...  Request  med/high\n",
              "7  Subject: Problem with Integration Body: The in...  Problem  med/high"
            ],
            "text/html": [
              "\n",
              "  <div id=\"df-3de352b7-49be-4950-a7c7-8ae4d9c0cc45\" class=\"colab-df-container\">\n",
              "    <div>\n",
              "<style scoped>\n",
              "    .dataframe tbody tr th:only-of-type {\n",
              "        vertical-align: middle;\n",
              "    }\n",
              "\n",
              "    .dataframe tbody tr th {\n",
              "        vertical-align: top;\n",
              "    }\n",
              "\n",
              "    .dataframe thead th {\n",
              "        text-align: right;\n",
              "    }\n",
              "</style>\n",
              "<table border=\"1\" class=\"dataframe\">\n",
              "  <thead>\n",
              "    <tr style=\"text-align: right;\">\n",
              "      <th></th>\n",
              "      <th>combined_request</th>\n",
              "      <th>type</th>\n",
              "      <th>priority</th>\n",
              "    </tr>\n",
              "  </thead>\n",
              "  <tbody>\n",
              "    <tr>\n",
              "      <th>1</th>\n",
              "      <td>Subject: Customer Support Inquiry Body: Seekin...</td>\n",
              "      <td>Request</td>\n",
              "      <td>med/high</td>\n",
              "    </tr>\n",
              "    <tr>\n",
              "      <th>2</th>\n",
              "      <td>Subject: Data Analytics for Investment Body: I...</td>\n",
              "      <td>Request</td>\n",
              "      <td>med/high</td>\n",
              "    </tr>\n",
              "    <tr>\n",
              "      <th>4</th>\n",
              "      <td>Subject: Security Body: Dear Customer Support,...</td>\n",
              "      <td>Request</td>\n",
              "      <td>med/high</td>\n",
              "    </tr>\n",
              "    <tr>\n",
              "      <th>5</th>\n",
              "      <td>Subject: Concerns About Securing Medical Data ...</td>\n",
              "      <td>Request</td>\n",
              "      <td>med/high</td>\n",
              "    </tr>\n",
              "    <tr>\n",
              "      <th>7</th>\n",
              "      <td>Subject: Problem with Integration Body: The in...</td>\n",
              "      <td>Problem</td>\n",
              "      <td>med/high</td>\n",
              "    </tr>\n",
              "  </tbody>\n",
              "</table>\n",
              "</div>\n",
              "    <div class=\"colab-df-buttons\">\n",
              "\n",
              "  <div class=\"colab-df-container\">\n",
              "    <button class=\"colab-df-convert\" onclick=\"convertToInteractive('df-3de352b7-49be-4950-a7c7-8ae4d9c0cc45')\"\n",
              "            title=\"Convert this dataframe to an interactive table.\"\n",
              "            style=\"display:none;\">\n",
              "\n",
              "  <svg xmlns=\"http://www.w3.org/2000/svg\" height=\"24px\" viewBox=\"0 -960 960 960\">\n",
              "    <path d=\"M120-120v-720h720v720H120Zm60-500h600v-160H180v160Zm220 220h160v-160H400v160Zm0 220h160v-160H400v160ZM180-400h160v-160H180v160Zm440 0h160v-160H620v160ZM180-180h160v-160H180v160Zm440 0h160v-160H620v160Z\"/>\n",
              "  </svg>\n",
              "    </button>\n",
              "\n",
              "  <style>\n",
              "    .colab-df-container {\n",
              "      display:flex;\n",
              "      gap: 12px;\n",
              "    }\n",
              "\n",
              "    .colab-df-convert {\n",
              "      background-color: #E8F0FE;\n",
              "      border: none;\n",
              "      border-radius: 50%;\n",
              "      cursor: pointer;\n",
              "      display: none;\n",
              "      fill: #1967D2;\n",
              "      height: 32px;\n",
              "      padding: 0 0 0 0;\n",
              "      width: 32px;\n",
              "    }\n",
              "\n",
              "    .colab-df-convert:hover {\n",
              "      background-color: #E2EBFA;\n",
              "      box-shadow: 0px 1px 2px rgba(60, 64, 67, 0.3), 0px 1px 3px 1px rgba(60, 64, 67, 0.15);\n",
              "      fill: #174EA6;\n",
              "    }\n",
              "\n",
              "    .colab-df-buttons div {\n",
              "      margin-bottom: 4px;\n",
              "    }\n",
              "\n",
              "    [theme=dark] .colab-df-convert {\n",
              "      background-color: #3B4455;\n",
              "      fill: #D2E3FC;\n",
              "    }\n",
              "\n",
              "    [theme=dark] .colab-df-convert:hover {\n",
              "      background-color: #434B5C;\n",
              "      box-shadow: 0px 1px 3px 1px rgba(0, 0, 0, 0.15);\n",
              "      filter: drop-shadow(0px 1px 2px rgba(0, 0, 0, 0.3));\n",
              "      fill: #FFFFFF;\n",
              "    }\n",
              "  </style>\n",
              "\n",
              "    <script>\n",
              "      const buttonEl =\n",
              "        document.querySelector('#df-3de352b7-49be-4950-a7c7-8ae4d9c0cc45 button.colab-df-convert');\n",
              "      buttonEl.style.display =\n",
              "        google.colab.kernel.accessAllowed ? 'block' : 'none';\n",
              "\n",
              "      async function convertToInteractive(key) {\n",
              "        const element = document.querySelector('#df-3de352b7-49be-4950-a7c7-8ae4d9c0cc45');\n",
              "        const dataTable =\n",
              "          await google.colab.kernel.invokeFunction('convertToInteractive',\n",
              "                                                    [key], {});\n",
              "        if (!dataTable) return;\n",
              "\n",
              "        const docLinkHtml = 'Like what you see? Visit the ' +\n",
              "          '<a target=\"_blank\" href=https://colab.research.google.com/notebooks/data_table.ipynb>data table notebook</a>'\n",
              "          + ' to learn more about interactive tables.';\n",
              "        element.innerHTML = '';\n",
              "        dataTable['output_type'] = 'display_data';\n",
              "        await google.colab.output.renderOutput(dataTable, element);\n",
              "        const docLink = document.createElement('div');\n",
              "        docLink.innerHTML = docLinkHtml;\n",
              "        element.appendChild(docLink);\n",
              "      }\n",
              "    </script>\n",
              "  </div>\n",
              "\n",
              "\n",
              "<div id=\"df-a0cd9e48-1d21-4eb6-b2cb-69148a09af39\">\n",
              "  <button class=\"colab-df-quickchart\" onclick=\"quickchart('df-a0cd9e48-1d21-4eb6-b2cb-69148a09af39')\"\n",
              "            title=\"Suggest charts\"\n",
              "            style=\"display:none;\">\n",
              "\n",
              "<svg xmlns=\"http://www.w3.org/2000/svg\" height=\"24px\"viewBox=\"0 0 24 24\"\n",
              "     width=\"24px\">\n",
              "    <g>\n",
              "        <path d=\"M19 3H5c-1.1 0-2 .9-2 2v14c0 1.1.9 2 2 2h14c1.1 0 2-.9 2-2V5c0-1.1-.9-2-2-2zM9 17H7v-7h2v7zm4 0h-2V7h2v10zm4 0h-2v-4h2v4z\"/>\n",
              "    </g>\n",
              "</svg>\n",
              "  </button>\n",
              "\n",
              "<style>\n",
              "  .colab-df-quickchart {\n",
              "      --bg-color: #E8F0FE;\n",
              "      --fill-color: #1967D2;\n",
              "      --hover-bg-color: #E2EBFA;\n",
              "      --hover-fill-color: #174EA6;\n",
              "      --disabled-fill-color: #AAA;\n",
              "      --disabled-bg-color: #DDD;\n",
              "  }\n",
              "\n",
              "  [theme=dark] .colab-df-quickchart {\n",
              "      --bg-color: #3B4455;\n",
              "      --fill-color: #D2E3FC;\n",
              "      --hover-bg-color: #434B5C;\n",
              "      --hover-fill-color: #FFFFFF;\n",
              "      --disabled-bg-color: #3B4455;\n",
              "      --disabled-fill-color: #666;\n",
              "  }\n",
              "\n",
              "  .colab-df-quickchart {\n",
              "    background-color: var(--bg-color);\n",
              "    border: none;\n",
              "    border-radius: 50%;\n",
              "    cursor: pointer;\n",
              "    display: none;\n",
              "    fill: var(--fill-color);\n",
              "    height: 32px;\n",
              "    padding: 0;\n",
              "    width: 32px;\n",
              "  }\n",
              "\n",
              "  .colab-df-quickchart:hover {\n",
              "    background-color: var(--hover-bg-color);\n",
              "    box-shadow: 0 1px 2px rgba(60, 64, 67, 0.3), 0 1px 3px 1px rgba(60, 64, 67, 0.15);\n",
              "    fill: var(--button-hover-fill-color);\n",
              "  }\n",
              "\n",
              "  .colab-df-quickchart-complete:disabled,\n",
              "  .colab-df-quickchart-complete:disabled:hover {\n",
              "    background-color: var(--disabled-bg-color);\n",
              "    fill: var(--disabled-fill-color);\n",
              "    box-shadow: none;\n",
              "  }\n",
              "\n",
              "  .colab-df-spinner {\n",
              "    border: 2px solid var(--fill-color);\n",
              "    border-color: transparent;\n",
              "    border-bottom-color: var(--fill-color);\n",
              "    animation:\n",
              "      spin 1s steps(1) infinite;\n",
              "  }\n",
              "\n",
              "  @keyframes spin {\n",
              "    0% {\n",
              "      border-color: transparent;\n",
              "      border-bottom-color: var(--fill-color);\n",
              "      border-left-color: var(--fill-color);\n",
              "    }\n",
              "    20% {\n",
              "      border-color: transparent;\n",
              "      border-left-color: var(--fill-color);\n",
              "      border-top-color: var(--fill-color);\n",
              "    }\n",
              "    30% {\n",
              "      border-color: transparent;\n",
              "      border-left-color: var(--fill-color);\n",
              "      border-top-color: var(--fill-color);\n",
              "      border-right-color: var(--fill-color);\n",
              "    }\n",
              "    40% {\n",
              "      border-color: transparent;\n",
              "      border-right-color: var(--fill-color);\n",
              "      border-top-color: var(--fill-color);\n",
              "    }\n",
              "    60% {\n",
              "      border-color: transparent;\n",
              "      border-right-color: var(--fill-color);\n",
              "    }\n",
              "    80% {\n",
              "      border-color: transparent;\n",
              "      border-right-color: var(--fill-color);\n",
              "      border-bottom-color: var(--fill-color);\n",
              "    }\n",
              "    90% {\n",
              "      border-color: transparent;\n",
              "      border-bottom-color: var(--fill-color);\n",
              "    }\n",
              "  }\n",
              "</style>\n",
              "\n",
              "  <script>\n",
              "    async function quickchart(key) {\n",
              "      const quickchartButtonEl =\n",
              "        document.querySelector('#' + key + ' button');\n",
              "      quickchartButtonEl.disabled = true;  // To prevent multiple clicks.\n",
              "      quickchartButtonEl.classList.add('colab-df-spinner');\n",
              "      try {\n",
              "        const charts = await google.colab.kernel.invokeFunction(\n",
              "            'suggestCharts', [key], {});\n",
              "      } catch (error) {\n",
              "        console.error('Error during call to suggestCharts:', error);\n",
              "      }\n",
              "      quickchartButtonEl.classList.remove('colab-df-spinner');\n",
              "      quickchartButtonEl.classList.add('colab-df-quickchart-complete');\n",
              "    }\n",
              "    (() => {\n",
              "      let quickchartButtonEl =\n",
              "        document.querySelector('#df-a0cd9e48-1d21-4eb6-b2cb-69148a09af39 button');\n",
              "      quickchartButtonEl.style.display =\n",
              "        google.colab.kernel.accessAllowed ? 'block' : 'none';\n",
              "    })();\n",
              "  </script>\n",
              "</div>\n",
              "\n",
              "    </div>\n",
              "  </div>\n"
            ],
            "application/vnd.google.colaboratory.intrinsic+json": {
              "type": "dataframe",
              "variable_name": "model_data",
              "summary": "{\n  \"name\": \"model_data\",\n  \"rows\": 11923,\n  \"fields\": [\n    {\n      \"column\": \"combined_request\",\n      \"properties\": {\n        \"dtype\": \"string\",\n        \"num_unique_values\": 11923,\n        \"samples\": [\n          \"Subject: Request for Information on Smart-Thermometer Reporting Capabilities Body: I am reaching out to inquire about the reporting features available in Smart-Thermometer, particularly regarding data analytics integration. Could you please provide me with details on the types of reports that can be generated and the data that can be exported? Additionally, I would appreciate any guidance on how to integrate this data into our analytics platform. Thank you for your time and assistance. I look forward to hearing from you soon.\",\n          \"Subject: Subject: Assistance Needed with Incorrect Invoice Totals Body: I am encountering problems with incorrect invoice totals due to a billing system glitch. Despite restarting, relogging, and resynchronizing data, the issue still exists. I would greatly appreciate your timely assistance in addressing this concern.\",\n          \"Subject: Security Incident Notification Body: Dear Customer Support, I have encountered an incident that involves potential unauthorized access to medical data, which may have occurred due to a security vulnerability in our systems. So far, we have conducted preliminary assessments and implemented immediate security measures to safeguard access. Our team is working diligently to investigate the matter and ensure the integrity of our systems. We appreciate your attention to this matter and look forward to your assistance in resolving the issue. Please let us know the next steps to take. Thank you.\"\n        ],\n        \"semantic_type\": \"\",\n        \"description\": \"\"\n      }\n    },\n    {\n      \"column\": \"type\",\n      \"properties\": {\n        \"dtype\": \"category\",\n        \"num_unique_values\": 4,\n        \"samples\": [\n          \"Problem\",\n          \"Change\",\n          \"Request\"\n        ],\n        \"semantic_type\": \"\",\n        \"description\": \"\"\n      }\n    },\n    {\n      \"column\": \"priority\",\n      \"properties\": {\n        \"dtype\": \"category\",\n        \"num_unique_values\": 2,\n        \"samples\": [\n          \"low\",\n          \"med/high\"\n        ],\n        \"semantic_type\": \"\",\n        \"description\": \"\"\n      }\n    }\n  ]\n}"
            }
          },
          "metadata": {},
          "execution_count": 26
        }
      ],
      "source": [
        "# Limiting data for our text classifier - priority = target\n",
        "model_data = df[[\"combined_request\",\"type\",\"priority\"]]\n",
        "\n",
        "model_data.head()"
      ]
    },
    {
      "cell_type": "markdown",
      "metadata": {
        "id": "dzmRpwffNHyG"
      },
      "source": [
        "### Undersampling"
      ]
    },
    {
      "cell_type": "code",
      "execution_count": 27,
      "metadata": {
        "colab": {
          "base_uri": "https://localhost:8080/",
          "height": 310
        },
        "id": "-qEU8ijvNDqv",
        "outputId": "35c6e9a2-6c60-4e49-aa41-88ea8cc08143"
      },
      "outputs": [
        {
          "output_type": "stream",
          "name": "stdout",
          "text": [
            "Balanced Samples:\n",
            "priority\n",
            "low         2400\n",
            "med/high    2400\n",
            "Name: count, dtype: int64\n",
            "New Shape: (4800, 3)\n"
          ]
        },
        {
          "output_type": "execute_result",
          "data": {
            "text/plain": [
              "                                     combined_request      type priority\n",
              "13  Subject: Issue with Website Analytics Dashboar...  Incident      low\n",
              "15  Subject: Request for Assistance with Data Inte...   Problem      low\n",
              "16  Subject: Request for Updating Integration Feat...    Change      low\n",
              "26  Subject: Best Practices for Securing Medical D...   Request      low\n",
              "30  Subject: Problem with Invoice Body: I am encou...  Incident      low"
            ],
            "text/html": [
              "\n",
              "  <div id=\"df-c62b797e-0857-493c-90d4-fc46ca97de40\" class=\"colab-df-container\">\n",
              "    <div>\n",
              "<style scoped>\n",
              "    .dataframe tbody tr th:only-of-type {\n",
              "        vertical-align: middle;\n",
              "    }\n",
              "\n",
              "    .dataframe tbody tr th {\n",
              "        vertical-align: top;\n",
              "    }\n",
              "\n",
              "    .dataframe thead th {\n",
              "        text-align: right;\n",
              "    }\n",
              "</style>\n",
              "<table border=\"1\" class=\"dataframe\">\n",
              "  <thead>\n",
              "    <tr style=\"text-align: right;\">\n",
              "      <th></th>\n",
              "      <th>combined_request</th>\n",
              "      <th>type</th>\n",
              "      <th>priority</th>\n",
              "    </tr>\n",
              "  </thead>\n",
              "  <tbody>\n",
              "    <tr>\n",
              "      <th>13</th>\n",
              "      <td>Subject: Issue with Website Analytics Dashboar...</td>\n",
              "      <td>Incident</td>\n",
              "      <td>low</td>\n",
              "    </tr>\n",
              "    <tr>\n",
              "      <th>15</th>\n",
              "      <td>Subject: Request for Assistance with Data Inte...</td>\n",
              "      <td>Problem</td>\n",
              "      <td>low</td>\n",
              "    </tr>\n",
              "    <tr>\n",
              "      <th>16</th>\n",
              "      <td>Subject: Request for Updating Integration Feat...</td>\n",
              "      <td>Change</td>\n",
              "      <td>low</td>\n",
              "    </tr>\n",
              "    <tr>\n",
              "      <th>26</th>\n",
              "      <td>Subject: Best Practices for Securing Medical D...</td>\n",
              "      <td>Request</td>\n",
              "      <td>low</td>\n",
              "    </tr>\n",
              "    <tr>\n",
              "      <th>30</th>\n",
              "      <td>Subject: Problem with Invoice Body: I am encou...</td>\n",
              "      <td>Incident</td>\n",
              "      <td>low</td>\n",
              "    </tr>\n",
              "  </tbody>\n",
              "</table>\n",
              "</div>\n",
              "    <div class=\"colab-df-buttons\">\n",
              "\n",
              "  <div class=\"colab-df-container\">\n",
              "    <button class=\"colab-df-convert\" onclick=\"convertToInteractive('df-c62b797e-0857-493c-90d4-fc46ca97de40')\"\n",
              "            title=\"Convert this dataframe to an interactive table.\"\n",
              "            style=\"display:none;\">\n",
              "\n",
              "  <svg xmlns=\"http://www.w3.org/2000/svg\" height=\"24px\" viewBox=\"0 -960 960 960\">\n",
              "    <path d=\"M120-120v-720h720v720H120Zm60-500h600v-160H180v160Zm220 220h160v-160H400v160Zm0 220h160v-160H400v160ZM180-400h160v-160H180v160Zm440 0h160v-160H620v160ZM180-180h160v-160H180v160Zm440 0h160v-160H620v160Z\"/>\n",
              "  </svg>\n",
              "    </button>\n",
              "\n",
              "  <style>\n",
              "    .colab-df-container {\n",
              "      display:flex;\n",
              "      gap: 12px;\n",
              "    }\n",
              "\n",
              "    .colab-df-convert {\n",
              "      background-color: #E8F0FE;\n",
              "      border: none;\n",
              "      border-radius: 50%;\n",
              "      cursor: pointer;\n",
              "      display: none;\n",
              "      fill: #1967D2;\n",
              "      height: 32px;\n",
              "      padding: 0 0 0 0;\n",
              "      width: 32px;\n",
              "    }\n",
              "\n",
              "    .colab-df-convert:hover {\n",
              "      background-color: #E2EBFA;\n",
              "      box-shadow: 0px 1px 2px rgba(60, 64, 67, 0.3), 0px 1px 3px 1px rgba(60, 64, 67, 0.15);\n",
              "      fill: #174EA6;\n",
              "    }\n",
              "\n",
              "    .colab-df-buttons div {\n",
              "      margin-bottom: 4px;\n",
              "    }\n",
              "\n",
              "    [theme=dark] .colab-df-convert {\n",
              "      background-color: #3B4455;\n",
              "      fill: #D2E3FC;\n",
              "    }\n",
              "\n",
              "    [theme=dark] .colab-df-convert:hover {\n",
              "      background-color: #434B5C;\n",
              "      box-shadow: 0px 1px 3px 1px rgba(0, 0, 0, 0.15);\n",
              "      filter: drop-shadow(0px 1px 2px rgba(0, 0, 0, 0.3));\n",
              "      fill: #FFFFFF;\n",
              "    }\n",
              "  </style>\n",
              "\n",
              "    <script>\n",
              "      const buttonEl =\n",
              "        document.querySelector('#df-c62b797e-0857-493c-90d4-fc46ca97de40 button.colab-df-convert');\n",
              "      buttonEl.style.display =\n",
              "        google.colab.kernel.accessAllowed ? 'block' : 'none';\n",
              "\n",
              "      async function convertToInteractive(key) {\n",
              "        const element = document.querySelector('#df-c62b797e-0857-493c-90d4-fc46ca97de40');\n",
              "        const dataTable =\n",
              "          await google.colab.kernel.invokeFunction('convertToInteractive',\n",
              "                                                    [key], {});\n",
              "        if (!dataTable) return;\n",
              "\n",
              "        const docLinkHtml = 'Like what you see? Visit the ' +\n",
              "          '<a target=\"_blank\" href=https://colab.research.google.com/notebooks/data_table.ipynb>data table notebook</a>'\n",
              "          + ' to learn more about interactive tables.';\n",
              "        element.innerHTML = '';\n",
              "        dataTable['output_type'] = 'display_data';\n",
              "        await google.colab.output.renderOutput(dataTable, element);\n",
              "        const docLink = document.createElement('div');\n",
              "        docLink.innerHTML = docLinkHtml;\n",
              "        element.appendChild(docLink);\n",
              "      }\n",
              "    </script>\n",
              "  </div>\n",
              "\n",
              "\n",
              "<div id=\"df-ab990cf4-89dd-41ff-8c8a-6d7397b7a517\">\n",
              "  <button class=\"colab-df-quickchart\" onclick=\"quickchart('df-ab990cf4-89dd-41ff-8c8a-6d7397b7a517')\"\n",
              "            title=\"Suggest charts\"\n",
              "            style=\"display:none;\">\n",
              "\n",
              "<svg xmlns=\"http://www.w3.org/2000/svg\" height=\"24px\"viewBox=\"0 0 24 24\"\n",
              "     width=\"24px\">\n",
              "    <g>\n",
              "        <path d=\"M19 3H5c-1.1 0-2 .9-2 2v14c0 1.1.9 2 2 2h14c1.1 0 2-.9 2-2V5c0-1.1-.9-2-2-2zM9 17H7v-7h2v7zm4 0h-2V7h2v10zm4 0h-2v-4h2v4z\"/>\n",
              "    </g>\n",
              "</svg>\n",
              "  </button>\n",
              "\n",
              "<style>\n",
              "  .colab-df-quickchart {\n",
              "      --bg-color: #E8F0FE;\n",
              "      --fill-color: #1967D2;\n",
              "      --hover-bg-color: #E2EBFA;\n",
              "      --hover-fill-color: #174EA6;\n",
              "      --disabled-fill-color: #AAA;\n",
              "      --disabled-bg-color: #DDD;\n",
              "  }\n",
              "\n",
              "  [theme=dark] .colab-df-quickchart {\n",
              "      --bg-color: #3B4455;\n",
              "      --fill-color: #D2E3FC;\n",
              "      --hover-bg-color: #434B5C;\n",
              "      --hover-fill-color: #FFFFFF;\n",
              "      --disabled-bg-color: #3B4455;\n",
              "      --disabled-fill-color: #666;\n",
              "  }\n",
              "\n",
              "  .colab-df-quickchart {\n",
              "    background-color: var(--bg-color);\n",
              "    border: none;\n",
              "    border-radius: 50%;\n",
              "    cursor: pointer;\n",
              "    display: none;\n",
              "    fill: var(--fill-color);\n",
              "    height: 32px;\n",
              "    padding: 0;\n",
              "    width: 32px;\n",
              "  }\n",
              "\n",
              "  .colab-df-quickchart:hover {\n",
              "    background-color: var(--hover-bg-color);\n",
              "    box-shadow: 0 1px 2px rgba(60, 64, 67, 0.3), 0 1px 3px 1px rgba(60, 64, 67, 0.15);\n",
              "    fill: var(--button-hover-fill-color);\n",
              "  }\n",
              "\n",
              "  .colab-df-quickchart-complete:disabled,\n",
              "  .colab-df-quickchart-complete:disabled:hover {\n",
              "    background-color: var(--disabled-bg-color);\n",
              "    fill: var(--disabled-fill-color);\n",
              "    box-shadow: none;\n",
              "  }\n",
              "\n",
              "  .colab-df-spinner {\n",
              "    border: 2px solid var(--fill-color);\n",
              "    border-color: transparent;\n",
              "    border-bottom-color: var(--fill-color);\n",
              "    animation:\n",
              "      spin 1s steps(1) infinite;\n",
              "  }\n",
              "\n",
              "  @keyframes spin {\n",
              "    0% {\n",
              "      border-color: transparent;\n",
              "      border-bottom-color: var(--fill-color);\n",
              "      border-left-color: var(--fill-color);\n",
              "    }\n",
              "    20% {\n",
              "      border-color: transparent;\n",
              "      border-left-color: var(--fill-color);\n",
              "      border-top-color: var(--fill-color);\n",
              "    }\n",
              "    30% {\n",
              "      border-color: transparent;\n",
              "      border-left-color: var(--fill-color);\n",
              "      border-top-color: var(--fill-color);\n",
              "      border-right-color: var(--fill-color);\n",
              "    }\n",
              "    40% {\n",
              "      border-color: transparent;\n",
              "      border-right-color: var(--fill-color);\n",
              "      border-top-color: var(--fill-color);\n",
              "    }\n",
              "    60% {\n",
              "      border-color: transparent;\n",
              "      border-right-color: var(--fill-color);\n",
              "    }\n",
              "    80% {\n",
              "      border-color: transparent;\n",
              "      border-right-color: var(--fill-color);\n",
              "      border-bottom-color: var(--fill-color);\n",
              "    }\n",
              "    90% {\n",
              "      border-color: transparent;\n",
              "      border-bottom-color: var(--fill-color);\n",
              "    }\n",
              "  }\n",
              "</style>\n",
              "\n",
              "  <script>\n",
              "    async function quickchart(key) {\n",
              "      const quickchartButtonEl =\n",
              "        document.querySelector('#' + key + ' button');\n",
              "      quickchartButtonEl.disabled = true;  // To prevent multiple clicks.\n",
              "      quickchartButtonEl.classList.add('colab-df-spinner');\n",
              "      try {\n",
              "        const charts = await google.colab.kernel.invokeFunction(\n",
              "            'suggestCharts', [key], {});\n",
              "      } catch (error) {\n",
              "        console.error('Error during call to suggestCharts:', error);\n",
              "      }\n",
              "      quickchartButtonEl.classList.remove('colab-df-spinner');\n",
              "      quickchartButtonEl.classList.add('colab-df-quickchart-complete');\n",
              "    }\n",
              "    (() => {\n",
              "      let quickchartButtonEl =\n",
              "        document.querySelector('#df-ab990cf4-89dd-41ff-8c8a-6d7397b7a517 button');\n",
              "      quickchartButtonEl.style.display =\n",
              "        google.colab.kernel.accessAllowed ? 'block' : 'none';\n",
              "    })();\n",
              "  </script>\n",
              "</div>\n",
              "\n",
              "    </div>\n",
              "  </div>\n"
            ],
            "application/vnd.google.colaboratory.intrinsic+json": {
              "type": "dataframe",
              "variable_name": "df_balanced",
              "summary": "{\n  \"name\": \"df_balanced\",\n  \"rows\": 4800,\n  \"fields\": [\n    {\n      \"column\": \"combined_request\",\n      \"properties\": {\n        \"dtype\": \"string\",\n        \"num_unique_values\": 4800,\n        \"samples\": [\n          \"Subject: Request for Information on Digital Strategies and Services Body: Hello Customer Support, I am writing to inquire about the digital strategies and services your company offers to aid in brand growth. Could you provide more information on how your company approaches digital marketing services for your clients? I would greatly appreciate any detailed information you can provide about the strategies and services you offer. Thank you, I look forward to hearing from you at your earliest convenience.\",\n          \"Subject: Guidance for Integrating Project Management Software Body: Hello Customer Support, I am writing to inquire about detailed setup procedures for linking project management software with our current systems. Our aim is to optimize our workflow and enhance team collaboration. Would you be able to supply us with a comprehensive, step-by-step guide on how to perform this integration? Additionally, we would greatly appreciate any supplementary information or references that could assist us in initiating the process. Specifically, we are keen to understand how to synchronize tasks, allocate roles, and monitor progress. We are excited about the prospect of hearing from you and proceeding with the integration. Thank you for your valuable time and support. Best regards, [Your Name]\",\n          \"Subject: Assistance with Integrating Mailchimp and Microsoft Office 365 for Enhanced Analytics Body: Seeking guidance on integrating Mailchimp with Microsoft Office 365 for investment analytics to better track and analyze customer engagement. Would appreciate a detailed, step-by-step guide along with relevant resources to facilitate the integration process. Thank you for your support.\"\n        ],\n        \"semantic_type\": \"\",\n        \"description\": \"\"\n      }\n    },\n    {\n      \"column\": \"type\",\n      \"properties\": {\n        \"dtype\": \"category\",\n        \"num_unique_values\": 4,\n        \"samples\": [\n          \"Problem\",\n          \"Request\",\n          \"Incident\"\n        ],\n        \"semantic_type\": \"\",\n        \"description\": \"\"\n      }\n    },\n    {\n      \"column\": \"priority\",\n      \"properties\": {\n        \"dtype\": \"category\",\n        \"num_unique_values\": 2,\n        \"samples\": [\n          \"med/high\",\n          \"low\"\n        ],\n        \"semantic_type\": \"\",\n        \"description\": \"\"\n      }\n    }\n  ]\n}"
            }
          },
          "metadata": {},
          "execution_count": 27
        }
      ],
      "source": [
        "## Reshape priority column for sampling\n",
        "X = df[['combined_request','type']]\n",
        "y = df['priority']  # Labels\n",
        "\n",
        "# Apply undersampling\n",
        "undersampler = RandomUnderSampler(sampling_strategy='not minority', random_state=42)\n",
        "X_resampled, y_resampled = undersampler.fit_resample(X, y)\n",
        "\n",
        "# Create a new balanced DataFrame\n",
        "df_balanced = pd.DataFrame({'priority': y_resampled})\n",
        "\n",
        "# Create a new balanced DataFrame\n",
        "df_balanced = pd.DataFrame(X_resampled, columns=X.columns)\n",
        "df_balanced['priority'] = y_resampled\n",
        "\n",
        "# Print results\n",
        "print(\"Balanced Samples:\")\n",
        "print(df_balanced['priority'].value_counts())\n",
        "print(\"New Shape:\", df_balanced.shape)\n",
        "df_balanced.head()"
      ]
    },
    {
      "cell_type": "markdown",
      "metadata": {
        "id": "EA4i7yFXvg64"
      },
      "source": [
        "### Encoding"
      ]
    },
    {
      "cell_type": "code",
      "execution_count": 28,
      "metadata": {
        "colab": {
          "base_uri": "https://localhost:8080/"
        },
        "id": "6NSQundfvjOg",
        "outputId": "7745d253-783f-40e3-d816-399dcc527fcc"
      },
      "outputs": [
        {
          "output_type": "stream",
          "name": "stdout",
          "text": [
            "Priority Classes: ['low' 'med/high']\n",
            "Type Classes: ['Change' 'Incident' 'Problem' 'Request']\n"
          ]
        }
      ],
      "source": [
        "# Label encoding for 'priority'\n",
        "priority_le = LabelEncoder()\n",
        "labels = priority_le.fit_transform(df_balanced['priority'])\n",
        "print(\"Priority Classes:\", priority_le.classes_)\n",
        "\n",
        "# Label encoding for 'type'\n",
        "type_le = LabelEncoder()\n",
        "feature_inputs = type_le.fit_transform(df_balanced['type'])\n",
        "print(\"Type Classes:\", type_le.classes_)"
      ]
    },
    {
      "cell_type": "code",
      "execution_count": 29,
      "metadata": {
        "colab": {
          "base_uri": "https://localhost:8080/",
          "height": 206
        },
        "id": "acquN_WYv6Gg",
        "outputId": "4e56f70f-4108-493d-e8c1-e1fd9b29a200"
      },
      "outputs": [
        {
          "output_type": "execute_result",
          "data": {
            "text/plain": [
              "                                     combined_request      type priority\n",
              "13  Subject: Issue with Website Analytics Dashboar...  Incident      low\n",
              "15  Subject: Request for Assistance with Data Inte...   Problem      low\n",
              "16  Subject: Request for Updating Integration Feat...    Change      low\n",
              "26  Subject: Best Practices for Securing Medical D...   Request      low\n",
              "30  Subject: Problem with Invoice Body: I am encou...  Incident      low"
            ],
            "text/html": [
              "\n",
              "  <div id=\"df-2e9dfdcb-bc94-47d8-8a3b-2b56b2938680\" class=\"colab-df-container\">\n",
              "    <div>\n",
              "<style scoped>\n",
              "    .dataframe tbody tr th:only-of-type {\n",
              "        vertical-align: middle;\n",
              "    }\n",
              "\n",
              "    .dataframe tbody tr th {\n",
              "        vertical-align: top;\n",
              "    }\n",
              "\n",
              "    .dataframe thead th {\n",
              "        text-align: right;\n",
              "    }\n",
              "</style>\n",
              "<table border=\"1\" class=\"dataframe\">\n",
              "  <thead>\n",
              "    <tr style=\"text-align: right;\">\n",
              "      <th></th>\n",
              "      <th>combined_request</th>\n",
              "      <th>type</th>\n",
              "      <th>priority</th>\n",
              "    </tr>\n",
              "  </thead>\n",
              "  <tbody>\n",
              "    <tr>\n",
              "      <th>13</th>\n",
              "      <td>Subject: Issue with Website Analytics Dashboar...</td>\n",
              "      <td>Incident</td>\n",
              "      <td>low</td>\n",
              "    </tr>\n",
              "    <tr>\n",
              "      <th>15</th>\n",
              "      <td>Subject: Request for Assistance with Data Inte...</td>\n",
              "      <td>Problem</td>\n",
              "      <td>low</td>\n",
              "    </tr>\n",
              "    <tr>\n",
              "      <th>16</th>\n",
              "      <td>Subject: Request for Updating Integration Feat...</td>\n",
              "      <td>Change</td>\n",
              "      <td>low</td>\n",
              "    </tr>\n",
              "    <tr>\n",
              "      <th>26</th>\n",
              "      <td>Subject: Best Practices for Securing Medical D...</td>\n",
              "      <td>Request</td>\n",
              "      <td>low</td>\n",
              "    </tr>\n",
              "    <tr>\n",
              "      <th>30</th>\n",
              "      <td>Subject: Problem with Invoice Body: I am encou...</td>\n",
              "      <td>Incident</td>\n",
              "      <td>low</td>\n",
              "    </tr>\n",
              "  </tbody>\n",
              "</table>\n",
              "</div>\n",
              "    <div class=\"colab-df-buttons\">\n",
              "\n",
              "  <div class=\"colab-df-container\">\n",
              "    <button class=\"colab-df-convert\" onclick=\"convertToInteractive('df-2e9dfdcb-bc94-47d8-8a3b-2b56b2938680')\"\n",
              "            title=\"Convert this dataframe to an interactive table.\"\n",
              "            style=\"display:none;\">\n",
              "\n",
              "  <svg xmlns=\"http://www.w3.org/2000/svg\" height=\"24px\" viewBox=\"0 -960 960 960\">\n",
              "    <path d=\"M120-120v-720h720v720H120Zm60-500h600v-160H180v160Zm220 220h160v-160H400v160Zm0 220h160v-160H400v160ZM180-400h160v-160H180v160Zm440 0h160v-160H620v160ZM180-180h160v-160H180v160Zm440 0h160v-160H620v160Z\"/>\n",
              "  </svg>\n",
              "    </button>\n",
              "\n",
              "  <style>\n",
              "    .colab-df-container {\n",
              "      display:flex;\n",
              "      gap: 12px;\n",
              "    }\n",
              "\n",
              "    .colab-df-convert {\n",
              "      background-color: #E8F0FE;\n",
              "      border: none;\n",
              "      border-radius: 50%;\n",
              "      cursor: pointer;\n",
              "      display: none;\n",
              "      fill: #1967D2;\n",
              "      height: 32px;\n",
              "      padding: 0 0 0 0;\n",
              "      width: 32px;\n",
              "    }\n",
              "\n",
              "    .colab-df-convert:hover {\n",
              "      background-color: #E2EBFA;\n",
              "      box-shadow: 0px 1px 2px rgba(60, 64, 67, 0.3), 0px 1px 3px 1px rgba(60, 64, 67, 0.15);\n",
              "      fill: #174EA6;\n",
              "    }\n",
              "\n",
              "    .colab-df-buttons div {\n",
              "      margin-bottom: 4px;\n",
              "    }\n",
              "\n",
              "    [theme=dark] .colab-df-convert {\n",
              "      background-color: #3B4455;\n",
              "      fill: #D2E3FC;\n",
              "    }\n",
              "\n",
              "    [theme=dark] .colab-df-convert:hover {\n",
              "      background-color: #434B5C;\n",
              "      box-shadow: 0px 1px 3px 1px rgba(0, 0, 0, 0.15);\n",
              "      filter: drop-shadow(0px 1px 2px rgba(0, 0, 0, 0.3));\n",
              "      fill: #FFFFFF;\n",
              "    }\n",
              "  </style>\n",
              "\n",
              "    <script>\n",
              "      const buttonEl =\n",
              "        document.querySelector('#df-2e9dfdcb-bc94-47d8-8a3b-2b56b2938680 button.colab-df-convert');\n",
              "      buttonEl.style.display =\n",
              "        google.colab.kernel.accessAllowed ? 'block' : 'none';\n",
              "\n",
              "      async function convertToInteractive(key) {\n",
              "        const element = document.querySelector('#df-2e9dfdcb-bc94-47d8-8a3b-2b56b2938680');\n",
              "        const dataTable =\n",
              "          await google.colab.kernel.invokeFunction('convertToInteractive',\n",
              "                                                    [key], {});\n",
              "        if (!dataTable) return;\n",
              "\n",
              "        const docLinkHtml = 'Like what you see? Visit the ' +\n",
              "          '<a target=\"_blank\" href=https://colab.research.google.com/notebooks/data_table.ipynb>data table notebook</a>'\n",
              "          + ' to learn more about interactive tables.';\n",
              "        element.innerHTML = '';\n",
              "        dataTable['output_type'] = 'display_data';\n",
              "        await google.colab.output.renderOutput(dataTable, element);\n",
              "        const docLink = document.createElement('div');\n",
              "        docLink.innerHTML = docLinkHtml;\n",
              "        element.appendChild(docLink);\n",
              "      }\n",
              "    </script>\n",
              "  </div>\n",
              "\n",
              "\n",
              "<div id=\"df-3941cb17-de81-4a66-be2d-a9552a8666b7\">\n",
              "  <button class=\"colab-df-quickchart\" onclick=\"quickchart('df-3941cb17-de81-4a66-be2d-a9552a8666b7')\"\n",
              "            title=\"Suggest charts\"\n",
              "            style=\"display:none;\">\n",
              "\n",
              "<svg xmlns=\"http://www.w3.org/2000/svg\" height=\"24px\"viewBox=\"0 0 24 24\"\n",
              "     width=\"24px\">\n",
              "    <g>\n",
              "        <path d=\"M19 3H5c-1.1 0-2 .9-2 2v14c0 1.1.9 2 2 2h14c1.1 0 2-.9 2-2V5c0-1.1-.9-2-2-2zM9 17H7v-7h2v7zm4 0h-2V7h2v10zm4 0h-2v-4h2v4z\"/>\n",
              "    </g>\n",
              "</svg>\n",
              "  </button>\n",
              "\n",
              "<style>\n",
              "  .colab-df-quickchart {\n",
              "      --bg-color: #E8F0FE;\n",
              "      --fill-color: #1967D2;\n",
              "      --hover-bg-color: #E2EBFA;\n",
              "      --hover-fill-color: #174EA6;\n",
              "      --disabled-fill-color: #AAA;\n",
              "      --disabled-bg-color: #DDD;\n",
              "  }\n",
              "\n",
              "  [theme=dark] .colab-df-quickchart {\n",
              "      --bg-color: #3B4455;\n",
              "      --fill-color: #D2E3FC;\n",
              "      --hover-bg-color: #434B5C;\n",
              "      --hover-fill-color: #FFFFFF;\n",
              "      --disabled-bg-color: #3B4455;\n",
              "      --disabled-fill-color: #666;\n",
              "  }\n",
              "\n",
              "  .colab-df-quickchart {\n",
              "    background-color: var(--bg-color);\n",
              "    border: none;\n",
              "    border-radius: 50%;\n",
              "    cursor: pointer;\n",
              "    display: none;\n",
              "    fill: var(--fill-color);\n",
              "    height: 32px;\n",
              "    padding: 0;\n",
              "    width: 32px;\n",
              "  }\n",
              "\n",
              "  .colab-df-quickchart:hover {\n",
              "    background-color: var(--hover-bg-color);\n",
              "    box-shadow: 0 1px 2px rgba(60, 64, 67, 0.3), 0 1px 3px 1px rgba(60, 64, 67, 0.15);\n",
              "    fill: var(--button-hover-fill-color);\n",
              "  }\n",
              "\n",
              "  .colab-df-quickchart-complete:disabled,\n",
              "  .colab-df-quickchart-complete:disabled:hover {\n",
              "    background-color: var(--disabled-bg-color);\n",
              "    fill: var(--disabled-fill-color);\n",
              "    box-shadow: none;\n",
              "  }\n",
              "\n",
              "  .colab-df-spinner {\n",
              "    border: 2px solid var(--fill-color);\n",
              "    border-color: transparent;\n",
              "    border-bottom-color: var(--fill-color);\n",
              "    animation:\n",
              "      spin 1s steps(1) infinite;\n",
              "  }\n",
              "\n",
              "  @keyframes spin {\n",
              "    0% {\n",
              "      border-color: transparent;\n",
              "      border-bottom-color: var(--fill-color);\n",
              "      border-left-color: var(--fill-color);\n",
              "    }\n",
              "    20% {\n",
              "      border-color: transparent;\n",
              "      border-left-color: var(--fill-color);\n",
              "      border-top-color: var(--fill-color);\n",
              "    }\n",
              "    30% {\n",
              "      border-color: transparent;\n",
              "      border-left-color: var(--fill-color);\n",
              "      border-top-color: var(--fill-color);\n",
              "      border-right-color: var(--fill-color);\n",
              "    }\n",
              "    40% {\n",
              "      border-color: transparent;\n",
              "      border-right-color: var(--fill-color);\n",
              "      border-top-color: var(--fill-color);\n",
              "    }\n",
              "    60% {\n",
              "      border-color: transparent;\n",
              "      border-right-color: var(--fill-color);\n",
              "    }\n",
              "    80% {\n",
              "      border-color: transparent;\n",
              "      border-right-color: var(--fill-color);\n",
              "      border-bottom-color: var(--fill-color);\n",
              "    }\n",
              "    90% {\n",
              "      border-color: transparent;\n",
              "      border-bottom-color: var(--fill-color);\n",
              "    }\n",
              "  }\n",
              "</style>\n",
              "\n",
              "  <script>\n",
              "    async function quickchart(key) {\n",
              "      const quickchartButtonEl =\n",
              "        document.querySelector('#' + key + ' button');\n",
              "      quickchartButtonEl.disabled = true;  // To prevent multiple clicks.\n",
              "      quickchartButtonEl.classList.add('colab-df-spinner');\n",
              "      try {\n",
              "        const charts = await google.colab.kernel.invokeFunction(\n",
              "            'suggestCharts', [key], {});\n",
              "      } catch (error) {\n",
              "        console.error('Error during call to suggestCharts:', error);\n",
              "      }\n",
              "      quickchartButtonEl.classList.remove('colab-df-spinner');\n",
              "      quickchartButtonEl.classList.add('colab-df-quickchart-complete');\n",
              "    }\n",
              "    (() => {\n",
              "      let quickchartButtonEl =\n",
              "        document.querySelector('#df-3941cb17-de81-4a66-be2d-a9552a8666b7 button');\n",
              "      quickchartButtonEl.style.display =\n",
              "        google.colab.kernel.accessAllowed ? 'block' : 'none';\n",
              "    })();\n",
              "  </script>\n",
              "</div>\n",
              "\n",
              "    </div>\n",
              "  </div>\n"
            ],
            "application/vnd.google.colaboratory.intrinsic+json": {
              "type": "dataframe",
              "variable_name": "df_balanced",
              "summary": "{\n  \"name\": \"df_balanced\",\n  \"rows\": 4800,\n  \"fields\": [\n    {\n      \"column\": \"combined_request\",\n      \"properties\": {\n        \"dtype\": \"string\",\n        \"num_unique_values\": 4800,\n        \"samples\": [\n          \"Subject: Request for Information on Digital Strategies and Services Body: Hello Customer Support, I am writing to inquire about the digital strategies and services your company offers to aid in brand growth. Could you provide more information on how your company approaches digital marketing services for your clients? I would greatly appreciate any detailed information you can provide about the strategies and services you offer. Thank you, I look forward to hearing from you at your earliest convenience.\",\n          \"Subject: Guidance for Integrating Project Management Software Body: Hello Customer Support, I am writing to inquire about detailed setup procedures for linking project management software with our current systems. Our aim is to optimize our workflow and enhance team collaboration. Would you be able to supply us with a comprehensive, step-by-step guide on how to perform this integration? Additionally, we would greatly appreciate any supplementary information or references that could assist us in initiating the process. Specifically, we are keen to understand how to synchronize tasks, allocate roles, and monitor progress. We are excited about the prospect of hearing from you and proceeding with the integration. Thank you for your valuable time and support. Best regards, [Your Name]\",\n          \"Subject: Assistance with Integrating Mailchimp and Microsoft Office 365 for Enhanced Analytics Body: Seeking guidance on integrating Mailchimp with Microsoft Office 365 for investment analytics to better track and analyze customer engagement. Would appreciate a detailed, step-by-step guide along with relevant resources to facilitate the integration process. Thank you for your support.\"\n        ],\n        \"semantic_type\": \"\",\n        \"description\": \"\"\n      }\n    },\n    {\n      \"column\": \"type\",\n      \"properties\": {\n        \"dtype\": \"category\",\n        \"num_unique_values\": 4,\n        \"samples\": [\n          \"Problem\",\n          \"Request\",\n          \"Incident\"\n        ],\n        \"semantic_type\": \"\",\n        \"description\": \"\"\n      }\n    },\n    {\n      \"column\": \"priority\",\n      \"properties\": {\n        \"dtype\": \"category\",\n        \"num_unique_values\": 2,\n        \"samples\": [\n          \"med/high\",\n          \"low\"\n        ],\n        \"semantic_type\": \"\",\n        \"description\": \"\"\n      }\n    }\n  ]\n}"
            }
          },
          "metadata": {},
          "execution_count": 29
        }
      ],
      "source": [
        "df_balanced.head()"
      ]
    },
    {
      "cell_type": "markdown",
      "metadata": {
        "id": "badYBEdqtk9k"
      },
      "source": [
        "### Text preprocessing"
      ]
    },
    {
      "cell_type": "code",
      "execution_count": 30,
      "metadata": {
        "colab": {
          "base_uri": "https://localhost:8080/"
        },
        "id": "YgT3-LnN4Jlz",
        "outputId": "8dd399d8-a75a-4fc1-fcaa-6cbc2f4a435e"
      },
      "outputs": [
        {
          "output_type": "stream",
          "name": "stdout",
          "text": [
            "Max Words: 5296\n",
            "Optimal max_length: 129\n"
          ]
        }
      ],
      "source": [
        "# Tokenize the text first\n",
        "all_words = [word for text in model_data['combined_request'] for word in text.split()]\n",
        "word_counts = Counter(all_words)\n",
        "\n",
        "# Set threshold to remove rare words (e.g., words appearing <5 times)\n",
        "vocab_size = sum(1 for count in word_counts.values() if count >= 5)\n",
        "max_words = min(vocab_size, 20000)\n",
        "print('Max Words:',max_words)\n",
        "\n",
        "text_lengths = np.array([len(text.split()) for text in model_data['combined_request']])\n",
        "\n",
        "# Set max_length to the 95th percentile (avoiding extreme outliers)\n",
        "max_length = int(np.percentile(text_lengths, 95))\n",
        "print(f\"Optimal max_length: {max_length}\")"
      ]
    },
    {
      "cell_type": "code",
      "execution_count": 31,
      "metadata": {
        "id": "c8FvQFNiuGH5"
      },
      "outputs": [],
      "source": [
        "# Tokenize text data\n",
        "tokenizer = Tokenizer(num_words=max_words, oov_token=\"<OOV>\",\n",
        "                      filters='!\"#$%&()*+,-./:;<=>?@[\\\\]^_`{|}~\\t\\n')\n",
        "tokenizer.fit_on_texts(df_balanced['combined_request'])\n",
        "\n",
        "# Convert text into sequences\n",
        "sequences = tokenizer.texts_to_sequences(df_balanced['combined_request'])\n",
        "\n",
        "# Pad sequences\n",
        "padded_sequences = pad_sequences(sequences, maxlen=max_length, padding='post', truncating='post')\n",
        "\n",
        "# Reshaping and combining input features\n",
        "feature_inputs = feature_inputs.reshape(-1,1)\n",
        "features_combined = np.concatenate([padded_sequences,feature_inputs], axis=1)\n",
        "\n",
        "# Convert labels to a NumPy array\n",
        "labels = np.array(labels)"
      ]
    },
    {
      "cell_type": "code",
      "execution_count": 32,
      "metadata": {
        "colab": {
          "base_uri": "https://localhost:8080/"
        },
        "id": "5FAOzhlWzwrJ",
        "outputId": "fa50d5e0-e7cd-4e82-a068-980a018a5b6e"
      },
      "outputs": [
        {
          "output_type": "execute_result",
          "data": {
            "text/plain": [
              "array([  7,  17,  13, 338,  38, 158,   9, 125,  37,  20,   5,  23, 184,\n",
              "        15,  28,  13,  51, 338,  38, 158,  32,  33,  93, 165,   5, 173,\n",
              "        73,  56,  19,  58,  17,  13,   2, 242, 354,   5,  26, 121, 183,\n",
              "         2, 158,   4, 362,  51, 737, 401,   2,  28,  83, 265,  18,   6,\n",
              "        41, 300,   4, 103,  15, 109, 147,  11, 278, 279,  46,   6, 130,\n",
              "        27, 104,  30,  62,  44,  41, 144,  44,  98,  60,   6,   8,  11,\n",
              "        29,   4,   5,  64,  65,   3,  11,  76,   0,   0,   0,   0,   0,\n",
              "         0,   0,   0,   0,   0,   0,   0,   0,   0,   0,   0,   0,   0,\n",
              "         0,   0,   0,   0,   0,   0,   0,   0,   0,   0,   0,   0,   0,\n",
              "         0,   0,   0,   0,   0,   0,   0,   0,   0,   0,   0,   0],\n",
              "      dtype=int32)"
            ]
          },
          "metadata": {},
          "execution_count": 32
        }
      ],
      "source": [
        "padded_sequences[0]"
      ]
    },
    {
      "cell_type": "markdown",
      "metadata": {
        "id": "e3_li3940jxT"
      },
      "source": [
        "### Save tokenizer"
      ]
    },
    {
      "cell_type": "code",
      "execution_count": null,
      "metadata": {
        "id": "eMw_SHAY0mL-"
      },
      "outputs": [],
      "source": [
        "with open(\"tokenizer.pkl\", \"wb\") as handle:\n",
        "    pickle.dump(tokenizer, handle)"
      ]
    },
    {
      "cell_type": "markdown",
      "metadata": {
        "id": "X8dypQloMVRP"
      },
      "source": [
        "### Train Test Split"
      ]
    },
    {
      "cell_type": "code",
      "execution_count": 33,
      "metadata": {
        "id": "zkIJyoeNLLa4"
      },
      "outputs": [],
      "source": [
        "x_train,x_test,y_train,y_test = train_test_split(\n",
        "    features_combined,labels,test_size=0.2,random_state=42,shuffle=True,\n",
        "    stratify=labels)"
      ]
    },
    {
      "cell_type": "markdown",
      "metadata": {
        "id": "oxMqlLCGLL0k"
      },
      "source": [
        "## Modeling"
      ]
    },
    {
      "cell_type": "markdown",
      "metadata": {
        "id": "dCZRVvul0vfC"
      },
      "source": [
        "### Model Architecture"
      ]
    },
    {
      "cell_type": "code",
      "execution_count": 37,
      "metadata": {
        "colab": {
          "base_uri": "https://localhost:8080/",
          "height": 425
        },
        "id": "yxdb3etFszox",
        "outputId": "f22db036-9bbd-46dd-9b02-ab7b0c4123e8"
      },
      "outputs": [
        {
          "output_type": "display_data",
          "data": {
            "text/plain": [
              "\u001b[1mModel: \"sequential_1\"\u001b[0m\n"
            ],
            "text/html": [
              "<pre style=\"white-space:pre;overflow-x:auto;line-height:normal;font-family:Menlo,'DejaVu Sans Mono',consolas,'Courier New',monospace\"><span style=\"font-weight: bold\">Model: \"sequential_1\"</span>\n",
              "</pre>\n"
            ]
          },
          "metadata": {}
        },
        {
          "output_type": "display_data",
          "data": {
            "text/plain": [
              "┏━━━━━━━━━━━━━━━━━━━━━━━━━━━━━━━━━━━━━━┳━━━━━━━━━━━━━━━━━━━━━━━━━━━━━┳━━━━━━━━━━━━━━━━━┓\n",
              "┃\u001b[1m \u001b[0m\u001b[1mLayer (type)                        \u001b[0m\u001b[1m \u001b[0m┃\u001b[1m \u001b[0m\u001b[1mOutput Shape               \u001b[0m\u001b[1m \u001b[0m┃\u001b[1m \u001b[0m\u001b[1m        Param #\u001b[0m\u001b[1m \u001b[0m┃\n",
              "┡━━━━━━━━━━━━━━━━━━━━━━━━━━━━━━━━━━━━━━╇━━━━━━━━━━━━━━━━━━━━━━━━━━━━━╇━━━━━━━━━━━━━━━━━┩\n",
              "│ embedding_1 (\u001b[38;5;33mEmbedding\u001b[0m)              │ ?                           │     \u001b[38;5;34m0\u001b[0m (unbuilt) │\n",
              "├──────────────────────────────────────┼─────────────────────────────┼─────────────────┤\n",
              "│ bidirectional_2 (\u001b[38;5;33mBidirectional\u001b[0m)      │ ?                           │     \u001b[38;5;34m0\u001b[0m (unbuilt) │\n",
              "├──────────────────────────────────────┼─────────────────────────────┼─────────────────┤\n",
              "│ dropout_2 (\u001b[38;5;33mDropout\u001b[0m)                  │ ?                           │               \u001b[38;5;34m0\u001b[0m │\n",
              "├──────────────────────────────────────┼─────────────────────────────┼─────────────────┤\n",
              "│ bidirectional_3 (\u001b[38;5;33mBidirectional\u001b[0m)      │ ?                           │     \u001b[38;5;34m0\u001b[0m (unbuilt) │\n",
              "├──────────────────────────────────────┼─────────────────────────────┼─────────────────┤\n",
              "│ global_max_pooling1d_1               │ ?                           │               \u001b[38;5;34m0\u001b[0m │\n",
              "│ (\u001b[38;5;33mGlobalMaxPooling1D\u001b[0m)                 │                             │                 │\n",
              "├──────────────────────────────────────┼─────────────────────────────┼─────────────────┤\n",
              "│ dense_2 (\u001b[38;5;33mDense\u001b[0m)                      │ ?                           │     \u001b[38;5;34m0\u001b[0m (unbuilt) │\n",
              "├──────────────────────────────────────┼─────────────────────────────┼─────────────────┤\n",
              "│ dropout_3 (\u001b[38;5;33mDropout\u001b[0m)                  │ ?                           │               \u001b[38;5;34m0\u001b[0m │\n",
              "├──────────────────────────────────────┼─────────────────────────────┼─────────────────┤\n",
              "│ dense_3 (\u001b[38;5;33mDense\u001b[0m)                      │ ?                           │     \u001b[38;5;34m0\u001b[0m (unbuilt) │\n",
              "└──────────────────────────────────────┴─────────────────────────────┴─────────────────┘\n"
            ],
            "text/html": [
              "<pre style=\"white-space:pre;overflow-x:auto;line-height:normal;font-family:Menlo,'DejaVu Sans Mono',consolas,'Courier New',monospace\">┏━━━━━━━━━━━━━━━━━━━━━━━━━━━━━━━━━━━━━━┳━━━━━━━━━━━━━━━━━━━━━━━━━━━━━┳━━━━━━━━━━━━━━━━━┓\n",
              "┃<span style=\"font-weight: bold\"> Layer (type)                         </span>┃<span style=\"font-weight: bold\"> Output Shape                </span>┃<span style=\"font-weight: bold\">         Param # </span>┃\n",
              "┡━━━━━━━━━━━━━━━━━━━━━━━━━━━━━━━━━━━━━━╇━━━━━━━━━━━━━━━━━━━━━━━━━━━━━╇━━━━━━━━━━━━━━━━━┩\n",
              "│ embedding_1 (<span style=\"color: #0087ff; text-decoration-color: #0087ff\">Embedding</span>)              │ ?                           │     <span style=\"color: #00af00; text-decoration-color: #00af00\">0</span> (unbuilt) │\n",
              "├──────────────────────────────────────┼─────────────────────────────┼─────────────────┤\n",
              "│ bidirectional_2 (<span style=\"color: #0087ff; text-decoration-color: #0087ff\">Bidirectional</span>)      │ ?                           │     <span style=\"color: #00af00; text-decoration-color: #00af00\">0</span> (unbuilt) │\n",
              "├──────────────────────────────────────┼─────────────────────────────┼─────────────────┤\n",
              "│ dropout_2 (<span style=\"color: #0087ff; text-decoration-color: #0087ff\">Dropout</span>)                  │ ?                           │               <span style=\"color: #00af00; text-decoration-color: #00af00\">0</span> │\n",
              "├──────────────────────────────────────┼─────────────────────────────┼─────────────────┤\n",
              "│ bidirectional_3 (<span style=\"color: #0087ff; text-decoration-color: #0087ff\">Bidirectional</span>)      │ ?                           │     <span style=\"color: #00af00; text-decoration-color: #00af00\">0</span> (unbuilt) │\n",
              "├──────────────────────────────────────┼─────────────────────────────┼─────────────────┤\n",
              "│ global_max_pooling1d_1               │ ?                           │               <span style=\"color: #00af00; text-decoration-color: #00af00\">0</span> │\n",
              "│ (<span style=\"color: #0087ff; text-decoration-color: #0087ff\">GlobalMaxPooling1D</span>)                 │                             │                 │\n",
              "├──────────────────────────────────────┼─────────────────────────────┼─────────────────┤\n",
              "│ dense_2 (<span style=\"color: #0087ff; text-decoration-color: #0087ff\">Dense</span>)                      │ ?                           │     <span style=\"color: #00af00; text-decoration-color: #00af00\">0</span> (unbuilt) │\n",
              "├──────────────────────────────────────┼─────────────────────────────┼─────────────────┤\n",
              "│ dropout_3 (<span style=\"color: #0087ff; text-decoration-color: #0087ff\">Dropout</span>)                  │ ?                           │               <span style=\"color: #00af00; text-decoration-color: #00af00\">0</span> │\n",
              "├──────────────────────────────────────┼─────────────────────────────┼─────────────────┤\n",
              "│ dense_3 (<span style=\"color: #0087ff; text-decoration-color: #0087ff\">Dense</span>)                      │ ?                           │     <span style=\"color: #00af00; text-decoration-color: #00af00\">0</span> (unbuilt) │\n",
              "└──────────────────────────────────────┴─────────────────────────────┴─────────────────┘\n",
              "</pre>\n"
            ]
          },
          "metadata": {}
        },
        {
          "output_type": "display_data",
          "data": {
            "text/plain": [
              "\u001b[1m Total params: \u001b[0m\u001b[38;5;34m0\u001b[0m (0.00 B)\n"
            ],
            "text/html": [
              "<pre style=\"white-space:pre;overflow-x:auto;line-height:normal;font-family:Menlo,'DejaVu Sans Mono',consolas,'Courier New',monospace\"><span style=\"font-weight: bold\"> Total params: </span><span style=\"color: #00af00; text-decoration-color: #00af00\">0</span> (0.00 B)\n",
              "</pre>\n"
            ]
          },
          "metadata": {}
        },
        {
          "output_type": "display_data",
          "data": {
            "text/plain": [
              "\u001b[1m Trainable params: \u001b[0m\u001b[38;5;34m0\u001b[0m (0.00 B)\n"
            ],
            "text/html": [
              "<pre style=\"white-space:pre;overflow-x:auto;line-height:normal;font-family:Menlo,'DejaVu Sans Mono',consolas,'Courier New',monospace\"><span style=\"font-weight: bold\"> Trainable params: </span><span style=\"color: #00af00; text-decoration-color: #00af00\">0</span> (0.00 B)\n",
              "</pre>\n"
            ]
          },
          "metadata": {}
        },
        {
          "output_type": "display_data",
          "data": {
            "text/plain": [
              "\u001b[1m Non-trainable params: \u001b[0m\u001b[38;5;34m0\u001b[0m (0.00 B)\n"
            ],
            "text/html": [
              "<pre style=\"white-space:pre;overflow-x:auto;line-height:normal;font-family:Menlo,'DejaVu Sans Mono',consolas,'Courier New',monospace\"><span style=\"font-weight: bold\"> Non-trainable params: </span><span style=\"color: #00af00; text-decoration-color: #00af00\">0</span> (0.00 B)\n",
              "</pre>\n"
            ]
          },
          "metadata": {}
        }
      ],
      "source": [
        "# Binary classification\n",
        "num_classes=2\n",
        "\n",
        "# Setting this pretty low since we're dealing with a relatively small vocab\n",
        "embedding_dim = 50\n",
        "\n",
        "# Setting an initial amount of 32, which is cut in half at the second LSTM layer\n",
        "lstm_units = 32\n",
        "\n",
        "# Define the model\n",
        "model = Sequential([\n",
        "    Embedding(input_dim=max_words, output_dim=embedding_dim, input_length=max_length),\n",
        "    Bidirectional(LSTM(lstm_units, return_sequences=True)),\n",
        "    Dropout(0.5),\n",
        "    Bidirectional(LSTM(lstm_units // 2, return_sequences=True)),\n",
        "    GlobalMaxPooling1D(),  # Pooling over the entire sequence\n",
        "    Dense(128, activation='relu'),\n",
        "    Dropout(0.5),\n",
        "    Dense(1, activation='sigmoid')  # Change to single output node with sigmoid\n",
        "])\n",
        "\n",
        "# Compile the model for multi-class classification\n",
        "model.compile(loss='binary_crossentropy',\n",
        "              optimizer='adam',\n",
        "              metrics=['accuracy', Precision(), Recall()]\n",
        "                )\n",
        "\n",
        "# Model Summary\n",
        "model.summary()"
      ]
    },
    {
      "cell_type": "markdown",
      "metadata": {
        "id": "XXQnvjsw0d65"
      },
      "source": [
        "### Model Training"
      ]
    },
    {
      "cell_type": "code",
      "execution_count": 38,
      "metadata": {
        "colab": {
          "base_uri": "https://localhost:8080/"
        },
        "id": "QMSatRv80ibZ",
        "outputId": "72857abd-9c84-4461-d4c1-86023631c9db"
      },
      "outputs": [
        {
          "output_type": "stream",
          "name": "stdout",
          "text": [
            "Epoch 1/30\n",
            "\u001b[1m119/120\u001b[0m \u001b[32m━━━━━━━━━━━━━━━━━━━\u001b[0m\u001b[37m━\u001b[0m \u001b[1m0s\u001b[0m 29ms/step - accuracy: 0.4942 - loss: 0.6938 - precision_1: 0.5019 - recall_1: 0.7206\n",
            "Epoch 1: val_loss improved from inf to 0.69293, saving model to best_model.h5\n"
          ]
        },
        {
          "output_type": "stream",
          "name": "stderr",
          "text": [
            "WARNING:absl:You are saving your model as an HDF5 file via `model.save()` or `keras.saving.save_model(model)`. This file format is considered legacy. We recommend using instead the native Keras format, e.g. `model.save('my_model.keras')` or `keras.saving.save_model(model, 'my_model.keras')`. \n"
          ]
        },
        {
          "output_type": "stream",
          "name": "stdout",
          "text": [
            "\b\b\b\b\b\b\b\b\b\b\b\b\b\b\b\b\b\b\b\b\b\b\b\b\b\b\b\b\b\b\b\b\b\b\b\b\b\b\b\b\b\b\b\b\b\b\b\b\b\b\b\b\b\b\b\b\b\b\b\b\b\b\b\b\b\b\b\b\b\b\b\b\b\b\b\b\b\b\b\b\b\b\b\b\b\b\b\b\b\b\b\b\b\b\b\b\b\b\b\b\b\b\b\b\b\b\b\b\b\b\b\b\b\b\b\b\r\u001b[1m120/120\u001b[0m \u001b[32m━━━━━━━━━━━━━━━━━━━━\u001b[0m\u001b[37m\u001b[0m \u001b[1m18s\u001b[0m 38ms/step - accuracy: 0.4943 - loss: 0.6938 - precision_1: 0.5019 - recall_1: 0.7178 - val_accuracy: 0.5115 - val_loss: 0.6929 - val_precision_1: 0.5062 - val_recall_1: 0.9312\n",
            "Epoch 2/30\n",
            "\u001b[1m119/120\u001b[0m \u001b[32m━━━━━━━━━━━━━━━━━━━\u001b[0m\u001b[37m━\u001b[0m \u001b[1m0s\u001b[0m 23ms/step - accuracy: 0.5300 - loss: 0.6916 - precision_1: 0.5248 - recall_1: 0.7379\n",
            "Epoch 2: val_loss improved from 0.69293 to 0.69027, saving model to best_model.h5\n"
          ]
        },
        {
          "output_type": "stream",
          "name": "stderr",
          "text": [
            "WARNING:absl:You are saving your model as an HDF5 file via `model.save()` or `keras.saving.save_model(model)`. This file format is considered legacy. We recommend using instead the native Keras format, e.g. `model.save('my_model.keras')` or `keras.saving.save_model(model, 'my_model.keras')`. \n"
          ]
        },
        {
          "output_type": "stream",
          "name": "stdout",
          "text": [
            "\b\b\b\b\b\b\b\b\b\b\b\b\b\b\b\b\b\b\b\b\b\b\b\b\b\b\b\b\b\b\b\b\b\b\b\b\b\b\b\b\b\b\b\b\b\b\b\b\b\b\b\b\b\b\b\b\b\b\b\b\b\b\b\b\b\b\b\b\b\b\b\b\b\b\b\b\b\b\b\b\b\b\b\b\b\b\b\b\b\b\b\b\b\b\b\b\b\b\b\b\b\b\b\b\b\b\b\b\b\b\b\b\b\b\b\b\r\u001b[1m120/120\u001b[0m \u001b[32m━━━━━━━━━━━━━━━━━━━━\u001b[0m\u001b[37m\u001b[0m \u001b[1m3s\u001b[0m 27ms/step - accuracy: 0.5299 - loss: 0.6916 - precision_1: 0.5248 - recall_1: 0.7347 - val_accuracy: 0.5323 - val_loss: 0.6903 - val_precision_1: 0.7925 - val_recall_1: 0.0875\n",
            "Epoch 3/30\n",
            "\u001b[1m118/120\u001b[0m \u001b[32m━━━━━━━━━━━━━━━━━━━\u001b[0m\u001b[37m━\u001b[0m \u001b[1m0s\u001b[0m 24ms/step - accuracy: 0.5969 - loss: 0.6735 - precision_1: 0.6360 - recall_1: 0.4365\n",
            "Epoch 3: val_loss improved from 0.69027 to 0.66505, saving model to best_model.h5\n"
          ]
        },
        {
          "output_type": "stream",
          "name": "stderr",
          "text": [
            "WARNING:absl:You are saving your model as an HDF5 file via `model.save()` or `keras.saving.save_model(model)`. This file format is considered legacy. We recommend using instead the native Keras format, e.g. `model.save('my_model.keras')` or `keras.saving.save_model(model, 'my_model.keras')`. \n"
          ]
        },
        {
          "output_type": "stream",
          "name": "stdout",
          "text": [
            "\b\b\b\b\b\b\b\b\b\b\b\b\b\b\b\b\b\b\b\b\b\b\b\b\b\b\b\b\b\b\b\b\b\b\b\b\b\b\b\b\b\b\b\b\b\b\b\b\b\b\b\b\b\b\b\b\b\b\b\b\b\b\b\b\b\b\b\b\b\b\b\b\b\b\b\b\b\b\b\b\b\b\b\b\b\b\b\b\b\b\b\b\b\b\b\b\b\b\b\b\b\b\b\b\b\b\b\b\b\b\b\b\b\b\b\b\r\u001b[1m120/120\u001b[0m \u001b[32m━━━━━━━━━━━━━━━━━━━━\u001b[0m\u001b[37m\u001b[0m \u001b[1m3s\u001b[0m 27ms/step - accuracy: 0.5975 - loss: 0.6732 - precision_1: 0.6361 - recall_1: 0.4391 - val_accuracy: 0.6125 - val_loss: 0.6651 - val_precision_1: 0.5831 - val_recall_1: 0.7896\n",
            "Epoch 4/30\n",
            "\u001b[1m120/120\u001b[0m \u001b[32m━━━━━━━━━━━━━━━━━━━━\u001b[0m\u001b[37m\u001b[0m \u001b[1m0s\u001b[0m 25ms/step - accuracy: 0.7253 - loss: 0.5537 - precision_1: 0.7277 - recall_1: 0.7306\n",
            "Epoch 4: val_loss did not improve from 0.66505\n",
            "\u001b[1m120/120\u001b[0m \u001b[32m━━━━━━━━━━━━━━━━━━━━\u001b[0m\u001b[37m\u001b[0m \u001b[1m4s\u001b[0m 29ms/step - accuracy: 0.7253 - loss: 0.5537 - precision_1: 0.7278 - recall_1: 0.7305 - val_accuracy: 0.6198 - val_loss: 0.6706 - val_precision_1: 0.6340 - val_recall_1: 0.5667\n",
            "Epoch 5/30\n",
            "\u001b[1m118/120\u001b[0m \u001b[32m━━━━━━━━━━━━━━━━━━━\u001b[0m\u001b[37m━\u001b[0m \u001b[1m0s\u001b[0m 24ms/step - accuracy: 0.8173 - loss: 0.4025 - precision_1: 0.8384 - recall_1: 0.7920\n",
            "Epoch 5: val_loss did not improve from 0.66505\n",
            "\u001b[1m120/120\u001b[0m \u001b[32m━━━━━━━━━━━━━━━━━━━━\u001b[0m\u001b[37m\u001b[0m \u001b[1m5s\u001b[0m 27ms/step - accuracy: 0.8170 - loss: 0.4030 - precision_1: 0.8379 - recall_1: 0.7918 - val_accuracy: 0.6375 - val_loss: 0.6992 - val_precision_1: 0.6422 - val_recall_1: 0.6208\n",
            "Epoch 6/30\n",
            "\u001b[1m120/120\u001b[0m \u001b[32m━━━━━━━━━━━━━━━━━━━━\u001b[0m\u001b[37m\u001b[0m \u001b[1m0s\u001b[0m 24ms/step - accuracy: 0.8827 - loss: 0.2949 - precision_1: 0.8900 - recall_1: 0.8754\n",
            "Epoch 6: val_loss did not improve from 0.66505\n",
            "\u001b[1m120/120\u001b[0m \u001b[32m━━━━━━━━━━━━━━━━━━━━\u001b[0m\u001b[37m\u001b[0m \u001b[1m3s\u001b[0m 27ms/step - accuracy: 0.8826 - loss: 0.2951 - precision_1: 0.8899 - recall_1: 0.8753 - val_accuracy: 0.6375 - val_loss: 0.8546 - val_precision_1: 0.6347 - val_recall_1: 0.6479\n",
            "Epoch 7/30\n",
            "\u001b[1m119/120\u001b[0m \u001b[32m━━━━━━━━━━━━━━━━━━━\u001b[0m\u001b[37m━\u001b[0m \u001b[1m0s\u001b[0m 29ms/step - accuracy: 0.9014 - loss: 0.2250 - precision_1: 0.9021 - recall_1: 0.9008\n",
            "Epoch 7: val_loss did not improve from 0.66505\n",
            "\u001b[1m120/120\u001b[0m \u001b[32m━━━━━━━━━━━━━━━━━━━━\u001b[0m\u001b[37m\u001b[0m \u001b[1m6s\u001b[0m 32ms/step - accuracy: 0.9013 - loss: 0.2253 - precision_1: 0.9020 - recall_1: 0.9008 - val_accuracy: 0.6313 - val_loss: 1.0120 - val_precision_1: 0.6388 - val_recall_1: 0.6042\n",
            "Epoch 8/30\n",
            "\u001b[1m119/120\u001b[0m \u001b[32m━━━━━━━━━━━━━━━━━━━\u001b[0m\u001b[37m━\u001b[0m \u001b[1m0s\u001b[0m 23ms/step - accuracy: 0.9300 - loss: 0.1766 - precision_1: 0.9273 - recall_1: 0.9357\n",
            "Epoch 8: val_loss did not improve from 0.66505\n",
            "\u001b[1m120/120\u001b[0m \u001b[32m━━━━━━━━━━━━━━━━━━━━\u001b[0m\u001b[37m\u001b[0m \u001b[1m3s\u001b[0m 26ms/step - accuracy: 0.9299 - loss: 0.1767 - precision_1: 0.9271 - recall_1: 0.9357 - val_accuracy: 0.6375 - val_loss: 1.2462 - val_precision_1: 0.6701 - val_recall_1: 0.5417\n",
            "Epoch 9/30\n",
            "\u001b[1m120/120\u001b[0m \u001b[32m━━━━━━━━━━━━━━━━━━━━\u001b[0m\u001b[37m\u001b[0m \u001b[1m0s\u001b[0m 23ms/step - accuracy: 0.9476 - loss: 0.1331 - precision_1: 0.9388 - recall_1: 0.9564\n",
            "Epoch 9: val_loss did not improve from 0.66505\n",
            "\u001b[1m120/120\u001b[0m \u001b[32m━━━━━━━━━━━━━━━━━━━━\u001b[0m\u001b[37m\u001b[0m \u001b[1m3s\u001b[0m 26ms/step - accuracy: 0.9476 - loss: 0.1331 - precision_1: 0.9388 - recall_1: 0.9564 - val_accuracy: 0.6365 - val_loss: 1.4284 - val_precision_1: 0.6520 - val_recall_1: 0.5854\n",
            "Epoch 10/30\n",
            "\u001b[1m118/120\u001b[0m \u001b[32m━━━━━━━━━━━━━━━━━━━\u001b[0m\u001b[37m━\u001b[0m \u001b[1m0s\u001b[0m 34ms/step - accuracy: 0.9532 - loss: 0.1136 - precision_1: 0.9467 - recall_1: 0.9631\n",
            "Epoch 10: val_loss did not improve from 0.66505\n",
            "\u001b[1m120/120\u001b[0m \u001b[32m━━━━━━━━━━━━━━━━━━━━\u001b[0m\u001b[37m\u001b[0m \u001b[1m6s\u001b[0m 37ms/step - accuracy: 0.9530 - loss: 0.1136 - precision_1: 0.9464 - recall_1: 0.9630 - val_accuracy: 0.6667 - val_loss: 1.4918 - val_precision_1: 0.6493 - val_recall_1: 0.7250\n",
            "Epoch 11/30\n",
            "\u001b[1m120/120\u001b[0m \u001b[32m━━━━━━━━━━━━━━━━━━━━\u001b[0m\u001b[37m\u001b[0m \u001b[1m0s\u001b[0m 24ms/step - accuracy: 0.9589 - loss: 0.0956 - precision_1: 0.9456 - recall_1: 0.9739\n",
            "Epoch 11: val_loss did not improve from 0.66505\n",
            "\u001b[1m120/120\u001b[0m \u001b[32m━━━━━━━━━━━━━━━━━━━━\u001b[0m\u001b[37m\u001b[0m \u001b[1m4s\u001b[0m 27ms/step - accuracy: 0.9588 - loss: 0.0957 - precision_1: 0.9456 - recall_1: 0.9738 - val_accuracy: 0.6635 - val_loss: 1.6084 - val_precision_1: 0.6639 - val_recall_1: 0.6625\n",
            "Epoch 12/30\n",
            "\u001b[1m120/120\u001b[0m \u001b[32m━━━━━━━━━━━━━━━━━━━━\u001b[0m\u001b[37m\u001b[0m \u001b[1m0s\u001b[0m 25ms/step - accuracy: 0.9638 - loss: 0.0885 - precision_1: 0.9589 - recall_1: 0.9664\n",
            "Epoch 12: val_loss did not improve from 0.66505\n",
            "\u001b[1m120/120\u001b[0m \u001b[32m━━━━━━━━━━━━━━━━━━━━\u001b[0m\u001b[37m\u001b[0m \u001b[1m6s\u001b[0m 31ms/step - accuracy: 0.9639 - loss: 0.0885 - precision_1: 0.9589 - recall_1: 0.9665 - val_accuracy: 0.6583 - val_loss: 1.7104 - val_precision_1: 0.6603 - val_recall_1: 0.6521\n",
            "Epoch 13/30\n",
            "\u001b[1m119/120\u001b[0m \u001b[32m━━━━━━━━━━━━━━━━━━━\u001b[0m\u001b[37m━\u001b[0m \u001b[1m0s\u001b[0m 26ms/step - accuracy: 0.9707 - loss: 0.0791 - precision_1: 0.9620 - recall_1: 0.9795\n",
            "Epoch 13: val_loss did not improve from 0.66505\n",
            "\u001b[1m120/120\u001b[0m \u001b[32m━━━━━━━━━━━━━━━━━━━━\u001b[0m\u001b[37m\u001b[0m \u001b[1m3s\u001b[0m 28ms/step - accuracy: 0.9707 - loss: 0.0791 - precision_1: 0.9620 - recall_1: 0.9795 - val_accuracy: 0.6490 - val_loss: 2.1140 - val_precision_1: 0.6357 - val_recall_1: 0.6979\n"
          ]
        }
      ],
      "source": [
        "'''\n",
        "Monitors the training loss of the model and terminates the training process\n",
        "if the loss doesn't improve for 10 consecutive epochs.\n",
        "'''\n",
        "early_stopping_callback = tf.keras.callbacks.EarlyStopping(monitor='val_loss',\n",
        "                                                           patience=10,\n",
        "                                                           restore_best_weights=True)\n",
        "\n",
        "\"\"\"\n",
        "Saves the best model (best_model.h5) in workign directory.\n",
        "Ensures the model is only saved if the monitored metric (`val_loss`) improves.\n",
        "Since we want to minimize the validation loss, we set this to `min`.\n",
        "\"\"\"\n",
        "checkpoint_callback = tf.keras.callbacks.ModelCheckpoint(\n",
        "    'best_model.h5',\n",
        "    monitor='val_loss',\n",
        "    save_best_only=True,\n",
        "    mode='min',\n",
        "    verbose=1\n",
        ")\n",
        "\n",
        "# Small Training session, we'll adjust epochs later\n",
        "history = model.fit(\n",
        "    x_train, y_train,\n",
        "    epochs=30,\n",
        "    batch_size=32,\n",
        "    validation_data=(x_test, y_test),\n",
        "    callbacks=[early_stopping_callback, checkpoint_callback]\n",
        ")\n"
      ]
    },
    {
      "cell_type": "code",
      "source": [
        "# Predict on validation/test data\n",
        "y_pred_probs = model.predict(x_test)\n",
        "\n",
        "# Converts probabilities to 0 or 1\n",
        "y_pred = (y_pred_probs > 0.5).astype(\"int32\")\n",
        "\n",
        "print(\"F1 Score:\", f1_score(y_test, y_pred))"
      ],
      "metadata": {
        "colab": {
          "base_uri": "https://localhost:8080/"
        },
        "id": "1OOyqydospOW",
        "outputId": "3145229d-6ede-4ef8-d49b-e94aabb1f0e1"
      },
      "execution_count": 41,
      "outputs": [
        {
          "output_type": "stream",
          "name": "stdout",
          "text": [
            "\u001b[1m30/30\u001b[0m \u001b[32m━━━━━━━━━━━━━━━━━━━━\u001b[0m\u001b[37m\u001b[0m \u001b[1m0s\u001b[0m 11ms/step\n",
            "F1 Score: 0.6707964601769911\n"
          ]
        }
      ]
    },
    {
      "cell_type": "markdown",
      "metadata": {
        "id": "bxlDqLwV0qJm"
      },
      "source": [
        "### Architecture Visualization"
      ]
    },
    {
      "cell_type": "code",
      "execution_count": null,
      "metadata": {
        "colab": {
          "base_uri": "https://localhost:8080/",
          "height": 1000
        },
        "id": "EeXcfsbF0sen",
        "outputId": "61c6ff50-ec39-4fd9-ee54-bb63126d40a0"
      },
      "outputs": [
        {
          "output_type": "execute_result",
          "data": {
            "image/png": "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\n",
            "text/plain": [
              "<IPython.core.display.Image object>"
            ]
          },
          "metadata": {},
          "execution_count": 39
        }
      ],
      "source": [
        "tf.keras.utils.plot_model(model,show_shapes=True, show_layer_names=True)"
      ]
    },
    {
      "cell_type": "markdown",
      "metadata": {
        "id": "MhqK04o48Qfz"
      },
      "source": [
        "### Initial Evaluation"
      ]
    },
    {
      "cell_type": "code",
      "execution_count": null,
      "metadata": {
        "colab": {
          "base_uri": "https://localhost:8080/",
          "height": 564
        },
        "id": "Dj1ztGJi8UtD",
        "outputId": "f260884c-b7bd-414b-80fa-1f4bfbc43ca2"
      },
      "outputs": [
        {
          "output_type": "display_data",
          "data": {
            "text/plain": [
              "<Figure size 1000x600 with 1 Axes>"
            ],
            "image/png": "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\n"
          },
          "metadata": {}
        }
      ],
      "source": [
        "# Loss Plots\n",
        "plt.figure(figsize=(10, 6))\n",
        "plt.plot(history.history['loss'], label = 'Training Loss')\n",
        "plt.plot(history.history['val_loss'], label = 'Validation Loss')\n",
        "plt.title('Model Loss')\n",
        "plt.xlabel('Epochs')\n",
        "plt.ylabel('Loss')\n",
        "plt.legend()\n",
        "plt.show()"
      ]
    },
    {
      "cell_type": "code",
      "execution_count": null,
      "metadata": {
        "colab": {
          "base_uri": "https://localhost:8080/",
          "height": 564
        },
        "id": "Vuy4ApbE8WWP",
        "outputId": "11b233b7-4f53-48de-8324-84843996439f"
      },
      "outputs": [
        {
          "output_type": "display_data",
          "data": {
            "text/plain": [
              "<Figure size 1000x600 with 1 Axes>"
            ],
            "image/png": "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\n"
          },
          "metadata": {}
        }
      ],
      "source": [
        "# Accuracy Plots\n",
        "plt.figure(figsize=(10, 6))\n",
        "plt.plot(history.history['accuracy'], label='Training Accuracy')\n",
        "plt.plot(history.history['val_accuracy'], label='Validation Accuracy')\n",
        "plt.title('Model Accuracy')\n",
        "plt.xlabel('Epochs')\n",
        "plt.ylabel('Accuracy')\n",
        "plt.legend()\n",
        "plt.show()"
      ]
    },
    {
      "cell_type": "markdown",
      "metadata": {
        "id": "Dgxfa29Z8sTM"
      },
      "source": [
        "## Hyperparameter Tuning"
      ]
    },
    {
      "cell_type": "code",
      "execution_count": null,
      "metadata": {
        "colab": {
          "base_uri": "https://localhost:8080/",
          "height": 584
        },
        "id": "5wr0uMj88vAs",
        "outputId": "b82787d9-9888-4f61-b79a-1b75097ddafb"
      },
      "outputs": [
        {
          "output_type": "stream",
          "name": "stdout",
          "text": [
            "Trial 10 Complete [00h 02m 17s]\n",
            "val_accuracy: 0.6461805502573649\n",
            "\n",
            "Best val_accuracy So Far: 0.6500000158945719\n",
            "Total elapsed time: 00h 23m 05s\n"
          ]
        },
        {
          "output_type": "stream",
          "name": "stderr",
          "text": [
            "/usr/local/lib/python3.11/dist-packages/keras/src/saving/saving_lib.py:757: UserWarning: Skipping variable loading for optimizer 'adam', because it has 2 variables whereas the saved optimizer has 36 variables. \n",
            "  saveable.load_own_variables(weights_store.get(inner_path))\n"
          ]
        },
        {
          "output_type": "display_data",
          "data": {
            "text/plain": [
              "\u001b[1mModel: \"sequential\"\u001b[0m\n"
            ],
            "text/html": [
              "<pre style=\"white-space:pre;overflow-x:auto;line-height:normal;font-family:Menlo,'DejaVu Sans Mono',consolas,'Courier New',monospace\"><span style=\"font-weight: bold\">Model: \"sequential\"</span>\n",
              "</pre>\n"
            ]
          },
          "metadata": {}
        },
        {
          "output_type": "display_data",
          "data": {
            "text/plain": [
              "┏━━━━━━━━━━━━━━━━━━━━━━━━━━━━━━━━━━━━━━┳━━━━━━━━━━━━━━━━━━━━━━━━━━━━━┳━━━━━━━━━━━━━━━━━┓\n",
              "┃\u001b[1m \u001b[0m\u001b[1mLayer (type)                        \u001b[0m\u001b[1m \u001b[0m┃\u001b[1m \u001b[0m\u001b[1mOutput Shape               \u001b[0m\u001b[1m \u001b[0m┃\u001b[1m \u001b[0m\u001b[1m        Param #\u001b[0m\u001b[1m \u001b[0m┃\n",
              "┡━━━━━━━━━━━━━━━━━━━━━━━━━━━━━━━━━━━━━━╇━━━━━━━━━━━━━━━━━━━━━━━━━━━━━╇━━━━━━━━━━━━━━━━━┩\n",
              "│ embedding (\u001b[38;5;33mEmbedding\u001b[0m)                │ (\u001b[38;5;34m32\u001b[0m, \u001b[38;5;34m130\u001b[0m, \u001b[38;5;34m112\u001b[0m)              │         \u001b[38;5;34m593,152\u001b[0m │\n",
              "├──────────────────────────────────────┼─────────────────────────────┼─────────────────┤\n",
              "│ bidirectional (\u001b[38;5;33mBidirectional\u001b[0m)        │ (\u001b[38;5;34m32\u001b[0m, \u001b[38;5;34m130\u001b[0m, \u001b[38;5;34m96\u001b[0m)               │          \u001b[38;5;34m61,824\u001b[0m │\n",
              "├──────────────────────────────────────┼─────────────────────────────┼─────────────────┤\n",
              "│ dropout (\u001b[38;5;33mDropout\u001b[0m)                    │ (\u001b[38;5;34m32\u001b[0m, \u001b[38;5;34m130\u001b[0m, \u001b[38;5;34m96\u001b[0m)               │               \u001b[38;5;34m0\u001b[0m │\n",
              "├──────────────────────────────────────┼─────────────────────────────┼─────────────────┤\n",
              "│ bidirectional_1 (\u001b[38;5;33mBidirectional\u001b[0m)      │ (\u001b[38;5;34m32\u001b[0m, \u001b[38;5;34m130\u001b[0m, \u001b[38;5;34m48\u001b[0m)               │          \u001b[38;5;34m23,232\u001b[0m │\n",
              "├──────────────────────────────────────┼─────────────────────────────┼─────────────────┤\n",
              "│ global_max_pooling1d                 │ (\u001b[38;5;34m32\u001b[0m, \u001b[38;5;34m48\u001b[0m)                    │               \u001b[38;5;34m0\u001b[0m │\n",
              "│ (\u001b[38;5;33mGlobalMaxPooling1D\u001b[0m)                 │                             │                 │\n",
              "├──────────────────────────────────────┼─────────────────────────────┼─────────────────┤\n",
              "│ dense (\u001b[38;5;33mDense\u001b[0m)                        │ (\u001b[38;5;34m32\u001b[0m, \u001b[38;5;34m256\u001b[0m)                   │          \u001b[38;5;34m12,544\u001b[0m │\n",
              "├──────────────────────────────────────┼─────────────────────────────┼─────────────────┤\n",
              "│ dropout_1 (\u001b[38;5;33mDropout\u001b[0m)                  │ (\u001b[38;5;34m32\u001b[0m, \u001b[38;5;34m256\u001b[0m)                   │               \u001b[38;5;34m0\u001b[0m │\n",
              "├──────────────────────────────────────┼─────────────────────────────┼─────────────────┤\n",
              "│ dense_1 (\u001b[38;5;33mDense\u001b[0m)                      │ (\u001b[38;5;34m32\u001b[0m, \u001b[38;5;34m1\u001b[0m)                     │             \u001b[38;5;34m257\u001b[0m │\n",
              "└──────────────────────────────────────┴─────────────────────────────┴─────────────────┘\n"
            ],
            "text/html": [
              "<pre style=\"white-space:pre;overflow-x:auto;line-height:normal;font-family:Menlo,'DejaVu Sans Mono',consolas,'Courier New',monospace\">┏━━━━━━━━━━━━━━━━━━━━━━━━━━━━━━━━━━━━━━┳━━━━━━━━━━━━━━━━━━━━━━━━━━━━━┳━━━━━━━━━━━━━━━━━┓\n",
              "┃<span style=\"font-weight: bold\"> Layer (type)                         </span>┃<span style=\"font-weight: bold\"> Output Shape                </span>┃<span style=\"font-weight: bold\">         Param # </span>┃\n",
              "┡━━━━━━━━━━━━━━━━━━━━━━━━━━━━━━━━━━━━━━╇━━━━━━━━━━━━━━━━━━━━━━━━━━━━━╇━━━━━━━━━━━━━━━━━┩\n",
              "│ embedding (<span style=\"color: #0087ff; text-decoration-color: #0087ff\">Embedding</span>)                │ (<span style=\"color: #00af00; text-decoration-color: #00af00\">32</span>, <span style=\"color: #00af00; text-decoration-color: #00af00\">130</span>, <span style=\"color: #00af00; text-decoration-color: #00af00\">112</span>)              │         <span style=\"color: #00af00; text-decoration-color: #00af00\">593,152</span> │\n",
              "├──────────────────────────────────────┼─────────────────────────────┼─────────────────┤\n",
              "│ bidirectional (<span style=\"color: #0087ff; text-decoration-color: #0087ff\">Bidirectional</span>)        │ (<span style=\"color: #00af00; text-decoration-color: #00af00\">32</span>, <span style=\"color: #00af00; text-decoration-color: #00af00\">130</span>, <span style=\"color: #00af00; text-decoration-color: #00af00\">96</span>)               │          <span style=\"color: #00af00; text-decoration-color: #00af00\">61,824</span> │\n",
              "├──────────────────────────────────────┼─────────────────────────────┼─────────────────┤\n",
              "│ dropout (<span style=\"color: #0087ff; text-decoration-color: #0087ff\">Dropout</span>)                    │ (<span style=\"color: #00af00; text-decoration-color: #00af00\">32</span>, <span style=\"color: #00af00; text-decoration-color: #00af00\">130</span>, <span style=\"color: #00af00; text-decoration-color: #00af00\">96</span>)               │               <span style=\"color: #00af00; text-decoration-color: #00af00\">0</span> │\n",
              "├──────────────────────────────────────┼─────────────────────────────┼─────────────────┤\n",
              "│ bidirectional_1 (<span style=\"color: #0087ff; text-decoration-color: #0087ff\">Bidirectional</span>)      │ (<span style=\"color: #00af00; text-decoration-color: #00af00\">32</span>, <span style=\"color: #00af00; text-decoration-color: #00af00\">130</span>, <span style=\"color: #00af00; text-decoration-color: #00af00\">48</span>)               │          <span style=\"color: #00af00; text-decoration-color: #00af00\">23,232</span> │\n",
              "├──────────────────────────────────────┼─────────────────────────────┼─────────────────┤\n",
              "│ global_max_pooling1d                 │ (<span style=\"color: #00af00; text-decoration-color: #00af00\">32</span>, <span style=\"color: #00af00; text-decoration-color: #00af00\">48</span>)                    │               <span style=\"color: #00af00; text-decoration-color: #00af00\">0</span> │\n",
              "│ (<span style=\"color: #0087ff; text-decoration-color: #0087ff\">GlobalMaxPooling1D</span>)                 │                             │                 │\n",
              "├──────────────────────────────────────┼─────────────────────────────┼─────────────────┤\n",
              "│ dense (<span style=\"color: #0087ff; text-decoration-color: #0087ff\">Dense</span>)                        │ (<span style=\"color: #00af00; text-decoration-color: #00af00\">32</span>, <span style=\"color: #00af00; text-decoration-color: #00af00\">256</span>)                   │          <span style=\"color: #00af00; text-decoration-color: #00af00\">12,544</span> │\n",
              "├──────────────────────────────────────┼─────────────────────────────┼─────────────────┤\n",
              "│ dropout_1 (<span style=\"color: #0087ff; text-decoration-color: #0087ff\">Dropout</span>)                  │ (<span style=\"color: #00af00; text-decoration-color: #00af00\">32</span>, <span style=\"color: #00af00; text-decoration-color: #00af00\">256</span>)                   │               <span style=\"color: #00af00; text-decoration-color: #00af00\">0</span> │\n",
              "├──────────────────────────────────────┼─────────────────────────────┼─────────────────┤\n",
              "│ dense_1 (<span style=\"color: #0087ff; text-decoration-color: #0087ff\">Dense</span>)                      │ (<span style=\"color: #00af00; text-decoration-color: #00af00\">32</span>, <span style=\"color: #00af00; text-decoration-color: #00af00\">1</span>)                     │             <span style=\"color: #00af00; text-decoration-color: #00af00\">257</span> │\n",
              "└──────────────────────────────────────┴─────────────────────────────┴─────────────────┘\n",
              "</pre>\n"
            ]
          },
          "metadata": {}
        },
        {
          "output_type": "display_data",
          "data": {
            "text/plain": [
              "\u001b[1m Total params: \u001b[0m\u001b[38;5;34m691,009\u001b[0m (2.64 MB)\n"
            ],
            "text/html": [
              "<pre style=\"white-space:pre;overflow-x:auto;line-height:normal;font-family:Menlo,'DejaVu Sans Mono',consolas,'Courier New',monospace\"><span style=\"font-weight: bold\"> Total params: </span><span style=\"color: #00af00; text-decoration-color: #00af00\">691,009</span> (2.64 MB)\n",
              "</pre>\n"
            ]
          },
          "metadata": {}
        },
        {
          "output_type": "display_data",
          "data": {
            "text/plain": [
              "\u001b[1m Trainable params: \u001b[0m\u001b[38;5;34m691,009\u001b[0m (2.64 MB)\n"
            ],
            "text/html": [
              "<pre style=\"white-space:pre;overflow-x:auto;line-height:normal;font-family:Menlo,'DejaVu Sans Mono',consolas,'Courier New',monospace\"><span style=\"font-weight: bold\"> Trainable params: </span><span style=\"color: #00af00; text-decoration-color: #00af00\">691,009</span> (2.64 MB)\n",
              "</pre>\n"
            ]
          },
          "metadata": {}
        },
        {
          "output_type": "display_data",
          "data": {
            "text/plain": [
              "\u001b[1m Non-trainable params: \u001b[0m\u001b[38;5;34m0\u001b[0m (0.00 B)\n"
            ],
            "text/html": [
              "<pre style=\"white-space:pre;overflow-x:auto;line-height:normal;font-family:Menlo,'DejaVu Sans Mono',consolas,'Courier New',monospace\"><span style=\"font-weight: bold\"> Non-trainable params: </span><span style=\"color: #00af00; text-decoration-color: #00af00\">0</span> (0.00 B)\n",
              "</pre>\n"
            ]
          },
          "metadata": {}
        },
        {
          "output_type": "stream",
          "name": "stderr",
          "text": [
            "WARNING:absl:You are saving your model as an HDF5 file via `model.save()` or `keras.saving.save_model(model)`. This file format is considered legacy. We recommend using instead the native Keras format, e.g. `model.save('my_model.keras')` or `keras.saving.save_model(model, 'my_model.keras')`. \n"
          ]
        }
      ],
      "source": [
        "# HyperModel class for defining the model\n",
        "class TextClassificationHyperModel(HyperModel):\n",
        "    def build(self, hp):\n",
        "        # Hyperparameters to tune\n",
        "        embedding_dim = hp.Int('embedding_dim', min_value=32, max_value=128, step=16)\n",
        "        lstm_units = hp.Int('lstm_units', min_value=16, max_value=128, step=16)\n",
        "        dropout_rate = hp.Float('dropout_rate', min_value=0.2, max_value=0.6, step=0.1)\n",
        "        dense_units = hp.Int('dense_units', min_value=64, max_value=256, step=64)\n",
        "\n",
        "        # Define the model\n",
        "        model = Sequential([\n",
        "            Embedding(input_dim=max_words, output_dim=embedding_dim, input_length=max_length),\n",
        "            Bidirectional(LSTM(lstm_units, return_sequences=True)),\n",
        "            Dropout(dropout_rate),\n",
        "            Bidirectional(LSTM(lstm_units // 2, return_sequences=True)),\n",
        "            GlobalMaxPooling1D(),\n",
        "            Dense(dense_units, activation='relu'),\n",
        "            Dropout(dropout_rate),\n",
        "            Dense(1, activation='sigmoid')\n",
        "        ])\n",
        "\n",
        "        # Compile the model\n",
        "        model.compile(\n",
        "            loss='binary_crossentropy',\n",
        "            optimizer=Adam(),\n",
        "            metrics=['accuracy',Precision(), Recall()]\n",
        "        )\n",
        "\n",
        "        return model\n",
        "\n",
        "# Define hyperparameter tuner\n",
        "tuner = RandomSearch(\n",
        "    TextClassificationHyperModel(),\n",
        "    objective='val_accuracy',\n",
        "    max_trials=10,  # Number of models to try\n",
        "    executions_per_trial=3,  # How many times to train each model\n",
        "    directory='tuning_results',\n",
        "    project_name='binary_classification_tuning'\n",
        ")\n",
        "\n",
        "\n",
        "# Fit the tuner to the data\n",
        "tuner.search(x_train, y_train, epochs=10, validation_data=(x_test, y_test))\n",
        "\n",
        "# Get the best model\n",
        "best_model = tuner.get_best_models(num_models=1)[0]\n",
        "\n",
        "# Summarize the best model\n",
        "best_model.summary()\n",
        "\n",
        "# Save the best model\n",
        "best_model.save('best_binary_model_after_tuning.h5')"
      ]
    },
    {
      "cell_type": "markdown",
      "metadata": {
        "id": "eTVVa8CE-2fD"
      },
      "source": [
        "## XAi (SHAP)"
      ]
    },
    {
      "cell_type": "markdown",
      "source": [
        "### Splitting Inputs"
      ],
      "metadata": {
        "id": "sy0DbgiRVTEi"
      }
    },
    {
      "cell_type": "code",
      "source": [
        "# Extract the tokenized text sequences\n",
        "x_train_text = x_train[:, :max_length]  # First `max_length` columns are text\n",
        "\n",
        "# Extract the numerical feature(s)\n",
        "x_train_num = x_train[:, max_length:]  # Remaining columns are numerical features\n",
        "\n",
        "# Do the same for the test set\n",
        "x_test_text = x_test[:, :max_length]\n",
        "x_test_num = x_test[:, max_length:]"
      ],
      "metadata": {
        "id": "4P-MEitPVP-K"
      },
      "execution_count": null,
      "outputs": []
    },
    {
      "cell_type": "code",
      "source": [
        "x_test_text"
      ],
      "metadata": {
        "colab": {
          "base_uri": "https://localhost:8080/"
        },
        "id": "838LG8lVVWTS",
        "outputId": "c52c54ca-9b85-46ea-8c65-9ee77e5f3196"
      },
      "execution_count": null,
      "outputs": [
        {
          "output_type": "execute_result",
          "data": {
            "text/plain": [
              "array([[   7,   58, 1325, ...,    0,    0,    0],\n",
              "       [   7,  289,   13, ...,    0,    0,    0],\n",
              "       [   7,  117,    7, ...,    0,    0,    0],\n",
              "       ...,\n",
              "       [   7,   74,    8, ...,    0,    0,    0],\n",
              "       [   7,  117,    7, ...,    0,    0,    0],\n",
              "       [   7,  308,   17, ...,    0,    0,    0]])"
            ]
          },
          "metadata": {},
          "execution_count": 44
        }
      ]
    },
    {
      "cell_type": "code",
      "source": [
        "# Choose a small subset as background data\n",
        "background_data = x_train[:10]  # Keep as a single concatenated input\n",
        "sample_data = x_test[:10]\n",
        "\n",
        "explainer = shap.KernelExplainer(model.predict, background_data)\n",
        "shap_values = explainer.shap_values(sample_data)\n",
        "\n",
        "# Plot results\n",
        "shap.summary_plot(shap_values, sample_data)"
      ],
      "metadata": {
        "colab": {
          "base_uri": "https://localhost:8080/",
          "height": 1000,
        },
        "id": "PTA6UrlTVdiC",
        "outputId": "dd52f2e4-9d6c-4426-bc25-ce9a59d563ab"
      },
      "execution_count": null,
      "outputs": [
        {
          "output_type": "stream",
          "name": "stdout",
          "text": [
            "\u001b[1m1/1\u001b[0m \u001b[32m━━━━━━━━━━━━━━━━━━━━\u001b[0m\u001b[37m\u001b[0m \u001b[1m0s\u001b[0m 59ms/step\n"
          ]
        },
        {
          "output_type": "display_data",
          "data": {
            "text/plain": [
              "  0%|          | 0/10 [00:00<?, ?it/s]"
            ],
            "application/vnd.jupyter.widget-view+json": {
              "version_major": 2,
              "version_minor": 0,
              "model_id": "8c8548c208414a19b48059500dee4d5d"
            }
          },
          "metadata": {}
        },
        {
          "output_type": "stream",
          "name": "stdout",
          "text": [
            "\u001b[1m1/1\u001b[0m \u001b[32m━━━━━━━━━━━━━━━━━━━━\u001b[0m\u001b[37m\u001b[0m \u001b[1m0s\u001b[0m 56ms/step\n",
            "\u001b[1m721/721\u001b[0m \u001b[32m━━━━━━━━━━━━━━━━━━━━\u001b[0m\u001b[37m\u001b[0m \u001b[1m6s\u001b[0m 9ms/step\n",
            "\u001b[1m1/1\u001b[0m \u001b[32m━━━━━━━━━━━━━━━━━━━━\u001b[0m\u001b[37m\u001b[0m \u001b[1m0s\u001b[0m 47ms/step\n",
            "\u001b[1m721/721\u001b[0m \u001b[32m━━━━━━━━━━━━━━━━━━━━\u001b[0m\u001b[37m\u001b[0m \u001b[1m7s\u001b[0m 9ms/step\n",
            "\u001b[1m1/1\u001b[0m \u001b[32m━━━━━━━━━━━━━━━━━━━━\u001b[0m\u001b[37m\u001b[0m \u001b[1m0s\u001b[0m 48ms/step\n",
            "\u001b[1m721/721\u001b[0m \u001b[32m━━━━━━━━━━━━━━━━━━━━\u001b[0m\u001b[37m\u001b[0m \u001b[1m7s\u001b[0m 9ms/step\n",
            "\u001b[1m1/1\u001b[0m \u001b[32m━━━━━━━━━━━━━━━━━━━━\u001b[0m\u001b[37m\u001b[0m \u001b[1m0s\u001b[0m 47ms/step\n",
            "\u001b[1m721/721\u001b[0m \u001b[32m━━━━━━━━━━━━━━━━━━━━\u001b[0m\u001b[37m\u001b[0m \u001b[1m6s\u001b[0m 8ms/step\n",
            "\u001b[1m1/1\u001b[0m \u001b[32m━━━━━━━━━━━━━━━━━━━━\u001b[0m\u001b[37m\u001b[0m \u001b[1m0s\u001b[0m 47ms/step\n",
            "\u001b[1m721/721\u001b[0m \u001b[32m━━━━━━━━━━━━━━━━━━━━\u001b[0m\u001b[37m\u001b[0m \u001b[1m7s\u001b[0m 9ms/step\n",
            "\u001b[1m1/1\u001b[0m \u001b[32m━━━━━━━━━━━━━━━━━━━━\u001b[0m\u001b[37m\u001b[0m \u001b[1m0s\u001b[0m 62ms/step\n",
            "\u001b[1m721/721\u001b[0m \u001b[32m━━━━━━━━━━━━━━━━━━━━\u001b[0m\u001b[37m\u001b[0m \u001b[1m6s\u001b[0m 9ms/step\n",
            "\u001b[1m1/1\u001b[0m \u001b[32m━━━━━━━━━━━━━━━━━━━━\u001b[0m\u001b[37m\u001b[0m \u001b[1m0s\u001b[0m 49ms/step\n",
            "\u001b[1m721/721\u001b[0m \u001b[32m━━━━━━━━━━━━━━━━━━━━\u001b[0m\u001b[37m\u001b[0m \u001b[1m6s\u001b[0m 8ms/step\n",
            "\u001b[1m1/1\u001b[0m \u001b[32m━━━━━━━━━━━━━━━━━━━━\u001b[0m\u001b[37m\u001b[0m \u001b[1m0s\u001b[0m 54ms/step\n",
            "\u001b[1m721/721\u001b[0m \u001b[32m━━━━━━━━━━━━━━━━━━━━\u001b[0m\u001b[37m\u001b[0m \u001b[1m7s\u001b[0m 9ms/step\n",
            "\u001b[1m1/1\u001b[0m \u001b[32m━━━━━━━━━━━━━━━━━━━━\u001b[0m\u001b[37m\u001b[0m \u001b[1m0s\u001b[0m 53ms/step\n",
            "\u001b[1m721/721\u001b[0m \u001b[32m━━━━━━━━━━━━━━━━━━━━\u001b[0m\u001b[37m\u001b[0m \u001b[1m7s\u001b[0m 9ms/step\n",
            "\u001b[1m1/1\u001b[0m \u001b[32m━━━━━━━━━━━━━━━━━━━━\u001b[0m\u001b[37m\u001b[0m \u001b[1m0s\u001b[0m 47ms/step\n",
            "\u001b[1m721/721\u001b[0m \u001b[32m━━━━━━━━━━━━━━━━━━━━\u001b[0m\u001b[37m\u001b[0m \u001b[1m6s\u001b[0m 8ms/step\n"
          ]
        },
        {
          "output_type": "display_data",
          "data": {
            "text/plain": [
              "<Figure size 640x480 with 0 Axes>"
            ]
          },
          "metadata": {}
        },
        {
          "output_type": "display_data",
          "data": {
            "text/plain": [
              "<Figure size 1150x660 with 1 Axes>"
            ],
            "image/png": "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\n"
          },
          "metadata": {}
        }
      ]
    }
  ],
  "metadata": {
    "accelerator": "GPU",
    "colab": {
      "gpuType": "T4",
      "provenance": []
    },
    "kernelspec": {
      "display_name": "Python 3",
      "name": "python3"
    },
    "language_info": {
      "name": "python"
    },
        "ca37339861794b6bbc203afc2c0c8acc": {
          "model_module": "@jupyter-widgets/controls",
          "model_name": "HTMLModel",
          "model_module_version": "1.5.0",
          "state": {
            "_dom_classes": [],
            "_model_module": "@jupyter-widgets/controls",
            "_model_module_version": "1.5.0",
            "_model_name": "HTMLModel",
            "_view_count": null,
            "_view_module": "@jupyter-widgets/controls",
            "_view_module_version": "1.5.0",
            "_view_name": "HTMLView",
            "description": "",
            "description_tooltip": null,
            "layout": "IPY_MODEL_101705d6d0434f19ad619c4d2f56e95e",
            "placeholder": "​",
            "style": "IPY_MODEL_9a9bbae942a645b6a8689ff42b1b85be",
            "value": "100%"
          }
        },
        "d838f18d9f0d4caf9d8fcc5bf52be69a": {
          "model_module": "@jupyter-widgets/controls",
          "model_name": "FloatProgressModel",
          "model_module_version": "1.5.0",
          "state": {
            "_dom_classes": [],
            "_model_module": "@jupyter-widgets/controls",
            "_model_module_version": "1.5.0",
            "_model_name": "FloatProgressModel",
            "_view_count": null,
            "_view_module": "@jupyter-widgets/controls",
            "_view_module_version": "1.5.0",
            "_view_name": "ProgressView",
            "bar_style": "success",
            "description": "",
            "description_tooltip": null,
            "layout": "IPY_MODEL_d282e554e6e9431ebbd94a4d82948d1c",
            "max": 10,
            "min": 0,
            "orientation": "horizontal",
            "style": "IPY_MODEL_d0a47ff93ba44d85933d16271409b64f",
            "value": 10
          }
        },
        "9ed85f7015e04953abc50bea43b2e89b": {
          "model_module": "@jupyter-widgets/controls",
          "model_name": "HTMLModel",
          "model_module_version": "1.5.0",
          "state": {
            "_dom_classes": [],
            "_model_module": "@jupyter-widgets/controls",
            "_model_module_version": "1.5.0",
            "_model_name": "HTMLModel",
            "_view_count": null,
            "_view_module": "@jupyter-widgets/controls",
            "_view_module_version": "1.5.0",
            "_view_name": "HTMLView",
            "description": "",
            "description_tooltip": null,
            "layout": "IPY_MODEL_8d260a54f73f443889dd9e8207169073",
            "placeholder": "​",
            "style": "IPY_MODEL_dc6bd678171c497785610c5db1fa5922",
            "value": " 10/10 [01:20&lt;00:00,  7.27s/it]"
          }
        },
        "74981dfa42fb419981f58b8bf5ad3944": {
          "model_module": "@jupyter-widgets/base",
          "model_name": "LayoutModel",
          "model_module_version": "1.2.0",
          "state": {
            "_model_module": "@jupyter-widgets/base",
            "_model_module_version": "1.2.0",
            "_model_name": "LayoutModel",
            "_view_count": null,
            "_view_module": "@jupyter-widgets/base",
            "_view_module_version": "1.2.0",
            "_view_name": "LayoutView",
            "align_content": null,
            "align_items": null,
            "align_self": null,
            "border": null,
            "bottom": null,
            "display": null,
            "flex": null,
            "flex_flow": null,
            "grid_area": null,
            "grid_auto_columns": null,
            "grid_auto_flow": null,
            "grid_auto_rows": null,
            "grid_column": null,
            "grid_gap": null,
            "grid_row": null,
            "grid_template_areas": null,
            "grid_template_columns": null,
            "grid_template_rows": null,
            "height": null,
            "justify_content": null,
            "justify_items": null,
            "left": null,
            "margin": null,
            "max_height": null,
            "max_width": null,
            "min_height": null,
            "min_width": null,
            "object_fit": null,
            "object_position": null,
            "order": null,
            "overflow": null,
            "overflow_x": null,
            "overflow_y": null,
            "padding": null,
            "right": null,
            "top": null,
            "visibility": null,
            "width": null
          }
        },
        "101705d6d0434f19ad619c4d2f56e95e": {
          "model_module": "@jupyter-widgets/base",
          "model_name": "LayoutModel",
          "model_module_version": "1.2.0",
          "state": {
            "_model_module": "@jupyter-widgets/base",
            "_model_module_version": "1.2.0",
            "_model_name": "LayoutModel",
            "_view_count": null,
            "_view_module": "@jupyter-widgets/base",
            "_view_module_version": "1.2.0",
            "_view_name": "LayoutView",
            "align_content": null,
            "align_items": null,
            "align_self": null,
            "border": null,
            "bottom": null,
            "display": null,
            "flex": null,
            "flex_flow": null,
            "grid_area": null,
            "grid_auto_columns": null,
            "grid_auto_flow": null,
            "grid_auto_rows": null,
            "grid_column": null,
            "grid_gap": null,
            "grid_row": null,
            "grid_template_areas": null,
            "grid_template_columns": null,
            "grid_template_rows": null,
            "height": null,
            "justify_content": null,
            "justify_items": null,
            "left": null,
            "margin": null,
            "max_height": null,
            "max_width": null,
            "min_height": null,
            "min_width": null,
            "object_fit": null,
            "object_position": null,
            "order": null,
            "overflow": null,
            "overflow_x": null,
            "overflow_y": null,
            "padding": null,
            "right": null,
            "top": null,
            "visibility": null,
            "width": null
          }
        },
        "9a9bbae942a645b6a8689ff42b1b85be": {
          "model_module": "@jupyter-widgets/controls",
          "model_name": "DescriptionStyleModel",
          "model_module_version": "1.5.0",
          "state": {
            "_model_module": "@jupyter-widgets/controls",
            "_model_module_version": "1.5.0",
            "_model_name": "DescriptionStyleModel",
            "_view_count": null,
            "_view_module": "@jupyter-widgets/base",
            "_view_module_version": "1.2.0",
            "_view_name": "StyleView",
            "description_width": ""
          }
        },
        "d282e554e6e9431ebbd94a4d82948d1c": {
          "model_module": "@jupyter-widgets/base",
          "model_name": "LayoutModel",
          "model_module_version": "1.2.0",
          "state": {
            "_model_module": "@jupyter-widgets/base",
            "_model_module_version": "1.2.0",
            "_model_name": "LayoutModel",
            "_view_count": null,
            "_view_module": "@jupyter-widgets/base",
            "_view_module_version": "1.2.0",
            "_view_name": "LayoutView",
            "align_content": null,
            "align_items": null,
            "align_self": null,
            "border": null,
            "bottom": null,
            "display": null,
            "flex": null,
            "flex_flow": null,
            "grid_area": null,
            "grid_auto_columns": null,
            "grid_auto_flow": null,
            "grid_auto_rows": null,
            "grid_column": null,
            "grid_gap": null,
            "grid_row": null,
            "grid_template_areas": null,
            "grid_template_columns": null,
            "grid_template_rows": null,
            "height": null,
            "justify_content": null,
            "justify_items": null,
            "left": null,
            "margin": null,
            "max_height": null,
            "max_width": null,
            "min_height": null,
            "min_width": null,
            "object_fit": null,
            "object_position": null,
            "order": null,
            "overflow": null,
            "overflow_x": null,
            "overflow_y": null,
            "padding": null,
            "right": null,
            "top": null,
            "visibility": null,
            "width": null
          }
        },
        "d0a47ff93ba44d85933d16271409b64f": {
          "model_module": "@jupyter-widgets/controls",
          "model_name": "ProgressStyleModel",
          "model_module_version": "1.5.0",
          "state": {
            "_model_module": "@jupyter-widgets/controls",
            "_model_module_version": "1.5.0",
            "_model_name": "ProgressStyleModel",
            "_view_count": null,
            "_view_module": "@jupyter-widgets/base",
            "_view_module_version": "1.2.0",
            "_view_name": "StyleView",
            "bar_color": null,
            "description_width": ""
          }
        },
        "8d260a54f73f443889dd9e8207169073": {
          "model_module": "@jupyter-widgets/base",
          "model_name": "LayoutModel",
          "model_module_version": "1.2.0",
          "state": {
            "_model_module": "@jupyter-widgets/base",
            "_model_module_version": "1.2.0",
            "_model_name": "LayoutModel",
            "_view_count": null,
            "_view_module": "@jupyter-widgets/base",
            "_view_module_version": "1.2.0",
            "_view_name": "LayoutView",
            "align_content": null,
            "align_items": null,
            "align_self": null,
            "border": null,
            "bottom": null,
            "display": null,
            "flex": null,
            "flex_flow": null,
            "grid_area": null,
            "grid_auto_columns": null,
            "grid_auto_flow": null,
            "grid_auto_rows": null,
            "grid_column": null,
            "grid_gap": null,
            "grid_row": null,
            "grid_template_areas": null,
            "grid_template_columns": null,
            "grid_template_rows": null,
            "height": null,
            "justify_content": null,
            "justify_items": null,
            "left": null,
            "margin": null,
            "max_height": null,
            "max_width": null,
            "min_height": null,
            "min_width": null,
            "object_fit": null,
            "object_position": null,
            "order": null,
            "overflow": null,
            "overflow_x": null,
            "overflow_y": null,
            "padding": null,
            "right": null,
            "top": null,
            "visibility": null,
            "width": null
          }
        },
        "dc6bd678171c497785610c5db1fa5922": {
          "model_module": "@jupyter-widgets/controls",
          "model_name": "DescriptionStyleModel",
          "model_module_version": "1.5.0",
          "state": {
            "_model_module": "@jupyter-widgets/controls",
            "_model_module_version": "1.5.0",
            "_model_name": "DescriptionStyleModel",
            "_view_count": null,
            "_view_module": "@jupyter-widgets/base",
            "_view_module_version": "1.2.0",
            "_view_name": "StyleView",
            "description_width": ""
          }
        }
      }
    }
  },
  "nbformat": 4,
  "nbformat_minor": 0
}
