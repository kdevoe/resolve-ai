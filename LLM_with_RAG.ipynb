{
  "nbformat": 4,
  "nbformat_minor": 0,
  "metadata": {
    "colab": {
      "provenance": []
    },
    "kernelspec": {
      "name": "python3",
      "display_name": "Python 3"
    },
    "language_info": {
      "name": "python"
    }
  },
  "cells": [
    {
      "cell_type": "markdown",
      "source": [
        "# RAG Implementation for Customer Support\n",
        "\n",
        "This notebook implements an LLM using RAG on a customer support dataset. This system is designed to provide answers for simple, low priority questions from a user."
      ],
      "metadata": {
        "id": "SZyTXjKazzsl"
      }
    },
    {
      "cell_type": "markdown",
      "source": [
        "## Imports and Loading Data"
      ],
      "metadata": {
        "id": "d8LjSzG5z5Ls"
      }
    },
    {
      "cell_type": "code",
      "execution_count": 1,
      "metadata": {
        "id": "8fZJMrV8j8pM"
      },
      "outputs": [],
      "source": [
        "!pip install kagglehub[pandas-datasets] --quiet\n",
        "!pip install -U langchain-community --quiet\n",
        "!pip install tiktoken --quiet #Needed for chromadb\n",
        "!pip install chromadb --quiet\n",
        "!pip install rouge_score --quiet"
      ]
    },
    {
      "cell_type": "code",
      "source": [
        "# Install dependencies as needed:\n",
        "import kagglehub\n",
        "from kagglehub import KaggleDatasetAdapter\n",
        "\n",
        "import pandas as pd\n",
        "\n",
        "from langchain.chains import RetrievalQA\n",
        "from langchain.chat_models import ChatOpenAI\n",
        "from langchain.document_loaders import DataFrameLoader\n",
        "from langchain.embeddings import OpenAIEmbeddings\n",
        "from langchain.vectorstores import Chroma\n",
        "\n",
        "import numpy as np\n",
        "\n",
        "import matplotlib.pyplot as plt\n",
        "\n",
        "from sklearn.model_selection import train_test_split"
      ],
      "metadata": {
        "id": "NCSBeVNVkw9c"
      },
      "execution_count": 2,
      "outputs": []
    },
    {
      "cell_type": "code",
      "source": [
        "file_path = \"dataset-tickets-multi-lang-4-20k.csv\"\n",
        "\n",
        "# Load the latest version\n",
        "df = kagglehub.load_dataset(\n",
        "  KaggleDatasetAdapter.PANDAS,\n",
        "  \"tobiasbueck/multilingual-customer-support-tickets\",\n",
        "  file_path,\n",
        ")"
      ],
      "metadata": {
        "colab": {
          "base_uri": "https://localhost:8080/"
        },
        "id": "ZSwYLkT-kzcb",
        "outputId": "3b33c837-a488-47ae-aed3-2acc4441d198"
      },
      "execution_count": 3,
      "outputs": [
        {
          "output_type": "stream",
          "name": "stderr",
          "text": [
            "<ipython-input-3-3398c303bdef>:4: DeprecationWarning: load_dataset is deprecated and will be removed in future version.\n",
            "  df = kagglehub.load_dataset(\n"
          ]
        }
      ]
    },
    {
      "cell_type": "code",
      "source": [
        "# Checking data types of the variables\n",
        "df.info()"
      ],
      "metadata": {
        "colab": {
          "base_uri": "https://localhost:8080/"
        },
        "id": "zBGdKxIjk17f",
        "outputId": "47933b99-c07b-43e0-b414-4875fa100c17"
      },
      "execution_count": 4,
      "outputs": [
        {
          "output_type": "stream",
          "name": "stdout",
          "text": [
            "<class 'pandas.core.frame.DataFrame'>\n",
            "RangeIndex: 20000 entries, 0 to 19999\n",
            "Data columns (total 15 columns):\n",
            " #   Column    Non-Null Count  Dtype \n",
            "---  ------    --------------  ----- \n",
            " 0   subject   18539 non-null  object\n",
            " 1   body      19998 non-null  object\n",
            " 2   answer    19996 non-null  object\n",
            " 3   type      20000 non-null  object\n",
            " 4   queue     20000 non-null  object\n",
            " 5   priority  20000 non-null  object\n",
            " 6   language  20000 non-null  object\n",
            " 7   tag_1     20000 non-null  object\n",
            " 8   tag_2     19954 non-null  object\n",
            " 9   tag_3     19905 non-null  object\n",
            " 10  tag_4     18461 non-null  object\n",
            " 11  tag_5     13091 non-null  object\n",
            " 12  tag_6     7351 non-null   object\n",
            " 13  tag_7     3928 non-null   object\n",
            " 14  tag_8     1907 non-null   object\n",
            "dtypes: object(15)\n",
            "memory usage: 2.3+ MB\n"
          ]
        }
      ]
    },
    {
      "cell_type": "code",
      "source": [
        "df = df[df['language'] == 'en']\n",
        "\n",
        "# Check for non-string items in body\n",
        "\n",
        "non_string_body = df[~df['body'].apply(lambda x: isinstance(x, str))].index\n",
        "non_string_answers = df[~df['answer'].apply(lambda x: isinstance(x, str))].index\n",
        "\n",
        "non_string_ids = non_string_body.union(non_string_answers)\n",
        "\n",
        "print(\"Indices with non-string values body or answer:\", non_string_ids.tolist())\n",
        "\n",
        "# Drop those rows\n",
        "df = df.drop(index=non_string_ids)\n",
        "\n",
        "df['q_and_a'] = 'Question: ' + df['body'] + ' Answer: ' + df['answer']\n",
        "\n",
        "df.head()"
      ],
      "metadata": {
        "colab": {
          "base_uri": "https://localhost:8080/",
          "height": 713
        },
        "id": "OFSNhZRUmMf1",
        "outputId": "b4f621fe-eb27-4011-b6b4-5320c287a283"
      },
      "execution_count": 5,
      "outputs": [
        {
          "output_type": "stream",
          "name": "stdout",
          "text": [
            "Indices with non-string values body or answer: [2281, 8891, 14050, 17687]\n"
          ]
        },
        {
          "output_type": "execute_result",
          "data": {
            "text/plain": [
              "                                             subject  \\\n",
              "1                           Customer Support Inquiry   \n",
              "2                      Data Analytics for Investment   \n",
              "4                                           Security   \n",
              "5  Concerns About Securing Medical Data on 2-in-1...   \n",
              "7                           Problem with Integration   \n",
              "\n",
              "                                                body  \\\n",
              "1  Seeking information on digital strategies that...   \n",
              "2  I am contacting you to request information on ...   \n",
              "4  Dear Customer Support, I am reaching out to in...   \n",
              "5  Inquiring about best practices for securing me...   \n",
              "7  The integration stopped working unexpectedly, ...   \n",
              "\n",
              "                                              answer     type  \\\n",
              "1  We offer a variety of digital strategies and s...  Request   \n",
              "2  I am here to assist you with data analytics to...  Request   \n",
              "4  Dear [name], we take the security of medical d...  Request   \n",
              "5  Thank you for your concern regarding securing ...  Request   \n",
              "7  I will look into the problem and call you at <...  Problem   \n",
              "\n",
              "               queue priority language      tag_1        tag_2       tag_3  \\\n",
              "1   Customer Service   medium       en   Feedback        Sales          IT   \n",
              "2   Customer Service   medium       en  Technical      Product    Guidance   \n",
              "4   Customer Service   medium       en   Security     Customer  Compliance   \n",
              "5  Technical Support   medium       en   Security      Product     Feature   \n",
              "7         IT Support     high       en  Technical  Integration         Bug   \n",
              "\n",
              "           tag_4          tag_5          tag_6 tag_7 tag_8  \\\n",
              "1   Tech Support            NaN            NaN   NaN   NaN   \n",
              "2  Documentation    Performance        Feature   NaN   NaN   \n",
              "4         Breach  Documentation       Guidance   NaN   NaN   \n",
              "5             IT   Tech Support            NaN   NaN   NaN   \n",
              "7     Resolution         Outage  Documentation   NaN   NaN   \n",
              "\n",
              "                                             q_and_a  \n",
              "1  Question: Seeking information on digital strat...  \n",
              "2  Question: I am contacting you to request infor...  \n",
              "4  Question: Dear Customer Support, I am reaching...  \n",
              "5  Question: Inquiring about best practices for s...  \n",
              "7  Question: The integration stopped working unex...  "
            ],
            "text/html": [
              "\n",
              "  <div id=\"df-955c0022-1339-415f-8f52-faf77d105283\" class=\"colab-df-container\">\n",
              "    <div>\n",
              "<style scoped>\n",
              "    .dataframe tbody tr th:only-of-type {\n",
              "        vertical-align: middle;\n",
              "    }\n",
              "\n",
              "    .dataframe tbody tr th {\n",
              "        vertical-align: top;\n",
              "    }\n",
              "\n",
              "    .dataframe thead th {\n",
              "        text-align: right;\n",
              "    }\n",
              "</style>\n",
              "<table border=\"1\" class=\"dataframe\">\n",
              "  <thead>\n",
              "    <tr style=\"text-align: right;\">\n",
              "      <th></th>\n",
              "      <th>subject</th>\n",
              "      <th>body</th>\n",
              "      <th>answer</th>\n",
              "      <th>type</th>\n",
              "      <th>queue</th>\n",
              "      <th>priority</th>\n",
              "      <th>language</th>\n",
              "      <th>tag_1</th>\n",
              "      <th>tag_2</th>\n",
              "      <th>tag_3</th>\n",
              "      <th>tag_4</th>\n",
              "      <th>tag_5</th>\n",
              "      <th>tag_6</th>\n",
              "      <th>tag_7</th>\n",
              "      <th>tag_8</th>\n",
              "      <th>q_and_a</th>\n",
              "    </tr>\n",
              "  </thead>\n",
              "  <tbody>\n",
              "    <tr>\n",
              "      <th>1</th>\n",
              "      <td>Customer Support Inquiry</td>\n",
              "      <td>Seeking information on digital strategies that...</td>\n",
              "      <td>We offer a variety of digital strategies and s...</td>\n",
              "      <td>Request</td>\n",
              "      <td>Customer Service</td>\n",
              "      <td>medium</td>\n",
              "      <td>en</td>\n",
              "      <td>Feedback</td>\n",
              "      <td>Sales</td>\n",
              "      <td>IT</td>\n",
              "      <td>Tech Support</td>\n",
              "      <td>NaN</td>\n",
              "      <td>NaN</td>\n",
              "      <td>NaN</td>\n",
              "      <td>NaN</td>\n",
              "      <td>Question: Seeking information on digital strat...</td>\n",
              "    </tr>\n",
              "    <tr>\n",
              "      <th>2</th>\n",
              "      <td>Data Analytics for Investment</td>\n",
              "      <td>I am contacting you to request information on ...</td>\n",
              "      <td>I am here to assist you with data analytics to...</td>\n",
              "      <td>Request</td>\n",
              "      <td>Customer Service</td>\n",
              "      <td>medium</td>\n",
              "      <td>en</td>\n",
              "      <td>Technical</td>\n",
              "      <td>Product</td>\n",
              "      <td>Guidance</td>\n",
              "      <td>Documentation</td>\n",
              "      <td>Performance</td>\n",
              "      <td>Feature</td>\n",
              "      <td>NaN</td>\n",
              "      <td>NaN</td>\n",
              "      <td>Question: I am contacting you to request infor...</td>\n",
              "    </tr>\n",
              "    <tr>\n",
              "      <th>4</th>\n",
              "      <td>Security</td>\n",
              "      <td>Dear Customer Support, I am reaching out to in...</td>\n",
              "      <td>Dear [name], we take the security of medical d...</td>\n",
              "      <td>Request</td>\n",
              "      <td>Customer Service</td>\n",
              "      <td>medium</td>\n",
              "      <td>en</td>\n",
              "      <td>Security</td>\n",
              "      <td>Customer</td>\n",
              "      <td>Compliance</td>\n",
              "      <td>Breach</td>\n",
              "      <td>Documentation</td>\n",
              "      <td>Guidance</td>\n",
              "      <td>NaN</td>\n",
              "      <td>NaN</td>\n",
              "      <td>Question: Dear Customer Support, I am reaching...</td>\n",
              "    </tr>\n",
              "    <tr>\n",
              "      <th>5</th>\n",
              "      <td>Concerns About Securing Medical Data on 2-in-1...</td>\n",
              "      <td>Inquiring about best practices for securing me...</td>\n",
              "      <td>Thank you for your concern regarding securing ...</td>\n",
              "      <td>Request</td>\n",
              "      <td>Technical Support</td>\n",
              "      <td>medium</td>\n",
              "      <td>en</td>\n",
              "      <td>Security</td>\n",
              "      <td>Product</td>\n",
              "      <td>Feature</td>\n",
              "      <td>IT</td>\n",
              "      <td>Tech Support</td>\n",
              "      <td>NaN</td>\n",
              "      <td>NaN</td>\n",
              "      <td>NaN</td>\n",
              "      <td>Question: Inquiring about best practices for s...</td>\n",
              "    </tr>\n",
              "    <tr>\n",
              "      <th>7</th>\n",
              "      <td>Problem with Integration</td>\n",
              "      <td>The integration stopped working unexpectedly, ...</td>\n",
              "      <td>I will look into the problem and call you at &lt;...</td>\n",
              "      <td>Problem</td>\n",
              "      <td>IT Support</td>\n",
              "      <td>high</td>\n",
              "      <td>en</td>\n",
              "      <td>Technical</td>\n",
              "      <td>Integration</td>\n",
              "      <td>Bug</td>\n",
              "      <td>Resolution</td>\n",
              "      <td>Outage</td>\n",
              "      <td>Documentation</td>\n",
              "      <td>NaN</td>\n",
              "      <td>NaN</td>\n",
              "      <td>Question: The integration stopped working unex...</td>\n",
              "    </tr>\n",
              "  </tbody>\n",
              "</table>\n",
              "</div>\n",
              "    <div class=\"colab-df-buttons\">\n",
              "\n",
              "  <div class=\"colab-df-container\">\n",
              "    <button class=\"colab-df-convert\" onclick=\"convertToInteractive('df-955c0022-1339-415f-8f52-faf77d105283')\"\n",
              "            title=\"Convert this dataframe to an interactive table.\"\n",
              "            style=\"display:none;\">\n",
              "\n",
              "  <svg xmlns=\"http://www.w3.org/2000/svg\" height=\"24px\" viewBox=\"0 -960 960 960\">\n",
              "    <path d=\"M120-120v-720h720v720H120Zm60-500h600v-160H180v160Zm220 220h160v-160H400v160Zm0 220h160v-160H400v160ZM180-400h160v-160H180v160Zm440 0h160v-160H620v160ZM180-180h160v-160H180v160Zm440 0h160v-160H620v160Z\"/>\n",
              "  </svg>\n",
              "    </button>\n",
              "\n",
              "  <style>\n",
              "    .colab-df-container {\n",
              "      display:flex;\n",
              "      gap: 12px;\n",
              "    }\n",
              "\n",
              "    .colab-df-convert {\n",
              "      background-color: #E8F0FE;\n",
              "      border: none;\n",
              "      border-radius: 50%;\n",
              "      cursor: pointer;\n",
              "      display: none;\n",
              "      fill: #1967D2;\n",
              "      height: 32px;\n",
              "      padding: 0 0 0 0;\n",
              "      width: 32px;\n",
              "    }\n",
              "\n",
              "    .colab-df-convert:hover {\n",
              "      background-color: #E2EBFA;\n",
              "      box-shadow: 0px 1px 2px rgba(60, 64, 67, 0.3), 0px 1px 3px 1px rgba(60, 64, 67, 0.15);\n",
              "      fill: #174EA6;\n",
              "    }\n",
              "\n",
              "    .colab-df-buttons div {\n",
              "      margin-bottom: 4px;\n",
              "    }\n",
              "\n",
              "    [theme=dark] .colab-df-convert {\n",
              "      background-color: #3B4455;\n",
              "      fill: #D2E3FC;\n",
              "    }\n",
              "\n",
              "    [theme=dark] .colab-df-convert:hover {\n",
              "      background-color: #434B5C;\n",
              "      box-shadow: 0px 1px 3px 1px rgba(0, 0, 0, 0.15);\n",
              "      filter: drop-shadow(0px 1px 2px rgba(0, 0, 0, 0.3));\n",
              "      fill: #FFFFFF;\n",
              "    }\n",
              "  </style>\n",
              "\n",
              "    <script>\n",
              "      const buttonEl =\n",
              "        document.querySelector('#df-955c0022-1339-415f-8f52-faf77d105283 button.colab-df-convert');\n",
              "      buttonEl.style.display =\n",
              "        google.colab.kernel.accessAllowed ? 'block' : 'none';\n",
              "\n",
              "      async function convertToInteractive(key) {\n",
              "        const element = document.querySelector('#df-955c0022-1339-415f-8f52-faf77d105283');\n",
              "        const dataTable =\n",
              "          await google.colab.kernel.invokeFunction('convertToInteractive',\n",
              "                                                    [key], {});\n",
              "        if (!dataTable) return;\n",
              "\n",
              "        const docLinkHtml = 'Like what you see? Visit the ' +\n",
              "          '<a target=\"_blank\" href=https://colab.research.google.com/notebooks/data_table.ipynb>data table notebook</a>'\n",
              "          + ' to learn more about interactive tables.';\n",
              "        element.innerHTML = '';\n",
              "        dataTable['output_type'] = 'display_data';\n",
              "        await google.colab.output.renderOutput(dataTable, element);\n",
              "        const docLink = document.createElement('div');\n",
              "        docLink.innerHTML = docLinkHtml;\n",
              "        element.appendChild(docLink);\n",
              "      }\n",
              "    </script>\n",
              "  </div>\n",
              "\n",
              "\n",
              "<div id=\"df-1db1d5c2-28bb-4e3d-945b-90b4eb84d21b\">\n",
              "  <button class=\"colab-df-quickchart\" onclick=\"quickchart('df-1db1d5c2-28bb-4e3d-945b-90b4eb84d21b')\"\n",
              "            title=\"Suggest charts\"\n",
              "            style=\"display:none;\">\n",
              "\n",
              "<svg xmlns=\"http://www.w3.org/2000/svg\" height=\"24px\"viewBox=\"0 0 24 24\"\n",
              "     width=\"24px\">\n",
              "    <g>\n",
              "        <path d=\"M19 3H5c-1.1 0-2 .9-2 2v14c0 1.1.9 2 2 2h14c1.1 0 2-.9 2-2V5c0-1.1-.9-2-2-2zM9 17H7v-7h2v7zm4 0h-2V7h2v10zm4 0h-2v-4h2v4z\"/>\n",
              "    </g>\n",
              "</svg>\n",
              "  </button>\n",
              "\n",
              "<style>\n",
              "  .colab-df-quickchart {\n",
              "      --bg-color: #E8F0FE;\n",
              "      --fill-color: #1967D2;\n",
              "      --hover-bg-color: #E2EBFA;\n",
              "      --hover-fill-color: #174EA6;\n",
              "      --disabled-fill-color: #AAA;\n",
              "      --disabled-bg-color: #DDD;\n",
              "  }\n",
              "\n",
              "  [theme=dark] .colab-df-quickchart {\n",
              "      --bg-color: #3B4455;\n",
              "      --fill-color: #D2E3FC;\n",
              "      --hover-bg-color: #434B5C;\n",
              "      --hover-fill-color: #FFFFFF;\n",
              "      --disabled-bg-color: #3B4455;\n",
              "      --disabled-fill-color: #666;\n",
              "  }\n",
              "\n",
              "  .colab-df-quickchart {\n",
              "    background-color: var(--bg-color);\n",
              "    border: none;\n",
              "    border-radius: 50%;\n",
              "    cursor: pointer;\n",
              "    display: none;\n",
              "    fill: var(--fill-color);\n",
              "    height: 32px;\n",
              "    padding: 0;\n",
              "    width: 32px;\n",
              "  }\n",
              "\n",
              "  .colab-df-quickchart:hover {\n",
              "    background-color: var(--hover-bg-color);\n",
              "    box-shadow: 0 1px 2px rgba(60, 64, 67, 0.3), 0 1px 3px 1px rgba(60, 64, 67, 0.15);\n",
              "    fill: var(--button-hover-fill-color);\n",
              "  }\n",
              "\n",
              "  .colab-df-quickchart-complete:disabled,\n",
              "  .colab-df-quickchart-complete:disabled:hover {\n",
              "    background-color: var(--disabled-bg-color);\n",
              "    fill: var(--disabled-fill-color);\n",
              "    box-shadow: none;\n",
              "  }\n",
              "\n",
              "  .colab-df-spinner {\n",
              "    border: 2px solid var(--fill-color);\n",
              "    border-color: transparent;\n",
              "    border-bottom-color: var(--fill-color);\n",
              "    animation:\n",
              "      spin 1s steps(1) infinite;\n",
              "  }\n",
              "\n",
              "  @keyframes spin {\n",
              "    0% {\n",
              "      border-color: transparent;\n",
              "      border-bottom-color: var(--fill-color);\n",
              "      border-left-color: var(--fill-color);\n",
              "    }\n",
              "    20% {\n",
              "      border-color: transparent;\n",
              "      border-left-color: var(--fill-color);\n",
              "      border-top-color: var(--fill-color);\n",
              "    }\n",
              "    30% {\n",
              "      border-color: transparent;\n",
              "      border-left-color: var(--fill-color);\n",
              "      border-top-color: var(--fill-color);\n",
              "      border-right-color: var(--fill-color);\n",
              "    }\n",
              "    40% {\n",
              "      border-color: transparent;\n",
              "      border-right-color: var(--fill-color);\n",
              "      border-top-color: var(--fill-color);\n",
              "    }\n",
              "    60% {\n",
              "      border-color: transparent;\n",
              "      border-right-color: var(--fill-color);\n",
              "    }\n",
              "    80% {\n",
              "      border-color: transparent;\n",
              "      border-right-color: var(--fill-color);\n",
              "      border-bottom-color: var(--fill-color);\n",
              "    }\n",
              "    90% {\n",
              "      border-color: transparent;\n",
              "      border-bottom-color: var(--fill-color);\n",
              "    }\n",
              "  }\n",
              "</style>\n",
              "\n",
              "  <script>\n",
              "    async function quickchart(key) {\n",
              "      const quickchartButtonEl =\n",
              "        document.querySelector('#' + key + ' button');\n",
              "      quickchartButtonEl.disabled = true;  // To prevent multiple clicks.\n",
              "      quickchartButtonEl.classList.add('colab-df-spinner');\n",
              "      try {\n",
              "        const charts = await google.colab.kernel.invokeFunction(\n",
              "            'suggestCharts', [key], {});\n",
              "      } catch (error) {\n",
              "        console.error('Error during call to suggestCharts:', error);\n",
              "      }\n",
              "      quickchartButtonEl.classList.remove('colab-df-spinner');\n",
              "      quickchartButtonEl.classList.add('colab-df-quickchart-complete');\n",
              "    }\n",
              "    (() => {\n",
              "      let quickchartButtonEl =\n",
              "        document.querySelector('#df-1db1d5c2-28bb-4e3d-945b-90b4eb84d21b button');\n",
              "      quickchartButtonEl.style.display =\n",
              "        google.colab.kernel.accessAllowed ? 'block' : 'none';\n",
              "    })();\n",
              "  </script>\n",
              "</div>\n",
              "    </div>\n",
              "  </div>\n"
            ],
            "application/vnd.google.colaboratory.intrinsic+json": {
              "type": "dataframe",
              "variable_name": "df",
              "summary": "{\n  \"name\": \"df\",\n  \"rows\": 11919,\n  \"fields\": [\n    {\n      \"column\": \"subject\",\n      \"properties\": {\n        \"dtype\": \"string\",\n        \"num_unique_values\": 10888,\n        \"samples\": [\n          \"Security Incident: Exposure of Medical Records\",\n          \"Issues with Billing\",\n          \"Problem with Updating Investment Models Reported\"\n        ],\n        \"semantic_type\": \"\",\n        \"description\": \"\"\n      }\n    },\n    {\n      \"column\": \"body\",\n      \"properties\": {\n        \"dtype\": \"string\",\n        \"num_unique_values\": 11919,\n        \"samples\": [\n          \"Looking to integrate project management SaaS with Microsoft SQL Server 2019. Could you provide detailed information on how to accomplish this? I would greatly appreciate any relevant documentation, API guides, and setup tutorials to help me get started. Additionally, could you inform me about the specific system requirements and limitations when integrating Microsoft SQL Server 2019? I look forward to your response as we explore this solution for our SaaS project management needs.\",\n          \"There is an internal scheduling conflict because of inadequate management.\",\n          \"Facing difficulties with integrating QuickBooks Online with Smartsheet. The issue might be due to incompatible software updates. Despite trying to sync the applications and updating the software, the problem continues. I would greatly appreciate your guidance to resolve this issue. Please inform me if you need any additional information.\"\n        ],\n        \"semantic_type\": \"\",\n        \"description\": \"\"\n      }\n    },\n    {\n      \"column\": \"answer\",\n      \"properties\": {\n        \"dtype\": \"string\",\n        \"num_unique_values\": 11919,\n        \"samples\": [\n          \"We will provide API guides, setup tutorials, and relevant documentation to assist with integrating SaaS with Microsoft SQL Server 2019. Please allow us to send this information. You can also contact us at <tel_num> for a detailed discussion on system requirements and limitations.\",\n          \"Noted the email about the team meeting schedule arrangement issue. Please share more details about the conflict. I am ready to assist in resolving it as soon as possible.\",\n          \"We are here to help with the integration issue between QuickBooks Online and Smartsheet. To better assist you, could you please provide the version numbers of the applications and the exact error message you are receiving while attempting to sync? This information will help us determine the cause of the issue and provide a suitable solution. If needed, we can schedule a call at your convenience to discuss and work on resolving the problem. Please let me know a suitable time for contact at <tel_num>.\"\n        ],\n        \"semantic_type\": \"\",\n        \"description\": \"\"\n      }\n    },\n    {\n      \"column\": \"type\",\n      \"properties\": {\n        \"dtype\": \"category\",\n        \"num_unique_values\": 4,\n        \"samples\": [\n          \"Problem\",\n          \"Change\",\n          \"Request\"\n        ],\n        \"semantic_type\": \"\",\n        \"description\": \"\"\n      }\n    },\n    {\n      \"column\": \"queue\",\n      \"properties\": {\n        \"dtype\": \"category\",\n        \"num_unique_values\": 10,\n        \"samples\": [\n          \"Sales and Pre-Sales\",\n          \"Technical Support\",\n          \"Service Outages and Maintenance\"\n        ],\n        \"semantic_type\": \"\",\n        \"description\": \"\"\n      }\n    },\n    {\n      \"column\": \"priority\",\n      \"properties\": {\n        \"dtype\": \"category\",\n        \"num_unique_values\": 3,\n        \"samples\": [\n          \"medium\",\n          \"high\",\n          \"low\"\n        ],\n        \"semantic_type\": \"\",\n        \"description\": \"\"\n      }\n    },\n    {\n      \"column\": \"language\",\n      \"properties\": {\n        \"dtype\": \"category\",\n        \"num_unique_values\": 1,\n        \"samples\": [\n          \"en\"\n        ],\n        \"semantic_type\": \"\",\n        \"description\": \"\"\n      }\n    },\n    {\n      \"column\": \"tag_1\",\n      \"properties\": {\n        \"dtype\": \"category\",\n        \"num_unique_values\": 87,\n        \"samples\": [\n          \"Pricing\"\n        ],\n        \"semantic_type\": \"\",\n        \"description\": \"\"\n      }\n    },\n    {\n      \"column\": \"tag_2\",\n      \"properties\": {\n        \"dtype\": \"category\",\n        \"num_unique_values\": 176,\n        \"samples\": [\n          \"Campaign\"\n        ],\n        \"semantic_type\": \"\",\n        \"description\": \"\"\n      }\n    },\n    {\n      \"column\": \"tag_3\",\n      \"properties\": {\n        \"dtype\": \"category\",\n        \"num_unique_values\": 297,\n        \"samples\": [\n          \"Online\"\n        ],\n        \"semantic_type\": \"\",\n        \"description\": \"\"\n      }\n    },\n    {\n      \"column\": \"tag_4\",\n      \"properties\": {\n        \"dtype\": \"category\",\n        \"num_unique_values\": 400,\n        \"samples\": [\n          \"Ad\"\n        ],\n        \"semantic_type\": \"\",\n        \"description\": \"\"\n      }\n    },\n    {\n      \"column\": \"tag_5\",\n      \"properties\": {\n        \"dtype\": \"category\",\n        \"num_unique_values\": 477,\n        \"samples\": [\n          \"Tutorial\"\n        ],\n        \"semantic_type\": \"\",\n        \"description\": \"\"\n      }\n    },\n    {\n      \"column\": \"tag_6\",\n      \"properties\": {\n        \"dtype\": \"category\",\n        \"num_unique_values\": 468,\n        \"samples\": [\n          \"Real-time\"\n        ],\n        \"semantic_type\": \"\",\n        \"description\": \"\"\n      }\n    },\n    {\n      \"column\": \"tag_7\",\n      \"properties\": {\n        \"dtype\": \"category\",\n        \"num_unique_values\": 419,\n        \"samples\": [\n          \"SaaS\"\n        ],\n        \"semantic_type\": \"\",\n        \"description\": \"\"\n      }\n    },\n    {\n      \"column\": \"tag_8\",\n      \"properties\": {\n        \"dtype\": \"category\",\n        \"num_unique_values\": 332,\n        \"samples\": [\n          \"Keras\"\n        ],\n        \"semantic_type\": \"\",\n        \"description\": \"\"\n      }\n    },\n    {\n      \"column\": \"q_and_a\",\n      \"properties\": {\n        \"dtype\": \"string\",\n        \"num_unique_values\": 11919,\n        \"samples\": [\n          \"Question: Looking to integrate project management SaaS with Microsoft SQL Server 2019. Could you provide detailed information on how to accomplish this? I would greatly appreciate any relevant documentation, API guides, and setup tutorials to help me get started. Additionally, could you inform me about the specific system requirements and limitations when integrating Microsoft SQL Server 2019? I look forward to your response as we explore this solution for our SaaS project management needs. Answer: We will provide API guides, setup tutorials, and relevant documentation to assist with integrating SaaS with Microsoft SQL Server 2019. Please allow us to send this information. You can also contact us at <tel_num> for a detailed discussion on system requirements and limitations.\"\n        ],\n        \"semantic_type\": \"\",\n        \"description\": \"\"\n      }\n    }\n  ]\n}"
            }
          },
          "metadata": {},
          "execution_count": 5
        }
      ]
    },
    {
      "cell_type": "code",
      "source": [
        "df_train, df_holdout = train_test_split(df, test_size=0.2, random_state=42)\n",
        "df_val, df_test = train_test_split(df_holdout, test_size=0.5, random_state=42)\n",
        "\n",
        "print(f\"Train set size: {df_train.shape}\")\n",
        "print(f\"Validation set size: {df_val.shape}\")\n",
        "print(f\"Test set size: {df_test.shape}\")"
      ],
      "metadata": {
        "colab": {
          "base_uri": "https://localhost:8080/"
        },
        "id": "FyOKMlggle5c",
        "outputId": "5f70e3ae-e389-4090-d003-869a1c1194f4"
      },
      "execution_count": 6,
      "outputs": [
        {
          "output_type": "stream",
          "name": "stdout",
          "text": [
            "Train set size: (9535, 16)\n",
            "Validation set size: (1192, 16)\n",
            "Test set size: (1192, 16)\n"
          ]
        }
      ]
    },
    {
      "cell_type": "markdown",
      "source": [
        "## Ingest Documents and Setup Vector Database\n",
        "\n",
        "ChromaDB is used as the vector database that langchain will pull from when RAG is implemented"
      ],
      "metadata": {
        "id": "YnMAvgcL0RaY"
      }
    },
    {
      "cell_type": "code",
      "source": [
        "persist_directory = './chroma_db'\n",
        "!rm -rf ./chroma_db  # remove old database files if any"
      ],
      "metadata": {
        "id": "Cb-O_kSAnMwt"
      },
      "execution_count": 7,
      "outputs": []
    },
    {
      "cell_type": "code",
      "source": [
        "loader = DataFrameLoader(\n",
        "    df_train,\n",
        "    page_content_column=\"q_and_a\")\n",
        "documents = loader.load()"
      ],
      "metadata": {
        "id": "SSCMmPmHoGgr"
      },
      "execution_count": 8,
      "outputs": []
    },
    {
      "cell_type": "code",
      "source": [
        "from google.colab import userdata\n",
        "openai_api_key = userdata.get('openai_api_key')"
      ],
      "metadata": {
        "id": "2UWFvUkktkri"
      },
      "execution_count": 9,
      "outputs": []
    },
    {
      "cell_type": "code",
      "source": [
        "embedding = OpenAIEmbeddings(openai_api_key=openai_api_key)"
      ],
      "metadata": {
        "id": "rksY-Gh4sLNt",
        "colab": {
          "base_uri": "https://localhost:8080/"
        },
        "outputId": "48823641-db26-4817-8342-272a7f0055c5"
      },
      "execution_count": 10,
      "outputs": [
        {
          "output_type": "stream",
          "name": "stderr",
          "text": [
            "<ipython-input-10-9f298750086e>:1: LangChainDeprecationWarning: The class `OpenAIEmbeddings` was deprecated in LangChain 0.0.9 and will be removed in 1.0. An updated version of the class exists in the :class:`~langchain-openai package and should be used instead. To use it run `pip install -U :class:`~langchain-openai` and import as `from :class:`~langchain_openai import OpenAIEmbeddings``.\n",
            "  embedding = OpenAIEmbeddings(openai_api_key=openai_api_key)\n"
          ]
        }
      ]
    },
    {
      "cell_type": "code",
      "source": [
        "vectordb = Chroma.from_documents(\n",
        "    documents=documents,\n",
        "    embedding=embedding,\n",
        "    persist_directory=persist_directory\n",
        ")"
      ],
      "metadata": {
        "id": "6WIOOv3Buihc"
      },
      "execution_count": 11,
      "outputs": []
    },
    {
      "cell_type": "markdown",
      "source": [
        "## LLM Integration and Validation"
      ],
      "metadata": {
        "id": "B_UZY88k0dE_"
      }
    },
    {
      "cell_type": "code",
      "source": [
        "llm_name = \"gpt-3.5-turbo\"\n",
        "\n",
        "llm = ChatOpenAI(model_name=llm_name, temperature=0,\n",
        "                 openai_api_key=openai_api_key)"
      ],
      "metadata": {
        "id": "gLiQMBKhxOw8",
        "colab": {
          "base_uri": "https://localhost:8080/"
        },
        "outputId": "55e2267e-0e93-49f2-c5a8-bfcc81570758"
      },
      "execution_count": 12,
      "outputs": [
        {
          "output_type": "stream",
          "name": "stderr",
          "text": [
            "<ipython-input-12-77231ad7f76d>:3: LangChainDeprecationWarning: The class `ChatOpenAI` was deprecated in LangChain 0.0.10 and will be removed in 1.0. An updated version of the class exists in the :class:`~langchain-openai package and should be used instead. To use it run `pip install -U :class:`~langchain-openai` and import as `from :class:`~langchain_openai import ChatOpenAI``.\n",
            "  llm = ChatOpenAI(model_name=llm_name, temperature=0,\n"
          ]
        }
      ]
    },
    {
      "cell_type": "markdown",
      "source": [
        "A subset of the validation and test dataset are used for evaluation. This is done primarly to reduce the number of calls to the OpenAI API and minimize cost for evaluation."
      ],
      "metadata": {
        "id": "kj3D0NHME-FM"
      }
    },
    {
      "cell_type": "code",
      "source": [
        "# Retrieve a random subset from the validation dataset\n",
        "\n",
        "val_subset = df_val.sample(10).reset_index()"
      ],
      "metadata": {
        "id": "9lFck7HBArrF"
      },
      "execution_count": 13,
      "outputs": []
    },
    {
      "cell_type": "markdown",
      "source": [
        "Basic parameters were selected for both temperature and k number of examples to use in RAG. We tried between 0 and 0.7 temperature as 0 may make for a more predictable technical support chatbot and 0.7 is a common industry value.\n",
        "\n",
        "For k values we kept it low between 1 and 5 to make sure all response fit in the context window."
      ],
      "metadata": {
        "id": "zTZfudC0FL76"
      }
    },
    {
      "cell_type": "code",
      "source": [
        "temps = [0, 0.3, 0.7]\n",
        "k_vals = [1, 3, 5]"
      ],
      "metadata": {
        "id": "dkagwxJmB_NL"
      },
      "execution_count": 14,
      "outputs": []
    },
    {
      "cell_type": "markdown",
      "source": [
        "Rouge score is calculated to judge the similarity between the models output and the true answer in the customer support database."
      ],
      "metadata": {
        "id": "L-Y5cFGqEgkY"
      }
    },
    {
      "cell_type": "code",
      "source": [
        "from rouge_score import rouge_scorer\n",
        "import statistics\n",
        "\n",
        "def get_rogue(qa_chain, dataset):\n",
        "\n",
        "  score_1 = []\n",
        "  score_2 = []\n",
        "  score_L = []\n",
        "\n",
        "  scorer = rouge_scorer.RougeScorer(['rouge1', 'rouge2', 'rougeL'], use_stemmer=True)\n",
        "\n",
        "  for index, row in dataset.iterrows():\n",
        "    question = row['body']\n",
        "    answer = row['answer']\n",
        "\n",
        "    response = qa_chain({\"query\": question})['result']\n",
        "\n",
        "    scores = scorer.score(answer, response)\n",
        "\n",
        "    score_1.append(scores['rouge1'][2])\n",
        "    score_2.append(scores['rouge2'][2])\n",
        "    score_L.append(scores['rougeL'][2])\n",
        "\n",
        "  return statistics.mean(score_1), statistics.mean(score_2), statistics.mean(score_L)\n",
        "\n",
        "\n"
      ],
      "metadata": {
        "id": "UPP8QqfFCb8R"
      },
      "execution_count": 15,
      "outputs": []
    },
    {
      "cell_type": "code",
      "source": [
        "rouge1_all = []\n",
        "rouge2_all = []\n",
        "rougeL_all = []\n",
        "\n",
        "for temp in temps:\n",
        "    for k in k_vals:\n",
        "\n",
        "        llm = ChatOpenAI(model_name=llm_name, temperature=temp,\n",
        "                  openai_api_key=openai_api_key)\n",
        "\n",
        "        qa_chain = RetrievalQA.from_chain_type(\n",
        "          llm,\n",
        "          retriever=vectordb.as_retriever(search_kwargs={\"k\": k}))\n",
        "\n",
        "        scores = get_rogue(qa_chain, val_subset)\n",
        "        print(f\"\"\"temp: {temp} k: {k} rouge1: {scores[0]:.2f} rouge2: {scores[1]:.2f} rougeL: {scores[2]:.2f}\"\"\")\n",
        "        rouge1_all.append(scores[0])\n",
        "        rouge2_all.append(scores[1])\n",
        "        rougeL_all.append(scores[2])\n",
        ""
      ],
      "metadata": {
        "colab": {
          "base_uri": "https://localhost:8080/"
        },
        "id": "koE-1Pp6_wPb",
        "outputId": "75349f0e-4ee3-4238-c5cd-dcaeabe43365"
      },
      "execution_count": 21,
      "outputs": [
        {
          "output_type": "stream",
          "name": "stdout",
          "text": [
            "temp: 0 k: 1 rouge1: 0.74 rouge2: 0.58 rougeL: 0.68\n",
            "temp: 0 k: 3 rouge1: 0.72 rouge2: 0.56 rougeL: 0.65\n",
            "temp: 0 k: 5 rouge1: 0.70 rouge2: 0.56 rougeL: 0.65\n",
            "temp: 0.3 k: 1 rouge1: 0.74 rouge2: 0.58 rougeL: 0.68\n",
            "temp: 0.3 k: 3 rouge1: 0.67 rouge2: 0.50 rougeL: 0.60\n",
            "temp: 0.3 k: 5 rouge1: 0.70 rouge2: 0.55 rougeL: 0.65\n",
            "temp: 0.7 k: 1 rouge1: 0.75 rouge2: 0.58 rougeL: 0.68\n",
            "temp: 0.7 k: 3 rouge1: 0.72 rouge2: 0.55 rougeL: 0.66\n",
            "temp: 0.7 k: 5 rouge1: 0.66 rouge2: 0.49 rougeL: 0.60\n"
          ]
        }
      ]
    },
    {
      "cell_type": "code",
      "source": [
        "import numpy as np\n",
        "import pandas as pd\n",
        "import seaborn as sns\n",
        "import matplotlib.pyplot as plt\n",
        "\n",
        "x = np.repeat(temps, 3)\n",
        "y = np.tile(k_vals, 3)\n",
        "\n",
        "# Create DataFrame (rouge1)\n",
        "df = pd.DataFrame({'x': x, 'y': y, 'z': rouge1_all})\n",
        "matrix = df.pivot(index='y', columns='x', values='z')\n",
        "\n",
        "# Create heatmap\n",
        "ax = sns.heatmap(matrix, annot=True, cmap='Blues')\n",
        "ax.set_xlabel('Temperature')\n",
        "ax.set_ylabel('k-value')\n",
        "ax.set_title('Rogue 1 Scores')\n",
        "plt.show()\n",
        "\n",
        "# Create DataFrame (rouge2)\n",
        "df = pd.DataFrame({'x': x, 'y': y, 'z': rouge2_all})\n",
        "matrix = df.pivot(index='y', columns='x', values='z')\n",
        "\n",
        "# Create heatmap\n",
        "ax = sns.heatmap(matrix, annot=True, cmap='Blues')\n",
        "ax.set_xlabel('Temperature')\n",
        "ax.set_ylabel('k-value')\n",
        "ax.set_title('Rogue 2 Scores')\n",
        "print()\n",
        "plt.show()\n",
        "\n",
        "# Create DataFrame (rougeL)\n",
        "df = pd.DataFrame({'x': x, 'y': y, 'z': rougeL_all})\n",
        "matrix = df.pivot(index='y', columns='x', values='z')\n",
        "\n",
        "# Create heatmap\n",
        "ax = sns.heatmap(matrix, annot=True, cmap='Blues')\n",
        "ax.set_xlabel('Temperature')\n",
        "ax.set_ylabel('k-value')\n",
        "ax.set_title('Rogue L Scores')\n",
        "print()\n",
        "plt.show()"
      ],
      "metadata": {
        "colab": {
          "base_uri": "https://localhost:8080/",
          "height": 1000
        },
        "id": "ZAdt8VTWB90s",
        "outputId": "67076433-8f15-4e01-c58a-98c6a3201e29"
      },
      "execution_count": 17,
      "outputs": [
        {
          "output_type": "display_data",
          "data": {
            "text/plain": [
              "<Figure size 640x480 with 2 Axes>"
            ],
            "image/png": "[encoded data removed]"
          },
          "metadata": {}
        },
        {
          "output_type": "stream",
          "name": "stdout",
          "text": [
            "\n"
          ]
        },
        {
          "output_type": "display_data",
          "data": {
            "text/plain": [
              "<Figure size 640x480 with 2 Axes>"
            ],
            "image/png": "[encoded data removed]"
          },
          "metadata": {}
        },
        {
          "output_type": "stream",
          "name": "stdout",
          "text": [
            "\n"
          ]
        },
        {
          "output_type": "display_data",
          "data": {
            "text/plain": [
              "<Figure size 640x480 with 2 Axes>"
            ],
            "image/png": "[encoded data removed]"
          },
          "metadata": {}
        }
      ]
    },
    {
      "cell_type": "markdown",
      "source": [
        "Rogue scores showed the best response at k=5 and temp=7. While response at these values was slight worse for Rouge1, RougeL showed a better response. RougeL was prioritized as it gave a good indication of the overall structure of responses instead of focusing on only keywords."
      ],
      "metadata": {
        "id": "G8K-KyM_Fqow"
      }
    },
    {
      "cell_type": "markdown",
      "source": [
        "### Final Evaluation on Test Set"
      ],
      "metadata": {
        "id": "mCRgcxo_KFW-"
      }
    },
    {
      "cell_type": "markdown",
      "source": [
        "#### Rouge test set scores"
      ],
      "metadata": {
        "id": "Pr-TR-6h2_2a"
      }
    },
    {
      "cell_type": "code",
      "source": [
        "best_temp = 0.7\n",
        "best_k = 5\n",
        "\n",
        "test_subset = df_test.sample(10).reset_index()\n",
        "\n",
        "llm = ChatOpenAI(model_name=llm_name, temperature=best_temp,\n",
        "                  openai_api_key=openai_api_key)\n",
        "\n",
        "qa_chain = RetrievalQA.from_chain_type(\n",
        "          llm,\n",
        "          retriever=vectordb.as_retriever(search_kwargs={\"k\": best_k}))\n",
        "\n",
        "scores = get_rogue(qa_chain, val_subset)\n",
        "print(f\"Test set scores for best set, k={best_k}, temp={best_temp}:\")\n",
        "print(f\"\"\"rouge1: {scores[0]:.2f} rouge2: {scores[1]:.2f} rougeL: {scores[2]:.2f}\"\"\")"
      ],
      "metadata": {
        "colab": {
          "base_uri": "https://localhost:8080/"
        },
        "id": "9ABzgXmTKHdA",
        "outputId": "e6225f54-38fd-4d52-f780-b588cac0cee6"
      },
      "execution_count": 27,
      "outputs": [
        {
          "output_type": "stream",
          "name": "stdout",
          "text": [
            "Test set scores for best set, k=5, temp=0.7:\n",
            "rouge1: 0.70 rouge2: 0.56 rougeL: 0.65\n"
          ]
        }
      ]
    },
    {
      "cell_type": "markdown",
      "source": [
        "A minor drop in rouge scores was seen as expected when switching from the validation to test dataset."
      ],
      "metadata": {
        "id": "1rYVZbBzIHJa"
      }
    },
    {
      "cell_type": "markdown",
      "source": [
        "#### Test dataset example questions and answers"
      ],
      "metadata": {
        "id": "rjc1nDzw3Erh"
      }
    },
    {
      "cell_type": "code",
      "source": [
        "test_subset = df_test.sample(3).reset_index()\n",
        "\n",
        "import textwrap\n",
        "\n",
        "def wrap_text(text, width=70):\n",
        "  wrapped_text = textwrap.fill(text, width=width)\n",
        "  return wrapped_text\n",
        "\n",
        "for index, row in test_subset.iterrows():\n",
        "\n",
        "    question = row['body']\n",
        "    answer = row['answer']\n",
        "\n",
        "    response = qa_chain({\"query\": question})['result']\n",
        "\n",
        "    print(\"Question: \", wrap_text(question))\n",
        "    print()\n",
        "    print(\"True Answer: \", wrap_text(answer))\n",
        "    print()\n",
        "    print(\"Model Response: \", wrap_text(response))\n",
        "\n",
        "    print('\\n' + \"-\" * 50 + '\\n')\n",
        "\n",
        ""
      ],
      "metadata": {
        "colab": {
          "base_uri": "https://localhost:8080/"
        },
        "id": "7ullxYkB2-g-",
        "outputId": "49deef32-abe9-4e47-eaf9-be1757a149b7"
      },
      "execution_count": 28,
      "outputs": [
        {
          "output_type": "stream",
          "name": "stdout",
          "text": [
            "Question:  Hello Customer Support, I am contacting you to seek information about\n",
            "the integrations compatible with your project management software. I\n",
            "am particularly interested in knowing which tools and platforms your\n",
            "system can connect with, such as Google Drive, Trello, or Slack. I\n",
            "would also like to know if your software provides APIs or webhooks for\n",
            "creating custom integrations. Could you give me a detailed list of all\n",
            "integrations and any associated documentation or resources for setting\n",
            "them up? It would be helpful to have information on the integration\n",
            "process, including any specific requirements or limitations.\n",
            "Furthermore, I am curious about any planned future integrations or\n",
            "details of your roadmap for upcoming features. I appreciate your time\n",
            "and look forward to your response. Kind regards, [Your Name]\n",
            "\n",
            "True Answer:  Hello [Your Name], thank you for your query. Our project management\n",
            "software supports integrations with Google Drive, Trello, and Slack,\n",
            "along with other platforms. We also offer APIs and webhooks for custom\n",
            "integrations. I can furnish you with a list of all integrations and\n",
            "relevant documentation. Please let me know if you prefer to receive\n",
            "this information via email or if you would like a callback at\n",
            "[tel_num] to discuss further.\n",
            "\n",
            "Model Response:  Hello [Your Name], thank you for reaching out to us regarding the\n",
            "integrations for our project management software. Our system supports\n",
            "integrations with popular tools and platforms like Google Drive,\n",
            "Trello, and Slack. We do offer APIs and webhooks for creating custom\n",
            "integrations. I can provide you with a comprehensive list of all\n",
            "available integrations and the necessary documentation for setting\n",
            "them up. Additionally, I can share details about the integration\n",
            "process, including any requirements or limitations. As for future\n",
            "plans, we are continuously working on expanding our integrations, and\n",
            "our roadmap includes new features to enhance the user experience.\n",
            "Please let me know if you prefer to receive this information via email\n",
            "or if you would like to schedule a call for further discussion. Thank\n",
            "you for your inquiry, and we look forward to assisting you.\n",
            "\n",
            "--------------------------------------------------\n",
            "\n",
            "Question:  The secure connection was unexpectedly lost. This may be due to an\n",
            "outdated motherboard driver. Already attempted restarting the system\n",
            "and updating the driver.\n",
            "\n",
            "True Answer:  Hello <name>, we are sorry for the trouble you experienced with data\n",
            "encryption. We are glad to hear that you have already tried the\n",
            "troubleshooting steps. To assist you better, could you provide the\n",
            "specific error message and your current driver version? If needed, we\n",
            "can arrange a call at a time that suits you to guide you through\n",
            "updating the driver or explore other solutions for your <acc_num>.\n",
            "Please inform us of a convenient time to contact you at <tel_num>.\n",
            "\n",
            "Model Response:  Hello <name>, we regret the troubles you've experienced with the data\n",
            "encryption. We value the efforts you've made so far in\n",
            "troubleshooting. To better assist you, could you share the specific\n",
            "error message and the current driver version? If needed, we can\n",
            "arrange a call at your convenience to guide you through the driver\n",
            "update or find other solutions to address the issue with your\n",
            "<acc_num>. Please indicate a time that suits you to be contacted at\n",
            "<tel_num>.\n",
            "\n",
            "--------------------------------------------------\n",
            "\n",
            "Question:  I am reporting a sudden lack of access to medical records. This issue\n",
            "could be due to recent software compatibility issues. I have already\n",
            "attempted to restart the systems and verify the settings, but the\n",
            "problem still exists. I would greatly appreciate your assistance in\n",
            "looking into this and providing a solution as soon as possible. Please\n",
            "inform me if you need any further details from me to resolve this\n",
            "issue.\n",
            "\n",
            "True Answer:  I will investigate the access problem and call you at <tel_num> to\n",
            "gather more details needed to resolve it.\n",
            "\n",
            "Model Response:  I will investigate the loss of access to medical data and contact you\n",
            "at <tel_num> for any additional details required to resolve the issue.\n",
            "\n",
            "--------------------------------------------------\n",
            "\n"
          ]
        }
      ]
    },
    {
      "cell_type": "markdown",
      "source": [
        "A subjective analysis of random q and a samples within the test dataset shows the model responds overall fairly well. Overall tone matches with expected customer support examples. In addition the content of the responses matches is similar, for example in the first example the model correctly mentions API and webhook availability."
      ],
      "metadata": {
        "id": "wNY-JZy9HRDu"
      }
    }
  ]
}